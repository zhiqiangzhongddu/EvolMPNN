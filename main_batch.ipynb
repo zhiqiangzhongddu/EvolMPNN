{
 "cells": [
  {
   "cell_type": "code",
   "execution_count": 1,
   "outputs": [],
   "source": [
    "import os\n",
    "import torch\n",
    "import torch_geometric as tg\n",
    "from torch_geometric.utils import remove_self_loops, add_self_loops\n",
    "\n",
    "from data import load_data\n",
    "from graph_generator import HomologyGraphStats\n",
    "from build_pipeline import build_dataloader, build_model, build_optimizer\n",
    "from train_and_evaluate import train, evaluate\n",
    "from utils import parse_args, set_seed, check_adjmatrix, make_output_folder, get_root_logger, adj_mul, save_info\n",
    "\n",
    "import warnings\n",
    "warnings.filterwarnings('ignore')"
   ],
   "metadata": {
    "collapsed": false,
    "ExecuteTime": {
     "end_time": "2023-09-25T10:08:06.342441Z",
     "start_time": "2023-09-25T10:08:00.945776Z"
    }
   },
   "id": "7a4dad4d932bfdba"
  },
  {
   "cell_type": "code",
   "execution_count": 1,
   "outputs": [],
   "source": [],
   "metadata": {
    "collapsed": false,
    "ExecuteTime": {
     "end_time": "2023-09-25T10:08:06.343232Z",
     "start_time": "2023-09-25T10:08:02.557004Z"
    }
   },
   "id": "7cf49057c8b7369e"
  },
  {
   "cell_type": "code",
   "execution_count": 2,
   "outputs": [
    {
     "name": "stdout",
     "output_type": "stream",
     "text": [
      "10:08:02   Namespace(batch_size=256, dataset='GB1', device=device(type='cuda', index=0), encoder='ESM-1b', epochs=100, feature_generator='CNN', fine_tuned_generator=True, fix_encoder=True, fix_mlp=False, flow='source_to_target', force_undirected=False, former_layers=3, full_residue_feat=True, gnn='GCN', gnn_dropout=0.5, gnn_hid_channels=128, gnn_layers=2, gpu_id=0, homology='knn_fast', knn_k=10, lamda_edge=0.1, light_residue_feat=False, load_protein_feat=True, loop=True, lr=0.0001, lr_ratio=0.1, mlp_dropout=0, mlp_hid_channels=-1, mlp_layers=2, model='ResiduePMPNN', no_test_test=False, num_anchor=-1, num_heads=8, oh_residue_feat=False, only_from_train=False, optimizer='Adam', pretrained_encoder=True, pretrained_mlp=False, rb_order=0, seed=0, split='low_vs_high', tau=1.0, use_act=True, use_bn=True, use_edge_attr=False, use_edge_loss=False, use_jk=False, use_residual=True, weight_decay=0.005)\n"
     ]
    }
   ],
   "source": [
    "args = parse_args()\n",
    "set_seed(args.seed)\n",
    "\n",
    "args.gpu_id = 0\n",
    "args.batch_size = 256\n",
    "args.dataset = \"GB1\" # GB1, Fluorescence, AAV\n",
    "args.split = \"low_vs_high\"\n",
    "args.feature_generator = \"CNN\"\n",
    "args.model = \"ResiduePMPNN\"\n",
    "args.fine_tuned_generator = True\n",
    "args.light_residue_feat = False\n",
    "args.oh_residue_feat = False\n",
    "args.full_residue_feat = True\n",
    "args.former_layers = 3\n",
    "args.gnn_layers = 2\n",
    "args.knn_k = 10\n",
    "\n",
    "args.device = torch.device(\n",
    "    'cuda:%s' % args.gpu_id if torch.cuda.is_available() else 'cpu'\n",
    ")\n",
    "output_folder = make_output_folder(args=args)\n",
    "logger = get_root_logger(folder=output_folder)\n",
    "logger.warning(args)"
   ],
   "metadata": {
    "collapsed": false,
    "ExecuteTime": {
     "end_time": "2023-09-25T10:08:06.343594Z",
     "start_time": "2023-09-25T10:08:02.565278Z"
    }
   },
   "id": "1969c9051152aef4"
  },
  {
   "cell_type": "code",
   "execution_count": 2,
   "outputs": [],
   "source": [],
   "metadata": {
    "collapsed": false,
    "ExecuteTime": {
     "end_time": "2023-09-25T10:08:06.343693Z",
     "start_time": "2023-09-25T10:08:02.594387Z"
    }
   },
   "id": "cb4feebbd1571f17"
  },
  {
   "cell_type": "code",
   "execution_count": 3,
   "outputs": [
    {
     "name": "stdout",
     "output_type": "stream",
     "text": [
      "10:08:02   processing protein features\n",
      "10:08:02   Loaded protein feature at /home/zhiqiang/Homology-PyG/input/protein_features/protein_features_GB1_CNN_low_vs_high.pt\n",
      "10:08:02   processing residue features\n",
      "10:08:21   There is no fine-tuned parameters, use original parameters.\n"
     ]
    },
    {
     "name": "stderr",
     "output_type": "stream",
     "text": [
      "Loading residue pretrained embedding from ESM-1b: 100%|██████████| 69/69 [03:41<00:00,  3.21s/it]\n"
     ]
    },
    {
     "name": "stdout",
     "output_type": "stream",
     "text": [
      "10:12:03   Data(x=[8733, 1024], y=[8733, 1], train_mask=[8733], valid_mask=[8733], test_mask=[8733], num_nodes=8733, residue_dim=1280)\n"
     ]
    }
   ],
   "source": [
    "# set up dataset\n",
    "data, protein_feature, residue_feature, sequences, wt_sequence, similarity_matrix = load_data(\n",
    "    args=args, logger=logger, load_protein_feat=args.load_protein_feat,\n",
    "    feature_generator=args.feature_generator, pretrained=args.fine_tuned_generator,\n",
    "    oh_residue_feat=args.oh_residue_feat, full_residue_feat=args.full_residue_feat\n",
    ")\n",
    "args.wt_index = sequences.index(wt_sequence)\n",
    "\n",
    "# print(\"is saving feat file\")\n",
    "# torch.save(residue_feature, \"../input/residue_features_%s-%s.pt\" % (args.dataset, args.split))\n",
    "\n",
    "if args.model in [\"Gnn\", \"Avg\", \"GnnMlp\", \"Transformer\", \"NodeFormer\",\n",
    "                  \"ResidueMPNN\", \"ResidueFormer\"]:\n",
    "    logger.warning(\"Initialising graph structure.\")\n",
    "    homology_stats_graph = HomologyGraphStats(\n",
    "        dataset=args.dataset, homology=args.homology, knn_k=args.knn_k, loop=args.loop, flow=args.flow,\n",
    "        force_undirected=args.force_undirected,\n",
    "        only_from_train=args.only_from_train, no_test_test=args.no_test_test,\n",
    "        train_mask=data.train_mask, valid_mask=data.valid_mask, test_mask=data.test_mask\n",
    "    )\n",
    "    data.edge_index, data.edge_attr = homology_stats_graph(x=data.x, logger=logger, similarity_matrix=similarity_matrix)\n",
    "    logger.warning(\"Average in-degree: %s\" % tg.utils.degree(data.edge_index[1]).mean().item())\n",
    "    logger.warning(check_adjmatrix(data))\n",
    "\n",
    "if args.batch_size > 0:\n",
    "    train_loader, valid_loader, test_loader = build_dataloader(\n",
    "        data=data, batch_size=args.batch_size, num_neighbors=[-1], shuffle=True\n",
    "    )\n",
    "    if args.model in [\"NodeFormer\", \"ResidueFormer\"]:\n",
    "        for loader in [train_loader, valid_loader, test_loader]:\n",
    "            for idx, batch in enumerate(loader):\n",
    "                ### Adj storage for relational bias ###\n",
    "                adjs = []\n",
    "                adj, _ = remove_self_loops(batch.edge_index)\n",
    "                adj, _ = add_self_loops(adj, num_nodes=batch.num_nodes)\n",
    "                adjs.append(adj)\n",
    "                for i in range(args.rb_order - 1): # edge_index of high order adjacency\n",
    "                    adj = adj_mul(adj, adj, batch.num_nodes)\n",
    "                    adjs.append(adj)\n",
    "                batch.adjs = adjs\n",
    "                loader[idx] = batch\n",
    "else:\n",
    "    train_loader, valid_loader, test_loader = None, None, None\n",
    "    if args.model in [\"NodeFormer\", \"ResidueFormer\"]:\n",
    "        ### Adj storage for relational bias ###\n",
    "        adjs = []\n",
    "        adj, _ = remove_self_loops(data.edge_index)\n",
    "        adj, _ = add_self_loops(adj, num_nodes=data.num_nodes)\n",
    "        adjs.append(adj)\n",
    "        for i in range(args.rb_order - 1):  # edge_index of high order adjacency\n",
    "            adj = adj_mul(adj, adj, data.num_nodes)\n",
    "            adjs.append(adj)\n",
    "        data.adjs = adjs\n",
    "\n",
    "if args.model in [\"ResidueMPNN\", \"ResiduePMPNN\", \"ResidueCnnPMPNN\", \"ResidueFormer\", \"ResiduePFormer\"]:\n",
    "    args.num_residue = max([len(seq) for seq in sequences])\n",
    "    args.num_sequences = len(sequences)\n",
    "logger.warning(data)"
   ],
   "metadata": {
    "collapsed": false,
    "ExecuteTime": {
     "end_time": "2023-09-25T10:12:06.387838Z",
     "start_time": "2023-09-25T10:08:02.594491Z"
    }
   },
   "id": "2ed68bca90a29c8f"
  },
  {
   "cell_type": "code",
   "execution_count": 3,
   "outputs": [],
   "source": [],
   "metadata": {
    "collapsed": false,
    "ExecuteTime": {
     "end_time": "2023-09-25T10:12:06.389243Z",
     "start_time": "2023-09-25T10:12:03.419072Z"
    }
   },
   "id": "32ef36e8466442f4"
  },
  {
   "cell_type": "code",
   "execution_count": 4,
   "outputs": [
    {
     "name": "stdout",
     "output_type": "stream",
     "text": [
      "10:12:03   ResiduePMPNN(\n",
      "  (lin_x_residue): Linear(in_features=1280, out_features=128, bias=True)\n",
      "  (lin_x_seq): Linear(in_features=1024, out_features=128, bias=True)\n",
      "  (residue_formers): ModuleList(\n",
      "    (0): ResidueFormerConv(\n",
      "      (Wk): Linear(in_features=128, out_features=512, bias=True)\n",
      "      (Wq): Linear(in_features=128, out_features=512, bias=True)\n",
      "      (Wv): Linear(in_features=128, out_features=512, bias=True)\n",
      "      (Wo): Linear(in_features=512, out_features=128, bias=True)\n",
      "    )\n",
      "    (1): ResidueFormerConv(\n",
      "      (Wk): Linear(in_features=128, out_features=512, bias=True)\n",
      "      (Wq): Linear(in_features=128, out_features=512, bias=True)\n",
      "      (Wv): Linear(in_features=128, out_features=512, bias=True)\n",
      "      (Wo): Linear(in_features=512, out_features=128, bias=True)\n",
      "    )\n",
      "    (2): ResidueFormerConv(\n",
      "      (Wk): Linear(in_features=128, out_features=512, bias=True)\n",
      "      (Wq): Linear(in_features=128, out_features=512, bias=True)\n",
      "      (Wv): Linear(in_features=128, out_features=512, bias=True)\n",
      "      (Wo): Linear(in_features=512, out_features=128, bias=True)\n",
      "    )\n",
      "  )\n",
      "  (residue_bns): ModuleList(\n",
      "    (0): LayerNorm((128,), eps=1e-05, elementwise_affine=True)\n",
      "    (1): LayerNorm((128,), eps=1e-05, elementwise_affine=True)\n",
      "    (2): LayerNorm((128,), eps=1e-05, elementwise_affine=True)\n",
      "    (3): LayerNorm((128,), eps=1e-05, elementwise_affine=True)\n",
      "  )\n",
      "  (seq_bns): ModuleList(\n",
      "    (0): LayerNorm((128,), eps=1e-05, elementwise_affine=True)\n",
      "    (1): LayerNorm((128,), eps=1e-05, elementwise_affine=True)\n",
      "    (2): LayerNorm((128,), eps=1e-05, elementwise_affine=True)\n",
      "  )\n",
      "  (convs): ModuleList(\n",
      "    (0): ResiduePMPNNConv(\n",
      "      (lin_z_seq): Linear(in_features=256, out_features=128, bias=True)\n",
      "    )\n",
      "    (1): ResiduePMPNNConv(\n",
      "      (lin_z_seq): Linear(in_features=256, out_features=128, bias=True)\n",
      "    )\n",
      "  )\n",
      "  (lin_out): Linear(in_features=256, out_features=1, bias=True)\n",
      ")\n"
     ]
    }
   ],
   "source": [
    "# set up model\n",
    "model = build_model(\n",
    "    args=args, in_channels=data.num_features, residue_dim=data.residue_dim, out_channels=data.y.size(1), logger=logger,\n",
    ").to(args.device)\n",
    "logger.warning(model)\n",
    "optimizer = build_optimizer(args=args, model=model, logger=logger)"
   ],
   "metadata": {
    "collapsed": false,
    "ExecuteTime": {
     "end_time": "2023-09-25T10:12:06.389593Z",
     "start_time": "2023-09-25T10:12:03.422185Z"
    }
   },
   "id": "29512b0e43180ef8"
  },
  {
   "cell_type": "code",
   "execution_count": 4,
   "outputs": [],
   "source": [],
   "metadata": {
    "collapsed": false,
    "ExecuteTime": {
     "end_time": "2023-09-25T10:12:06.389721Z",
     "start_time": "2023-09-25T10:12:03.468199Z"
    }
   },
   "id": "dfe8b471159d6d55"
  },
  {
   "cell_type": "code",
   "execution_count": 5,
   "outputs": [
    {
     "name": "stdout",
     "output_type": "stream",
     "text": [
      "10:12:16   epoch 1, loss 0.31415\n",
      "10:12:20   updating best performance.\n",
      "10:12:23   epoch 1, train 0.84274, valid 0.81858, test 0.38659\n",
      "10:12:36   epoch 2, loss 0.11884\n",
      "10:12:40   updating best performance.\n",
      "10:12:43   epoch 2, train 0.85382, valid 0.82592, test 0.43144\n",
      "10:12:56   epoch 3, loss 0.08198\n",
      "10:13:00   updating best performance.\n",
      "10:13:03   epoch 3, train 0.85603, valid 0.82594, test 0.44679\n",
      "10:13:16   epoch 4, loss 0.06684\n",
      "10:13:20   updating best performance.\n",
      "10:13:23   epoch 4, train 0.85839, valid 0.82705, test 0.46354\n",
      "10:13:37   epoch 5, loss 0.05754\n",
      "10:13:40   updating best performance.\n",
      "10:13:43   epoch 5, train 0.86073, valid 0.82848, test 0.47847\n",
      "10:13:56   epoch 6, loss 0.05082\n",
      "10:14:00   updating best performance.\n",
      "10:14:03   epoch 6, train 0.86279, valid 0.82951, test 0.49040\n",
      "10:14:16   epoch 7, loss 0.04565\n",
      "10:14:20   updating best performance.\n",
      "10:14:23   epoch 7, train 0.86461, valid 0.83093, test 0.49972\n",
      "10:14:37   epoch 8, loss 0.04148\n",
      "10:14:40   updating best performance.\n",
      "10:14:43   epoch 8, train 0.86634, valid 0.83142, test 0.50761\n",
      "10:14:57   epoch 9, loss 0.03802\n",
      "10:15:00   updating best performance.\n",
      "10:15:03   epoch 9, train 0.86807, valid 0.83247, test 0.51458\n",
      "10:15:17   epoch 10, loss 0.03505\n",
      "10:15:21   updating best performance.\n",
      "10:15:24   epoch 10, train 0.86974, valid 0.83349, test 0.52037\n",
      "10:15:37   epoch 11, loss 0.03245\n",
      "10:15:41   updating best performance.\n",
      "10:15:44   epoch 11, train 0.87131, valid 0.83427, test 0.52538\n",
      "10:15:57   epoch 12, loss 0.03015\n",
      "10:16:01   updating best performance.\n",
      "10:16:04   epoch 12, train 0.87284, valid 0.83504, test 0.53005\n",
      "10:16:17   epoch 13, loss 0.02808\n",
      "10:16:21   updating best performance.\n",
      "10:16:24   epoch 13, train 0.87438, valid 0.83590, test 0.53431\n",
      "10:16:37   epoch 14, loss 0.02621\n",
      "10:16:41   updating best performance.\n",
      "10:16:44   epoch 14, train 0.87590, valid 0.83663, test 0.53817\n",
      "10:16:57   epoch 15, loss 0.02451\n",
      "10:17:01   updating best performance.\n",
      "10:17:04   epoch 15, train 0.87737, valid 0.83746, test 0.54192\n",
      "10:17:17   epoch 16, loss 0.02296\n",
      "10:17:21   updating best performance.\n",
      "10:17:24   epoch 16, train 0.87876, valid 0.83791, test 0.54536\n",
      "10:17:37   epoch 17, loss 0.02153\n",
      "10:17:41   updating best performance.\n",
      "10:17:44   epoch 17, train 0.88007, valid 0.83828, test 0.54823\n",
      "10:17:57   epoch 18, loss 0.02020\n",
      "10:18:01   updating best performance.\n",
      "10:18:04   epoch 18, train 0.88136, valid 0.83849, test 0.55078\n",
      "10:18:17   epoch 19, loss 0.01899\n",
      "10:18:21   updating best performance.\n",
      "10:18:24   epoch 19, train 0.88245, valid 0.83907, test 0.55289\n",
      "10:18:37   epoch 20, loss 0.01788\n",
      "10:18:41   updating best performance.\n",
      "10:18:44   epoch 20, train 0.88344, valid 0.83921, test 0.55467\n",
      "10:18:57   epoch 21, loss 0.01685\n",
      "10:19:01   updating best performance.\n",
      "10:19:04   epoch 21, train 0.88438, valid 0.83934, test 0.55604\n",
      "10:19:17   epoch 22, loss 0.01591\n",
      "10:19:21   updating best performance.\n",
      "10:19:24   epoch 22, train 0.88523, valid 0.83962, test 0.55709\n",
      "10:19:37   epoch 23, loss 0.01504\n",
      "10:19:41   updating best performance.\n",
      "10:19:44   epoch 23, train 0.88600, valid 0.83965, test 0.55793\n",
      "10:19:57   epoch 24, loss 0.01423\n",
      "10:20:01   updating best performance.\n",
      "10:20:04   epoch 24, train 0.88672, valid 0.83988, test 0.55850\n",
      "10:20:17   epoch 25, loss 0.01349\n",
      "10:20:21   updating best performance.\n",
      "10:20:24   epoch 25, train 0.88737, valid 0.83994, test 0.55891\n",
      "10:20:37   epoch 26, loss 0.01280\n",
      "10:20:41   updating best performance.\n",
      "10:20:44   epoch 26, train 0.88792, valid 0.84024, test 0.55917\n",
      "10:20:57   epoch 27, loss 0.01215\n"
     ]
    },
    {
     "ename": "KeyboardInterrupt",
     "evalue": "",
     "output_type": "error",
     "traceback": [
      "\u001B[0;31m---------------------------------------------------------------------------\u001B[0m",
      "\u001B[0;31mKeyboardInterrupt\u001B[0m                         Traceback (most recent call last)",
      "Cell \u001B[0;32mIn[5], line 18\u001B[0m\n\u001B[1;32m     15\u001B[0m logger\u001B[38;5;241m.\u001B[39mwarning(\u001B[38;5;124m\"\u001B[39m\u001B[38;5;124mepoch \u001B[39m\u001B[38;5;132;01m{}\u001B[39;00m\u001B[38;5;124m, loss \u001B[39m\u001B[38;5;132;01m{:.5f}\u001B[39;00m\u001B[38;5;124m\"\u001B[39m\u001B[38;5;241m.\u001B[39mformat(epoch, loss))\n\u001B[1;32m     17\u001B[0m \u001B[38;5;28;01mif\u001B[39;00m args\u001B[38;5;241m.\u001B[39mbatch_size \u001B[38;5;241m>\u001B[39m \u001B[38;5;241m0\u001B[39m:\n\u001B[0;32m---> 18\u001B[0m     train_score \u001B[38;5;241m=\u001B[39m \u001B[43mevaluate\u001B[49m\u001B[43m(\u001B[49m\n\u001B[1;32m     19\u001B[0m \u001B[43m        \u001B[49m\u001B[43margs\u001B[49m\u001B[38;5;241;43m=\u001B[39;49m\u001B[43margs\u001B[49m\u001B[43m,\u001B[49m\u001B[43m \u001B[49m\u001B[43mdata\u001B[49m\u001B[38;5;241;43m=\u001B[39;49m\u001B[43mtrain_loader\u001B[49m\u001B[43m,\u001B[49m\u001B[43m \u001B[49m\u001B[43mmodel\u001B[49m\u001B[38;5;241;43m=\u001B[39;49m\u001B[43mmodel\u001B[49m\u001B[43m,\u001B[49m\n\u001B[1;32m     20\u001B[0m \u001B[43m        \u001B[49m\u001B[43mprotein_feature\u001B[49m\u001B[38;5;241;43m=\u001B[39;49m\u001B[43mprotein_feature\u001B[49m\u001B[43m,\u001B[49m\u001B[43m \u001B[49m\u001B[43mresidue_feature\u001B[49m\u001B[38;5;241;43m=\u001B[39;49m\u001B[43mresidue_feature\u001B[49m\u001B[43m,\u001B[49m\n\u001B[1;32m     21\u001B[0m \u001B[43m        \u001B[49m\u001B[43msequences\u001B[49m\u001B[38;5;241;43m=\u001B[39;49m\u001B[43msequences\u001B[49m\u001B[43m,\u001B[49m\u001B[43m \u001B[49m\u001B[43mdevice\u001B[49m\u001B[38;5;241;43m=\u001B[39;49m\u001B[43margs\u001B[49m\u001B[38;5;241;43m.\u001B[39;49m\u001B[43mdevice\u001B[49m\n\u001B[1;32m     22\u001B[0m \u001B[43m    \u001B[49m\u001B[43m)\u001B[49m\n\u001B[1;32m     23\u001B[0m     valid_score \u001B[38;5;241m=\u001B[39m evaluate(\n\u001B[1;32m     24\u001B[0m         args\u001B[38;5;241m=\u001B[39margs, data\u001B[38;5;241m=\u001B[39mvalid_loader, model\u001B[38;5;241m=\u001B[39mmodel,\n\u001B[1;32m     25\u001B[0m         protein_feature\u001B[38;5;241m=\u001B[39mprotein_feature, residue_feature\u001B[38;5;241m=\u001B[39mresidue_feature,\n\u001B[1;32m     26\u001B[0m         sequences\u001B[38;5;241m=\u001B[39msequences, device\u001B[38;5;241m=\u001B[39margs\u001B[38;5;241m.\u001B[39mdevice\n\u001B[1;32m     27\u001B[0m     )\n\u001B[1;32m     28\u001B[0m \u001B[38;5;28;01melse\u001B[39;00m:\n",
      "File \u001B[0;32m~/miniconda3/envs/Homology/lib/python3.8/site-packages/torch/autograd/grad_mode.py:27\u001B[0m, in \u001B[0;36m_DecoratorContextManager.__call__.<locals>.decorate_context\u001B[0;34m(*args, **kwargs)\u001B[0m\n\u001B[1;32m     24\u001B[0m \u001B[38;5;129m@functools\u001B[39m\u001B[38;5;241m.\u001B[39mwraps(func)\n\u001B[1;32m     25\u001B[0m \u001B[38;5;28;01mdef\u001B[39;00m \u001B[38;5;21mdecorate_context\u001B[39m(\u001B[38;5;241m*\u001B[39margs, \u001B[38;5;241m*\u001B[39m\u001B[38;5;241m*\u001B[39mkwargs):\n\u001B[1;32m     26\u001B[0m     \u001B[38;5;28;01mwith\u001B[39;00m \u001B[38;5;28mself\u001B[39m\u001B[38;5;241m.\u001B[39mclone():\n\u001B[0;32m---> 27\u001B[0m         \u001B[38;5;28;01mreturn\u001B[39;00m \u001B[43mfunc\u001B[49m\u001B[43m(\u001B[49m\u001B[38;5;241;43m*\u001B[39;49m\u001B[43margs\u001B[49m\u001B[43m,\u001B[49m\u001B[43m \u001B[49m\u001B[38;5;241;43m*\u001B[39;49m\u001B[38;5;241;43m*\u001B[39;49m\u001B[43mkwargs\u001B[49m\u001B[43m)\u001B[49m\n",
      "File \u001B[0;32m~/Homology-PyG/code/train_and_evaluate.py:280\u001B[0m, in \u001B[0;36mevaluate\u001B[0;34m(args, data, protein_feature, residue_feature, model, target_index, sequences, device)\u001B[0m\n\u001B[1;32m    277\u001B[0m \u001B[38;5;28;01melse\u001B[39;00m:\n\u001B[1;32m    278\u001B[0m     batch_sequences \u001B[38;5;241m=\u001B[39m \u001B[38;5;28;01mNone\u001B[39;00m\n\u001B[0;32m--> 280\u001B[0m _pred \u001B[38;5;241m=\u001B[39m \u001B[43mevaluate_function\u001B[49m\u001B[43m(\u001B[49m\n\u001B[1;32m    281\u001B[0m \u001B[43m    \u001B[49m\u001B[43margs\u001B[49m\u001B[38;5;241;43m=\u001B[39;49m\u001B[43margs\u001B[49m\u001B[43m,\u001B[49m\u001B[43m \u001B[49m\u001B[43mdata\u001B[49m\u001B[38;5;241;43m=\u001B[39;49m\u001B[43mbatch\u001B[49m\u001B[43m,\u001B[49m\u001B[43m \u001B[49m\u001B[43mmodel\u001B[49m\u001B[38;5;241;43m=\u001B[39;49m\u001B[43mmodel\u001B[49m\u001B[43m,\u001B[49m\n\u001B[1;32m    282\u001B[0m \u001B[43m    \u001B[49m\u001B[43mprotein_feature\u001B[49m\u001B[38;5;241;43m=\u001B[39;49m\u001B[43mprotein_feature\u001B[49m\u001B[43m,\u001B[49m\u001B[43m \u001B[49m\u001B[43mresidue_feature\u001B[49m\u001B[38;5;241;43m=\u001B[39;49m\u001B[43mresidue_feature\u001B[49m\u001B[43m,\u001B[49m\u001B[43m \u001B[49m\u001B[43mn_id\u001B[49m\u001B[38;5;241;43m=\u001B[39;49m\u001B[43mbatch\u001B[49m\u001B[38;5;241;43m.\u001B[39;49m\u001B[43mn_id\u001B[49m\u001B[43m,\u001B[49m\n\u001B[1;32m    283\u001B[0m \u001B[43m    \u001B[49m\u001B[43msequences\u001B[49m\u001B[38;5;241;43m=\u001B[39;49m\u001B[43mbatch_sequences\u001B[49m\u001B[43m,\u001B[49m\u001B[43m \u001B[49m\u001B[43mdevice\u001B[49m\u001B[38;5;241;43m=\u001B[39;49m\u001B[43mdevice\u001B[49m\u001B[43m,\u001B[49m\n\u001B[1;32m    284\u001B[0m \u001B[43m\u001B[49m\u001B[43m)\u001B[49m\n\u001B[1;32m    285\u001B[0m preds\u001B[38;5;241m.\u001B[39mappend(_pred\u001B[38;5;241m.\u001B[39msqueeze(\u001B[38;5;241m-\u001B[39m\u001B[38;5;241m1\u001B[39m)[:batch\u001B[38;5;241m.\u001B[39mbatch_size])\n\u001B[1;32m    286\u001B[0m targets\u001B[38;5;241m.\u001B[39mappend(batch\u001B[38;5;241m.\u001B[39my\u001B[38;5;241m.\u001B[39msqueeze(\u001B[38;5;241m-\u001B[39m\u001B[38;5;241m1\u001B[39m)[:batch\u001B[38;5;241m.\u001B[39mbatch_size])\n",
      "File \u001B[0;32m~/miniconda3/envs/Homology/lib/python3.8/site-packages/torch/autograd/grad_mode.py:27\u001B[0m, in \u001B[0;36m_DecoratorContextManager.__call__.<locals>.decorate_context\u001B[0;34m(*args, **kwargs)\u001B[0m\n\u001B[1;32m     24\u001B[0m \u001B[38;5;129m@functools\u001B[39m\u001B[38;5;241m.\u001B[39mwraps(func)\n\u001B[1;32m     25\u001B[0m \u001B[38;5;28;01mdef\u001B[39;00m \u001B[38;5;21mdecorate_context\u001B[39m(\u001B[38;5;241m*\u001B[39margs, \u001B[38;5;241m*\u001B[39m\u001B[38;5;241m*\u001B[39mkwargs):\n\u001B[1;32m     26\u001B[0m     \u001B[38;5;28;01mwith\u001B[39;00m \u001B[38;5;28mself\u001B[39m\u001B[38;5;241m.\u001B[39mclone():\n\u001B[0;32m---> 27\u001B[0m         \u001B[38;5;28;01mreturn\u001B[39;00m \u001B[43mfunc\u001B[49m\u001B[43m(\u001B[49m\u001B[38;5;241;43m*\u001B[39;49m\u001B[43margs\u001B[49m\u001B[43m,\u001B[49m\u001B[43m \u001B[49m\u001B[38;5;241;43m*\u001B[39;49m\u001B[38;5;241;43m*\u001B[39;49m\u001B[43mkwargs\u001B[49m\u001B[43m)\u001B[49m\n",
      "File \u001B[0;32m~/Homology-PyG/code/train_and_evaluate.py:252\u001B[0m, in \u001B[0;36mevaluate_function\u001B[0;34m(***failed resolving arguments***)\u001B[0m\n\u001B[1;32m    250\u001B[0m proteins\u001B[38;5;241m.\u001B[39mto(\u001B[38;5;124m'\u001B[39m\u001B[38;5;124mcpu\u001B[39m\u001B[38;5;124m'\u001B[39m) \u001B[38;5;28;01mif\u001B[39;00m proteins \u001B[38;5;129;01mis\u001B[39;00m \u001B[38;5;129;01mnot\u001B[39;00m \u001B[38;5;28;01mNone\u001B[39;00m \u001B[38;5;28;01melse\u001B[39;00m \u001B[38;5;28;01mNone\u001B[39;00m\n\u001B[1;32m    251\u001B[0m \u001B[38;5;28;01mdel\u001B[39;00m data, proteins, protein_feature, residue_feature\n\u001B[0;32m--> 252\u001B[0m \u001B[43mtorch\u001B[49m\u001B[38;5;241;43m.\u001B[39;49m\u001B[43mcuda\u001B[49m\u001B[38;5;241;43m.\u001B[39;49m\u001B[43mempty_cache\u001B[49m\u001B[43m(\u001B[49m\u001B[43m)\u001B[49m\n\u001B[1;32m    254\u001B[0m \u001B[38;5;28;01mreturn\u001B[39;00m pred\u001B[38;5;241m.\u001B[39mcpu()\n",
      "File \u001B[0;32m~/miniconda3/envs/Homology/lib/python3.8/site-packages/torch/cuda/memory.py:121\u001B[0m, in \u001B[0;36mempty_cache\u001B[0;34m()\u001B[0m\n\u001B[1;32m    110\u001B[0m \u001B[38;5;250m\u001B[39m\u001B[38;5;124mr\u001B[39m\u001B[38;5;124;03m\"\"\"Releases all unoccupied cached memory currently held by the caching\u001B[39;00m\n\u001B[1;32m    111\u001B[0m \u001B[38;5;124;03mallocator so that those can be used in other GPU application and visible in\u001B[39;00m\n\u001B[1;32m    112\u001B[0m \u001B[38;5;124;03m`nvidia-smi`.\u001B[39;00m\n\u001B[0;32m   (...)\u001B[0m\n\u001B[1;32m    118\u001B[0m \u001B[38;5;124;03m    more details about GPU memory management.\u001B[39;00m\n\u001B[1;32m    119\u001B[0m \u001B[38;5;124;03m\"\"\"\u001B[39;00m\n\u001B[1;32m    120\u001B[0m \u001B[38;5;28;01mif\u001B[39;00m is_initialized():\n\u001B[0;32m--> 121\u001B[0m     \u001B[43mtorch\u001B[49m\u001B[38;5;241;43m.\u001B[39;49m\u001B[43m_C\u001B[49m\u001B[38;5;241;43m.\u001B[39;49m\u001B[43m_cuda_emptyCache\u001B[49m\u001B[43m(\u001B[49m\u001B[43m)\u001B[49m\n",
      "\u001B[0;31mKeyboardInterrupt\u001B[0m: "
     ]
    }
   ],
   "source": [
    "best_epoch = best_train = best_val = best_test = 0\n",
    "for epoch in range(1, args.epochs + 1):\n",
    "    if args.batch_size > 0:\n",
    "        loss, _, _ = train(\n",
    "            args=args, epoch=epoch, data=train_loader, model=model,\n",
    "            protein_feature=protein_feature, residue_feature=residue_feature,\n",
    "            optimizer=optimizer, sequences=sequences, device=args.device\n",
    "        )\n",
    "    else:\n",
    "        loss, _, _ = train(\n",
    "            args=args, epoch=epoch, data=data, model=model,\n",
    "            protein_feature=protein_feature, residue_feature=residue_feature,\n",
    "            optimizer=optimizer, sequences=sequences, device=args.device\n",
    "        )\n",
    "    logger.warning(\"epoch {}, loss {:.5f}\".format(epoch, loss))\n",
    "\n",
    "    if args.batch_size > 0:\n",
    "        train_score = evaluate(\n",
    "            args=args, data=train_loader, model=model,\n",
    "            protein_feature=protein_feature, residue_feature=residue_feature,\n",
    "            sequences=sequences, device=args.device\n",
    "        )\n",
    "        valid_score = evaluate(\n",
    "            args=args, data=valid_loader, model=model,\n",
    "            protein_feature=protein_feature, residue_feature=residue_feature,\n",
    "            sequences=sequences, device=args.device\n",
    "        )\n",
    "    else:\n",
    "        train_index = torch.nonzero(data.train_mask).squeeze()\n",
    "        train_score = evaluate(\n",
    "            args=args, data=data, model=model,\n",
    "            protein_feature=protein_feature, residue_feature=residue_feature,\n",
    "            target_index=train_index, sequences=sequences, device=args.device\n",
    "        )\n",
    "        valid_index = torch.nonzero(data.valid_mask).squeeze()\n",
    "        valid_score = evaluate(\n",
    "            args=args, data=data, model=model,\n",
    "            protein_feature=protein_feature, residue_feature=residue_feature,\n",
    "            target_index=valid_index, sequences=sequences, device=args.device\n",
    "        )\n",
    "\n",
    "    if valid_score > best_val:\n",
    "        logger.warning(\"updating best performance.\")\n",
    "        if args.batch_size > 0:\n",
    "            test_score = evaluate(\n",
    "                args=args, data=test_loader, model=model,\n",
    "                protein_feature=protein_feature, residue_feature=residue_feature,\n",
    "                sequences=sequences, device=args.device\n",
    "            )\n",
    "        else:\n",
    "            test_index = torch.nonzero(data.test_mask).squeeze()\n",
    "            test_score = evaluate(\n",
    "                args=args, data=data, model=model,\n",
    "                protein_feature=protein_feature, residue_feature=residue_feature,\n",
    "                target_index=test_index, sequences=sequences, device=args.device\n",
    "            )\n",
    "        best_epoch, best_train, best_val, best_test = epoch, train_score, valid_score, test_score\n",
    "        logger.warning(\"epoch {}, train {:.5f}, valid {:.5f}, test {:.5f}\".format(\n",
    "            best_epoch, train_score, best_val, best_test\n",
    "        ))\n",
    "        if test_score > 0.57:\n",
    "            break\n",
    "    else:\n",
    "        logger.warning(\"epoch {}, train {:.5f}, valid {:.5f}\".format(\n",
    "            epoch, train_score, valid_score\n",
    "        ))"
   ],
   "metadata": {
    "collapsed": false,
    "ExecuteTime": {
     "end_time": "2023-09-25T10:20:58.653731Z",
     "start_time": "2023-09-25T10:12:03.468805Z"
    }
   },
   "id": "e7cbf11c1e098dcb"
  },
  {
   "cell_type": "code",
   "execution_count": null,
   "outputs": [],
   "source": [],
   "metadata": {
    "collapsed": false,
    "ExecuteTime": {
     "start_time": "2023-09-25T10:20:58.640483Z"
    }
   },
   "id": "b5104ba92759ad28"
  },
  {
   "cell_type": "code",
   "execution_count": 11,
   "outputs": [],
   "source": [
    "from train_and_evaluate import evaluate_function\n",
    "\n",
    "preds = []\n",
    "targets = []\n",
    "\n",
    "for idx, batch in enumerate(test_loader):\n",
    "    if (\"llm\" in args.model.lower()) or (\"cnn\" in args.model.lower()) or (\"bert\" in args.model.lower()) or (\"protbert\" in args.model.lower()):\n",
    "        batch_sequences = [sequences[idx] for idx in batch.n_id]\n",
    "    else:\n",
    "        batch_sequences = None\n",
    "\n",
    "    _pred = evaluate_function(\n",
    "        args=args, data=batch, model=model,\n",
    "        protein_feature=protein_feature, residue_feature=residue_feature, n_id=batch.n_id,\n",
    "        sequences=batch_sequences, device=args.device,\n",
    "    )\n",
    "    preds.append(_pred.squeeze(-1)[:batch.batch_size])\n",
    "    targets.append(batch.y.squeeze(-1)[:batch.batch_size])\n",
    "preds = torch.cat(preds, dim=-1)\n",
    "targets = torch.cat(targets, dim=-1)"
   ],
   "metadata": {
    "collapsed": false,
    "ExecuteTime": {
     "end_time": "2023-09-25T10:27:50.951396Z",
     "start_time": "2023-09-25T10:27:45.352919Z"
    }
   },
   "id": "43fbcf5638579757"
  },
  {
   "cell_type": "code",
   "execution_count": null,
   "outputs": [],
   "source": [],
   "metadata": {
    "collapsed": false
   },
   "id": "dd044bf2a53b19af"
  },
  {
   "cell_type": "code",
   "execution_count": null,
   "outputs": [],
   "source": [],
   "metadata": {
    "collapsed": false,
    "ExecuteTime": {
     "start_time": "2023-09-25T10:20:58.642896Z"
    }
   },
   "id": "acd570ea2e15dbb4"
  },
  {
   "cell_type": "code",
   "execution_count": 14,
   "outputs": [],
   "source": [
    "import pandas as pd\n",
    "df = pd.read_csv(\"../data/FLIP/gb1/splits/one_vs_rest.csv\")\n",
    "one_id = df[df['set'] == 'train'].index.tolist() + df[df['validation'] == True].index.tolist()\n",
    "\n",
    "df = pd.read_csv(\"../data/FLIP/gb1/splits/two_vs_rest.csv\")\n",
    "two_id = df[df['set'] == 'train'].index.tolist() + df[df['validation'] == True].index.tolist()\n",
    "\n",
    "df = pd.read_csv(\"../data/FLIP/gb1/splits/three_vs_rest.csv\")\n",
    "three_id = df[df['set'] == 'train'].index.tolist() + df[df['validation'] == True].index.tolist()\n",
    "test_index = torch.nonzero(data.test_mask).squeeze()\n",
    "\n",
    "one_index = []\n",
    "two_index = []\n",
    "three_index = []\n",
    "other_index = []\n",
    "for index in range(len(test_index)):\n",
    "    if test_index[index] in one_id:\n",
    "        one_index.append(index)\n",
    "    elif test_index[index] in two_id:\n",
    "        two_index.append(index)\n",
    "    elif test_index[index] in three_id:\n",
    "        three_index.append(index)\n",
    "    else:\n",
    "        other_index.append(index)\n",
    "one_index = torch.LongTensor(one_index)\n",
    "two_index = torch.LongTensor(two_index)\n",
    "three_index = torch.LongTensor(three_index)\n",
    "other_index = torch.LongTensor(other_index)"
   ],
   "metadata": {
    "collapsed": false,
    "ExecuteTime": {
     "end_time": "2023-09-25T10:33:22.019745Z",
     "start_time": "2023-09-25T10:32:56.860473Z"
    }
   },
   "id": "8c5da2209eae6321"
  },
  {
   "cell_type": "code",
   "execution_count": null,
   "outputs": [],
   "source": [],
   "metadata": {
    "collapsed": false
   },
   "id": "7bba66db033365a5"
  },
  {
   "cell_type": "code",
   "execution_count": null,
   "outputs": [],
   "source": [],
   "metadata": {
    "collapsed": false
   },
   "id": "9929812d9a51bbf5"
  },
  {
   "cell_type": "code",
   "execution_count": 15,
   "outputs": [
    {
     "name": "stdout",
     "output_type": "stream",
     "text": [
      "tensor(0.5818) tensor(0.5091) tensor(0.5452) tensor(0.5715)\n"
     ]
    }
   ],
   "source": [
    "from utils import spearmanr\n",
    "one = spearmanr(pred=preds[one_index], target=targets[one_index])\n",
    "two = spearmanr(pred=preds[two_index], target=targets[two_index])\n",
    "three = spearmanr(pred=preds[three_index], target=targets[three_index])\n",
    "other = spearmanr(pred=preds[other_index], target=targets[other_index])\n",
    "print(one, two, three, other)"
   ],
   "metadata": {
    "collapsed": false,
    "ExecuteTime": {
     "end_time": "2023-09-25T10:33:48.635278Z",
     "start_time": "2023-09-25T10:33:48.616319Z"
    }
   },
   "id": "36ccf8fdf051e95f"
  },
  {
   "cell_type": "code",
   "execution_count": null,
   "outputs": [],
   "source": [],
   "metadata": {
    "collapsed": false
   },
   "id": "d567496a6ae09605"
  }
 ],
 "metadata": {
  "kernelspec": {
   "display_name": "Python 3",
   "language": "python",
   "name": "python3"
  },
  "language_info": {
   "codemirror_mode": {
    "name": "ipython",
    "version": 2
   },
   "file_extension": ".py",
   "mimetype": "text/x-python",
   "name": "python",
   "nbconvert_exporter": "python",
   "pygments_lexer": "ipython2",
   "version": "2.7.6"
  }
 },
 "nbformat": 4,
 "nbformat_minor": 5
}
