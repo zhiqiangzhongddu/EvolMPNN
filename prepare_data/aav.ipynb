{
 "cells": [
  {
   "cell_type": "code",
   "execution_count": 1,
   "metadata": {
    "collapsed": true,
    "ExecuteTime": {
     "end_time": "2023-07-24T15:02:01.905192Z",
     "start_time": "2023-07-24T15:02:01.586900Z"
    }
   },
   "outputs": [],
   "source": [
    "from Bio import SeqIO\n",
    "import pandas as pd\n",
    "\n",
    "import warnings\n",
    "warnings.filterwarnings('ignore')"
   ]
  },
  {
   "cell_type": "code",
   "execution_count": 2,
   "metadata": {
    "ExecuteTime": {
     "end_time": "2023-07-24T15:02:01.914918Z",
     "start_time": "2023-07-24T15:02:01.904985Z"
    }
   },
   "outputs": [],
   "source": [
    "aav_ref_seq_file = \"../../data/FLIP/aav/P03135.fasta\"\n",
    "aav_full_data_file = \"../../data/FLIP/aav/full_data.csv\"\n",
    "aav_split_data_mut_des_file = \"../../data/FLIP/aav/splits/mut_des.csv\"\n",
    "aav_split_data_des_mut_file = \"../../data/FLIP/aav/splits/des_mut.csv\"\n",
    "aav_split_data_one_vs_many_file = \"../../data/FLIP/aav/splits/one_vs_many.csv\"\n",
    "aav_split_data_two_vs_many_file = \"../../data/FLIP/aav/splits/two_vs_many.csv\"\n",
    "aav_split_data_seven_vs_many_file = \"../../data/FLIP/aav/splits/seven_vs_many.csv\"\n",
    "aav_split_data_low_vs_high_file = \"../../data/FLIP/aav/splits/low_vs_high.csv\"\n",
    "aav_split_data_sampled_file = \"../../data/FLIP/aav/splits/sampled.csv\"\n",
    "aav_region = (561,588)\n",
    "\n",
    "# Get the reference sequence\n",
    "aav_reference_seq = str(next(SeqIO.parse(aav_ref_seq_file, \"fasta\")).seq)"
   ]
  },
  {
   "cell_type": "markdown",
   "metadata": {},
   "source": [
    "### Full data"
   ]
  },
  {
   "cell_type": "code",
   "execution_count": 3,
   "metadata": {
    "ExecuteTime": {
     "end_time": "2023-07-24T15:02:05.966155Z",
     "start_time": "2023-07-24T15:02:01.908498Z"
    }
   },
   "outputs": [
    {
     "name": "stdout",
     "output_type": "stream",
     "text": [
      "<class 'pandas.core.frame.DataFrame'>\n",
      "RangeIndex: 284002 entries, 0 to 284001\n",
      "Data columns (total 24 columns):\n",
      " #   Column                          Non-Null Count   Dtype  \n",
      "---  ------                          --------------   -----  \n",
      " 0   mutation_mask                   284002 non-null  object \n",
      " 1   mutated_region                  284001 non-null  object \n",
      " 2   category                        284001 non-null  object \n",
      " 3   number_of_mutations             284001 non-null  float64\n",
      " 4   levenshtein_distance            284001 non-null  float64\n",
      " 5   binary_score                    284001 non-null  object \n",
      " 6   overarching_partition           284001 non-null  object \n",
      " 7   score                           284001 non-null  float64\n",
      " 8   full_aa_sequence                284001 non-null  object \n",
      " 9   sampled_split                   82575 non-null   object \n",
      " 10  sampled_split_validation        6607 non-null    object \n",
      " 11  one_vs_many_split               82575 non-null   object \n",
      " 12  one_vs_many_split_validation    117 non-null     object \n",
      " 13  two_vs_many_split               82575 non-null   object \n",
      " 14  two_vs_many_split_validation    3180 non-null    object \n",
      " 15  seven_vs_many_split             82575 non-null   object \n",
      " 16  seven_vs_many_split_validation  7001 non-null    object \n",
      " 17  low_vs_high_split               82575 non-null   object \n",
      " 18  low_vs_high_split_validation    4753 non-null    object \n",
      " 19  mut_des_split                   284001 non-null  object \n",
      " 20  mut_des_split_validation        8259 non-null    object \n",
      " 21  des_mut_split                   284001 non-null  object \n",
      " 22  des_mut_split_validation        20143 non-null   object \n",
      " 23  reference_region                284001 non-null  object \n",
      "dtypes: float64(3), object(21)\n",
      "memory usage: 52.0+ MB\n",
      "None\n"
     ]
    },
    {
     "data": {
      "text/plain": "                           mutation_mask  \\\n0          *____________________________   \n1           *___________________________   \n2  AA___A_____________cAaNmGEeApDaQaEgGd   \n3  AA___A______tYA_W_CnTAgNnG_TtAeTg_lDs   \n4     AA___F____E_L__VwA_C_eRnPfQhLGsPEI   \n\n                          mutated_region                             category  \\\n0          *DEEEIRTTNPVATEQYGSVSTNLQRGNR                                 stop   \n1           *EEEIRTTNPVATEQYGSVSTNLQRGNR                                 stop   \n2  AAEEIATTNPVATEQYGSVcAaNmGEeApDaQaEgGd  cnn_designed_plus_rand_train_walked   \n3  AAEEIATTNPVAtYAQWGCnTAgNnGLTtAeTgNlDs  cnn_designed_plus_rand_train_walked   \n4     AAEEIFTTNPEALEQVwASCSeRnPfQhLGsPEI   lr_rand_doubles_plus_single_walked   \n\n   number_of_mutations  levenshtein_distance binary_score  \\\n0                  1.0                   1.0        False   \n1                  1.0                   1.0        False   \n2                 21.0                  19.0         True   \n3                 24.0                  23.0        False   \n4                 22.0                  20.0        False   \n\n  overarching_partition     score  \\\n0    natural_partitions -6.824780   \n1    natural_partitions -6.500402   \n2     design_partitions  0.900998   \n3     design_partitions -4.843517   \n4     design_partitions -6.566587   \n\n                                    full_aa_sequence sampled_split  ...  \\\n0  MAADGYLPDWLEDTLSEGIRQWWKLKPGPPPPKPAERHKDDSRGLV...         train  ...   \n1  MAADGYLPDWLEDTLSEGIRQWWKLKPGPPPPKPAERHKDDSRGLV...         train  ...   \n2  MAADGYLPDWLEDTLSEGIRQWWKLKPGPPPPKPAERHKDDSRGLV...           NaN  ...   \n3  MAADGYLPDWLEDTLSEGIRQWWKLKPGPPPPKPAERHKDDSRGLV...           NaN  ...   \n4  MAADGYLPDWLEDTLSEGIRQWWKLKPGPPPPKPAERHKDDSRGLV...           NaN  ...   \n\n  two_vs_many_split_validation seven_vs_many_split  \\\n0                          NaN               train   \n1                          NaN               train   \n2                          NaN                 NaN   \n3                          NaN                 NaN   \n4                          NaN                 NaN   \n\n  seven_vs_many_split_validation low_vs_high_split  \\\n0                            NaN             train   \n1                            NaN             train   \n2                            NaN               NaN   \n3                            NaN               NaN   \n4                            NaN               NaN   \n\n  low_vs_high_split_validation mut_des_split mut_des_split_validation  \\\n0                          NaN         train                      NaN   \n1                          NaN         train                      NaN   \n2                          NaN          test                      NaN   \n3                          NaN          test                      NaN   \n4                          NaN          test                      NaN   \n\n  des_mut_split des_mut_split_validation              reference_region  \n0          test                      NaN  DEEEIRTTNPVATEQYGSVSTNLQRGNR  \n1          test                      NaN  DEEEIRTTNPVATEQYGSVSTNLQRGNR  \n2         train                      NaN  DEEEIRTTNPVATEQYGSVSTNLQRGNR  \n3         train                      NaN  DEEEIRTTNPVATEQYGSVSTNLQRGNR  \n4         train                      NaN  DEEEIRTTNPVATEQYGSVSTNLQRGNR  \n\n[5 rows x 24 columns]",
      "text/html": "<div>\n<style scoped>\n    .dataframe tbody tr th:only-of-type {\n        vertical-align: middle;\n    }\n\n    .dataframe tbody tr th {\n        vertical-align: top;\n    }\n\n    .dataframe thead th {\n        text-align: right;\n    }\n</style>\n<table border=\"1\" class=\"dataframe\">\n  <thead>\n    <tr style=\"text-align: right;\">\n      <th></th>\n      <th>mutation_mask</th>\n      <th>mutated_region</th>\n      <th>category</th>\n      <th>number_of_mutations</th>\n      <th>levenshtein_distance</th>\n      <th>binary_score</th>\n      <th>overarching_partition</th>\n      <th>score</th>\n      <th>full_aa_sequence</th>\n      <th>sampled_split</th>\n      <th>...</th>\n      <th>two_vs_many_split_validation</th>\n      <th>seven_vs_many_split</th>\n      <th>seven_vs_many_split_validation</th>\n      <th>low_vs_high_split</th>\n      <th>low_vs_high_split_validation</th>\n      <th>mut_des_split</th>\n      <th>mut_des_split_validation</th>\n      <th>des_mut_split</th>\n      <th>des_mut_split_validation</th>\n      <th>reference_region</th>\n    </tr>\n  </thead>\n  <tbody>\n    <tr>\n      <th>0</th>\n      <td>*____________________________</td>\n      <td>*DEEEIRTTNPVATEQYGSVSTNLQRGNR</td>\n      <td>stop</td>\n      <td>1.0</td>\n      <td>1.0</td>\n      <td>False</td>\n      <td>natural_partitions</td>\n      <td>-6.824780</td>\n      <td>MAADGYLPDWLEDTLSEGIRQWWKLKPGPPPPKPAERHKDDSRGLV...</td>\n      <td>train</td>\n      <td>...</td>\n      <td>NaN</td>\n      <td>train</td>\n      <td>NaN</td>\n      <td>train</td>\n      <td>NaN</td>\n      <td>train</td>\n      <td>NaN</td>\n      <td>test</td>\n      <td>NaN</td>\n      <td>DEEEIRTTNPVATEQYGSVSTNLQRGNR</td>\n    </tr>\n    <tr>\n      <th>1</th>\n      <td>*___________________________</td>\n      <td>*EEEIRTTNPVATEQYGSVSTNLQRGNR</td>\n      <td>stop</td>\n      <td>1.0</td>\n      <td>1.0</td>\n      <td>False</td>\n      <td>natural_partitions</td>\n      <td>-6.500402</td>\n      <td>MAADGYLPDWLEDTLSEGIRQWWKLKPGPPPPKPAERHKDDSRGLV...</td>\n      <td>train</td>\n      <td>...</td>\n      <td>NaN</td>\n      <td>train</td>\n      <td>NaN</td>\n      <td>train</td>\n      <td>NaN</td>\n      <td>train</td>\n      <td>NaN</td>\n      <td>test</td>\n      <td>NaN</td>\n      <td>DEEEIRTTNPVATEQYGSVSTNLQRGNR</td>\n    </tr>\n    <tr>\n      <th>2</th>\n      <td>AA___A_____________cAaNmGEeApDaQaEgGd</td>\n      <td>AAEEIATTNPVATEQYGSVcAaNmGEeApDaQaEgGd</td>\n      <td>cnn_designed_plus_rand_train_walked</td>\n      <td>21.0</td>\n      <td>19.0</td>\n      <td>True</td>\n      <td>design_partitions</td>\n      <td>0.900998</td>\n      <td>MAADGYLPDWLEDTLSEGIRQWWKLKPGPPPPKPAERHKDDSRGLV...</td>\n      <td>NaN</td>\n      <td>...</td>\n      <td>NaN</td>\n      <td>NaN</td>\n      <td>NaN</td>\n      <td>NaN</td>\n      <td>NaN</td>\n      <td>test</td>\n      <td>NaN</td>\n      <td>train</td>\n      <td>NaN</td>\n      <td>DEEEIRTTNPVATEQYGSVSTNLQRGNR</td>\n    </tr>\n    <tr>\n      <th>3</th>\n      <td>AA___A______tYA_W_CnTAgNnG_TtAeTg_lDs</td>\n      <td>AAEEIATTNPVAtYAQWGCnTAgNnGLTtAeTgNlDs</td>\n      <td>cnn_designed_plus_rand_train_walked</td>\n      <td>24.0</td>\n      <td>23.0</td>\n      <td>False</td>\n      <td>design_partitions</td>\n      <td>-4.843517</td>\n      <td>MAADGYLPDWLEDTLSEGIRQWWKLKPGPPPPKPAERHKDDSRGLV...</td>\n      <td>NaN</td>\n      <td>...</td>\n      <td>NaN</td>\n      <td>NaN</td>\n      <td>NaN</td>\n      <td>NaN</td>\n      <td>NaN</td>\n      <td>test</td>\n      <td>NaN</td>\n      <td>train</td>\n      <td>NaN</td>\n      <td>DEEEIRTTNPVATEQYGSVSTNLQRGNR</td>\n    </tr>\n    <tr>\n      <th>4</th>\n      <td>AA___F____E_L__VwA_C_eRnPfQhLGsPEI</td>\n      <td>AAEEIFTTNPEALEQVwASCSeRnPfQhLGsPEI</td>\n      <td>lr_rand_doubles_plus_single_walked</td>\n      <td>22.0</td>\n      <td>20.0</td>\n      <td>False</td>\n      <td>design_partitions</td>\n      <td>-6.566587</td>\n      <td>MAADGYLPDWLEDTLSEGIRQWWKLKPGPPPPKPAERHKDDSRGLV...</td>\n      <td>NaN</td>\n      <td>...</td>\n      <td>NaN</td>\n      <td>NaN</td>\n      <td>NaN</td>\n      <td>NaN</td>\n      <td>NaN</td>\n      <td>test</td>\n      <td>NaN</td>\n      <td>train</td>\n      <td>NaN</td>\n      <td>DEEEIRTTNPVATEQYGSVSTNLQRGNR</td>\n    </tr>\n  </tbody>\n</table>\n<p>5 rows × 24 columns</p>\n</div>"
     },
     "execution_count": 3,
     "metadata": {},
     "output_type": "execute_result"
    }
   ],
   "source": [
    "df_aav_full_data = pd.read_csv(aav_full_data_file)\n",
    "print(df_aav_full_data.info())\n",
    "df_aav_full_data.head()"
   ]
  },
  {
   "cell_type": "code",
   "execution_count": 4,
   "metadata": {
    "ExecuteTime": {
     "end_time": "2023-07-24T15:02:06.171729Z",
     "start_time": "2023-07-24T15:02:05.972024Z"
    }
   },
   "outputs": [
    {
     "name": "stdout",
     "output_type": "stream",
     "text": [
      "mut_des 284001 74316 8259 201426\n",
      "des_mut 284001 181283 20143 82575\n",
      "one_vs_many 82575 1049 117 81409\n",
      "two_vs_many 82575 28623 3180 50772\n",
      "seven_vs_many 82575 62993 7001 12581\n",
      "low_vs_high 82575 42785 4753 35037\n",
      "sampled 82575 59453 6607 16515\n"
     ]
    }
   ],
   "source": [
    "for split in ['mut_des', 'des_mut', 'one_vs_many', 'two_vs_many', 'seven_vs_many', 'low_vs_high', 'sampled']:\n",
    "    num_val = df_aav_full_data[split + '_split_validation'].sum()\n",
    "    num_train = df_aav_full_data[split + '_split'].value_counts()['train'] - num_val\n",
    "    num_test = df_aav_full_data[split + '_split'].value_counts()['test']\n",
    "    num_all = num_train + num_val + num_test\n",
    "    print(split, num_all, num_train, num_val, num_test)"
   ]
  },
  {
   "cell_type": "code",
   "execution_count": 5,
   "metadata": {
    "ExecuteTime": {
     "end_time": "2023-07-24T15:02:06.788638Z",
     "start_time": "2023-07-24T15:02:06.171526Z"
    }
   },
   "outputs": [
    {
     "data": {
      "text/plain": "<Axes: >"
     },
     "execution_count": 5,
     "metadata": {},
     "output_type": "execute_result"
    },
    {
     "data": {
      "text/plain": "<Figure size 640x480 with 1 Axes>",
      "image/png": "[encoded data removed]"
     },
     "metadata": {},
     "output_type": "display_data"
    }
   ],
   "source": [
    "df_aav_full_data['number_of_mutations'].hist(bins=36)"
   ]
  },
  {
   "cell_type": "code",
   "execution_count": 5,
   "outputs": [],
   "source": [],
   "metadata": {
    "collapsed": false,
    "ExecuteTime": {
     "end_time": "2023-07-24T15:02:06.788830Z",
     "start_time": "2023-07-24T15:02:06.785224Z"
    }
   }
  },
  {
   "cell_type": "code",
   "execution_count": 6,
   "outputs": [
    {
     "data": {
      "text/plain": "                       mutation_mask                 mutated_region  \\\n0      *____________________________  *DEEEIRTTNPVATEQYGSVSTNLQRGNR   \n22819  _*___________________________  D*EEEIRTTNPVATEQYGSVSTNLQRGNR   \n28513  __*__________________________  DE*EEIRTTNPVATEQYGSVSTNLQRGNR   \n42350  ___*_________________________  DEE*EIRTTNPVATEQYGSVSTNLQRGNR   \n44239  ____*________________________  DEEE*IRTTNPVATEQYGSVSTNLQRGNR   \n44705  _____*_______________________  DEEEI*RTTNPVATEQYGSVSTNLQRGNR   \n53385  ______*______________________  DEEEIR*TTNPVATEQYGSVSTNLQRGNR   \n57741  _______*_____________________  DEEEIRT*TNPVATEQYGSVSTNLQRGNR   \n58530  ________*____________________  DEEEIRTT*NPVATEQYGSVSTNLQRGNR   \n58984  _________*___________________  DEEEIRTTN*PVATEQYGSVSTNLQRGNR   \n59633  __________*__________________  DEEEIRTTNP*VATEQYGSVSTNLQRGNR   \n64471  ___________*_________________  DEEEIRTTNPV*ATEQYGSVSTNLQRGNR   \n64474  ____________*________________  DEEEIRTTNPVA*TEQYGSVSTNLQRGNR   \n65397  _____________*_______________  DEEEIRTTNPVAT*EQYGSVSTNLQRGNR   \n65752  ______________*______________  DEEEIRTTNPVATE*QYGSVSTNLQRGNR   \n70405  _______________*_____________  DEEEIRTTNPVATEQ*YGSVSTNLQRGNR   \n71744  ________________*____________  DEEEIRTTNPVATEQY*GSVSTNLQRGNR   \n71880  _________________*___________  DEEEIRTTNPVATEQYG*SVSTNLQRGNR   \n80516  __________________*__________  DEEEIRTTNPVATEQYGS*VSTNLQRGNR   \n82625  ___________________*_________  DEEEIRTTNPVATEQYGSV*STNLQRGNR   \n87366  ____________________*________  DEEEIRTTNPVATEQYGSVS*TNLQRGNR   \n89856  _____________________*_______  DEEEIRTTNPVATEQYGSVST*NLQRGNR   \n92400  ______________________*______  DEEEIRTTNPVATEQYGSVSTN*LQRGNR   \n93173  _______________________*_____  DEEEIRTTNPVATEQYGSVSTNL*QRGNR   \n93970  ________________________*____  DEEEIRTTNPVATEQYGSVSTNLQ*RGNR   \n94702  _________________________*___  DEEEIRTTNPVATEQYGSVSTNLQR*GNR   \n94762  __________________________*__  DEEEIRTTNPVATEQYGSVSTNLQRG*NR   \n94853  ___________________________*_  DEEEIRTTNPVATEQYGSVSTNLQRGN*R   \n94877   ____________________________   DEEEIRTTNPVATEQYGSVSTNLQRGNR   \n94878  ____________________________*  DEEEIRTTNPVATEQYGSVSTNLQRGNR*   \n\n        category  number_of_mutations  levenshtein_distance binary_score  \\\n0           stop                  1.0                   1.0        False   \n22819       stop                  1.0                   1.0        False   \n28513       stop                  1.0                   1.0        False   \n42350       stop                  1.0                   1.0        False   \n44239       stop                  1.0                   1.0        False   \n44705       stop                  1.0                   1.0        False   \n53385       stop                  1.0                   1.0        False   \n57741       stop                  1.0                   1.0        False   \n58530       stop                  1.0                   1.0        False   \n58984       stop                  1.0                   1.0        False   \n59633       stop                  1.0                   1.0        False   \n64471       stop                  1.0                   1.0        False   \n64474       stop                  1.0                   1.0        False   \n65397       stop                  1.0                   1.0        False   \n65752       stop                  1.0                   1.0        False   \n70405       stop                  1.0                   1.0        False   \n71744       stop                  1.0                   1.0        False   \n71880       stop                  1.0                   1.0        False   \n80516       stop                  1.0                   1.0        False   \n82625       stop                  1.0                   1.0        False   \n87366       stop                  1.0                   1.0        False   \n89856       stop                  1.0                   1.0        False   \n92400       stop                  1.0                   1.0        False   \n93173       stop                  1.0                   1.0        False   \n93970       stop                  1.0                   1.0        False   \n94702       stop                  1.0                   1.0        False   \n94762       stop                  1.0                   1.0        False   \n94853       stop                  1.0                   1.0        False   \n94877  wild_type                  0.0                   0.0         True   \n94878       stop                  1.0                   1.0        False   \n\n      overarching_partition     score  \\\n0        natural_partitions -6.824780   \n22819    natural_partitions -4.375918   \n28513    natural_partitions -4.450755   \n42350    natural_partitions -7.087815   \n44239    natural_partitions -5.199868   \n44705    natural_partitions -5.366674   \n53385    natural_partitions -4.618746   \n57741    natural_partitions -7.098384   \n58530    natural_partitions -7.317262   \n58984    natural_partitions -3.964386   \n59633    natural_partitions -5.190636   \n64471    natural_partitions -5.311015   \n64474    natural_partitions -4.720684   \n65397    natural_partitions -4.338882   \n65752    natural_partitions -5.715513   \n70405    natural_partitions -5.360293   \n71744    natural_partitions -5.139831   \n71880    natural_partitions -4.863951   \n80516    natural_partitions -5.301495   \n82625    natural_partitions -7.839856   \n87366    natural_partitions -5.807707   \n89856    natural_partitions -5.575699   \n92400    natural_partitions -4.211803   \n93173    natural_partitions -5.081087   \n93970    natural_partitions -4.641740   \n94702    natural_partitions -5.837778   \n94762    natural_partitions -4.372491   \n94853    natural_partitions -6.464360   \n94877    natural_partitions -0.918194   \n94878    natural_partitions -5.477714   \n\n                                        full_aa_sequence sampled_split  ...  \\\n0      MAADGYLPDWLEDTLSEGIRQWWKLKPGPPPPKPAERHKDDSRGLV...         train  ...   \n22819  MAADGYLPDWLEDTLSEGIRQWWKLKPGPPPPKPAERHKDDSRGLV...         train  ...   \n28513  MAADGYLPDWLEDTLSEGIRQWWKLKPGPPPPKPAERHKDDSRGLV...         train  ...   \n42350  MAADGYLPDWLEDTLSEGIRQWWKLKPGPPPPKPAERHKDDSRGLV...         train  ...   \n44239  MAADGYLPDWLEDTLSEGIRQWWKLKPGPPPPKPAERHKDDSRGLV...         train  ...   \n44705  MAADGYLPDWLEDTLSEGIRQWWKLKPGPPPPKPAERHKDDSRGLV...         train  ...   \n53385  MAADGYLPDWLEDTLSEGIRQWWKLKPGPPPPKPAERHKDDSRGLV...          test  ...   \n57741  MAADGYLPDWLEDTLSEGIRQWWKLKPGPPPPKPAERHKDDSRGLV...         train  ...   \n58530  MAADGYLPDWLEDTLSEGIRQWWKLKPGPPPPKPAERHKDDSRGLV...          test  ...   \n58984  MAADGYLPDWLEDTLSEGIRQWWKLKPGPPPPKPAERHKDDSRGLV...         train  ...   \n59633  MAADGYLPDWLEDTLSEGIRQWWKLKPGPPPPKPAERHKDDSRGLV...         train  ...   \n64471  MAADGYLPDWLEDTLSEGIRQWWKLKPGPPPPKPAERHKDDSRGLV...         train  ...   \n64474  MAADGYLPDWLEDTLSEGIRQWWKLKPGPPPPKPAERHKDDSRGLV...          test  ...   \n65397  MAADGYLPDWLEDTLSEGIRQWWKLKPGPPPPKPAERHKDDSRGLV...         train  ...   \n65752  MAADGYLPDWLEDTLSEGIRQWWKLKPGPPPPKPAERHKDDSRGLV...         train  ...   \n70405  MAADGYLPDWLEDTLSEGIRQWWKLKPGPPPPKPAERHKDDSRGLV...         train  ...   \n71744  MAADGYLPDWLEDTLSEGIRQWWKLKPGPPPPKPAERHKDDSRGLV...          test  ...   \n71880  MAADGYLPDWLEDTLSEGIRQWWKLKPGPPPPKPAERHKDDSRGLV...         train  ...   \n80516  MAADGYLPDWLEDTLSEGIRQWWKLKPGPPPPKPAERHKDDSRGLV...         train  ...   \n82625  MAADGYLPDWLEDTLSEGIRQWWKLKPGPPPPKPAERHKDDSRGLV...         train  ...   \n87366  MAADGYLPDWLEDTLSEGIRQWWKLKPGPPPPKPAERHKDDSRGLV...         train  ...   \n89856  MAADGYLPDWLEDTLSEGIRQWWKLKPGPPPPKPAERHKDDSRGLV...         train  ...   \n92400  MAADGYLPDWLEDTLSEGIRQWWKLKPGPPPPKPAERHKDDSRGLV...         train  ...   \n93173  MAADGYLPDWLEDTLSEGIRQWWKLKPGPPPPKPAERHKDDSRGLV...          test  ...   \n93970  MAADGYLPDWLEDTLSEGIRQWWKLKPGPPPPKPAERHKDDSRGLV...         train  ...   \n94702  MAADGYLPDWLEDTLSEGIRQWWKLKPGPPPPKPAERHKDDSRGLV...         train  ...   \n94762  MAADGYLPDWLEDTLSEGIRQWWKLKPGPPPPKPAERHKDDSRGLV...          test  ...   \n94853  MAADGYLPDWLEDTLSEGIRQWWKLKPGPPPPKPAERHKDDSRGLV...         train  ...   \n94877  MAADGYLPDWLEDTLSEGIRQWWKLKPGPPPPKPAERHKDDSRGLV...         train  ...   \n94878  MAADGYLPDWLEDTLSEGIRQWWKLKPGPPPPKPAERHKDDSRGLV...         train  ...   \n\n      two_vs_many_split_validation seven_vs_many_split  \\\n0                              NaN               train   \n22819                          NaN               train   \n28513                          NaN               train   \n42350                          NaN               train   \n44239                          NaN               train   \n44705                          NaN               train   \n53385                          NaN               train   \n57741                         True               train   \n58530                          NaN               train   \n58984                          NaN               train   \n59633                          NaN               train   \n64471                         True               train   \n64474                          NaN               train   \n65397                          NaN               train   \n65752                          NaN               train   \n70405                          NaN               train   \n71744                          NaN               train   \n71880                          NaN               train   \n80516                          NaN               train   \n82625                          NaN               train   \n87366                          NaN               train   \n89856                          NaN               train   \n92400                          NaN               train   \n93173                          NaN               train   \n93970                          NaN               train   \n94702                          NaN               train   \n94762                          NaN               train   \n94853                          NaN               train   \n94877                          NaN               train   \n94878                          NaN               train   \n\n      seven_vs_many_split_validation low_vs_high_split  \\\n0                                NaN             train   \n22819                            NaN             train   \n28513                            NaN             train   \n42350                            NaN             train   \n44239                            NaN             train   \n44705                            NaN             train   \n53385                            NaN             train   \n57741                            NaN             train   \n58530                            NaN             train   \n58984                            NaN             train   \n59633                            NaN             train   \n64471                           True             train   \n64474                            NaN             train   \n65397                            NaN             train   \n65752                            NaN             train   \n70405                            NaN             train   \n71744                            NaN             train   \n71880                            NaN             train   \n80516                            NaN             train   \n82625                            NaN             train   \n87366                            NaN             train   \n89856                            NaN             train   \n92400                            NaN             train   \n93173                            NaN             train   \n93970                            NaN             train   \n94702                            NaN             train   \n94762                            NaN             train   \n94853                            NaN             train   \n94877                            NaN             train   \n94878                            NaN             train   \n\n      low_vs_high_split_validation mut_des_split mut_des_split_validation  \\\n0                              NaN         train                      NaN   \n22819                          NaN         train                      NaN   \n28513                          NaN         train                      NaN   \n42350                         True         train                      NaN   \n44239                          NaN         train                      NaN   \n44705                          NaN         train                      NaN   \n53385                          NaN         train                     True   \n57741                          NaN         train                      NaN   \n58530                          NaN         train                     True   \n58984                         True         train                      NaN   \n59633                          NaN         train                      NaN   \n64471                          NaN         train                      NaN   \n64474                          NaN         train                     True   \n65397                          NaN         train                      NaN   \n65752                          NaN         train                      NaN   \n70405                          NaN         train                      NaN   \n71744                          NaN         train                     True   \n71880                          NaN         train                      NaN   \n80516                          NaN         train                      NaN   \n82625                          NaN         train                      NaN   \n87366                          NaN         train                      NaN   \n89856                          NaN         train                      NaN   \n92400                          NaN         train                      NaN   \n93173                          NaN         train                      NaN   \n93970                          NaN         train                      NaN   \n94702                          NaN         train                      NaN   \n94762                         True         train                     True   \n94853                          NaN         train                      NaN   \n94877                          NaN         train                      NaN   \n94878                         True         train                      NaN   \n\n      des_mut_split des_mut_split_validation              reference_region  \n0              test                      NaN  DEEEIRTTNPVATEQYGSVSTNLQRGNR  \n22819          test                      NaN  DEEEIRTTNPVATEQYGSVSTNLQRGNR  \n28513          test                      NaN  DEEEIRTTNPVATEQYGSVSTNLQRGNR  \n42350          test                      NaN  DEEEIRTTNPVATEQYGSVSTNLQRGNR  \n44239          test                      NaN  DEEEIRTTNPVATEQYGSVSTNLQRGNR  \n44705          test                      NaN  DEEEIRTTNPVATEQYGSVSTNLQRGNR  \n53385          test                      NaN  DEEEIRTTNPVATEQYGSVSTNLQRGNR  \n57741          test                      NaN  DEEEIRTTNPVATEQYGSVSTNLQRGNR  \n58530          test                      NaN  DEEEIRTTNPVATEQYGSVSTNLQRGNR  \n58984          test                      NaN  DEEEIRTTNPVATEQYGSVSTNLQRGNR  \n59633          test                      NaN  DEEEIRTTNPVATEQYGSVSTNLQRGNR  \n64471          test                      NaN  DEEEIRTTNPVATEQYGSVSTNLQRGNR  \n64474          test                      NaN  DEEEIRTTNPVATEQYGSVSTNLQRGNR  \n65397          test                      NaN  DEEEIRTTNPVATEQYGSVSTNLQRGNR  \n65752          test                      NaN  DEEEIRTTNPVATEQYGSVSTNLQRGNR  \n70405          test                      NaN  DEEEIRTTNPVATEQYGSVSTNLQRGNR  \n71744          test                      NaN  DEEEIRTTNPVATEQYGSVSTNLQRGNR  \n71880          test                      NaN  DEEEIRTTNPVATEQYGSVSTNLQRGNR  \n80516          test                      NaN  DEEEIRTTNPVATEQYGSVSTNLQRGNR  \n82625          test                      NaN  DEEEIRTTNPVATEQYGSVSTNLQRGNR  \n87366          test                      NaN  DEEEIRTTNPVATEQYGSVSTNLQRGNR  \n89856          test                      NaN  DEEEIRTTNPVATEQYGSVSTNLQRGNR  \n92400          test                      NaN  DEEEIRTTNPVATEQYGSVSTNLQRGNR  \n93173          test                      NaN  DEEEIRTTNPVATEQYGSVSTNLQRGNR  \n93970          test                      NaN  DEEEIRTTNPVATEQYGSVSTNLQRGNR  \n94702          test                      NaN  DEEEIRTTNPVATEQYGSVSTNLQRGNR  \n94762          test                      NaN  DEEEIRTTNPVATEQYGSVSTNLQRGNR  \n94853          test                      NaN  DEEEIRTTNPVATEQYGSVSTNLQRGNR  \n94877          test                      NaN  DEEEIRTTNPVATEQYGSVSTNLQRGNR  \n94878          test                      NaN  DEEEIRTTNPVATEQYGSVSTNLQRGNR  \n\n[30 rows x 24 columns]",
      "text/html": "<div>\n<style scoped>\n    .dataframe tbody tr th:only-of-type {\n        vertical-align: middle;\n    }\n\n    .dataframe tbody tr th {\n        vertical-align: top;\n    }\n\n    .dataframe thead th {\n        text-align: right;\n    }\n</style>\n<table border=\"1\" class=\"dataframe\">\n  <thead>\n    <tr style=\"text-align: right;\">\n      <th></th>\n      <th>mutation_mask</th>\n      <th>mutated_region</th>\n      <th>category</th>\n      <th>number_of_mutations</th>\n      <th>levenshtein_distance</th>\n      <th>binary_score</th>\n      <th>overarching_partition</th>\n      <th>score</th>\n      <th>full_aa_sequence</th>\n      <th>sampled_split</th>\n      <th>...</th>\n      <th>two_vs_many_split_validation</th>\n      <th>seven_vs_many_split</th>\n      <th>seven_vs_many_split_validation</th>\n      <th>low_vs_high_split</th>\n      <th>low_vs_high_split_validation</th>\n      <th>mut_des_split</th>\n      <th>mut_des_split_validation</th>\n      <th>des_mut_split</th>\n      <th>des_mut_split_validation</th>\n      <th>reference_region</th>\n    </tr>\n  </thead>\n  <tbody>\n    <tr>\n      <th>0</th>\n      <td>*____________________________</td>\n      <td>*DEEEIRTTNPVATEQYGSVSTNLQRGNR</td>\n      <td>stop</td>\n      <td>1.0</td>\n      <td>1.0</td>\n      <td>False</td>\n      <td>natural_partitions</td>\n      <td>-6.824780</td>\n      <td>MAADGYLPDWLEDTLSEGIRQWWKLKPGPPPPKPAERHKDDSRGLV...</td>\n      <td>train</td>\n      <td>...</td>\n      <td>NaN</td>\n      <td>train</td>\n      <td>NaN</td>\n      <td>train</td>\n      <td>NaN</td>\n      <td>train</td>\n      <td>NaN</td>\n      <td>test</td>\n      <td>NaN</td>\n      <td>DEEEIRTTNPVATEQYGSVSTNLQRGNR</td>\n    </tr>\n    <tr>\n      <th>22819</th>\n      <td>_*___________________________</td>\n      <td>D*EEEIRTTNPVATEQYGSVSTNLQRGNR</td>\n      <td>stop</td>\n      <td>1.0</td>\n      <td>1.0</td>\n      <td>False</td>\n      <td>natural_partitions</td>\n      <td>-4.375918</td>\n      <td>MAADGYLPDWLEDTLSEGIRQWWKLKPGPPPPKPAERHKDDSRGLV...</td>\n      <td>train</td>\n      <td>...</td>\n      <td>NaN</td>\n      <td>train</td>\n      <td>NaN</td>\n      <td>train</td>\n      <td>NaN</td>\n      <td>train</td>\n      <td>NaN</td>\n      <td>test</td>\n      <td>NaN</td>\n      <td>DEEEIRTTNPVATEQYGSVSTNLQRGNR</td>\n    </tr>\n    <tr>\n      <th>28513</th>\n      <td>__*__________________________</td>\n      <td>DE*EEIRTTNPVATEQYGSVSTNLQRGNR</td>\n      <td>stop</td>\n      <td>1.0</td>\n      <td>1.0</td>\n      <td>False</td>\n      <td>natural_partitions</td>\n      <td>-4.450755</td>\n      <td>MAADGYLPDWLEDTLSEGIRQWWKLKPGPPPPKPAERHKDDSRGLV...</td>\n      <td>train</td>\n      <td>...</td>\n      <td>NaN</td>\n      <td>train</td>\n      <td>NaN</td>\n      <td>train</td>\n      <td>NaN</td>\n      <td>train</td>\n      <td>NaN</td>\n      <td>test</td>\n      <td>NaN</td>\n      <td>DEEEIRTTNPVATEQYGSVSTNLQRGNR</td>\n    </tr>\n    <tr>\n      <th>42350</th>\n      <td>___*_________________________</td>\n      <td>DEE*EIRTTNPVATEQYGSVSTNLQRGNR</td>\n      <td>stop</td>\n      <td>1.0</td>\n      <td>1.0</td>\n      <td>False</td>\n      <td>natural_partitions</td>\n      <td>-7.087815</td>\n      <td>MAADGYLPDWLEDTLSEGIRQWWKLKPGPPPPKPAERHKDDSRGLV...</td>\n      <td>train</td>\n      <td>...</td>\n      <td>NaN</td>\n      <td>train</td>\n      <td>NaN</td>\n      <td>train</td>\n      <td>True</td>\n      <td>train</td>\n      <td>NaN</td>\n      <td>test</td>\n      <td>NaN</td>\n      <td>DEEEIRTTNPVATEQYGSVSTNLQRGNR</td>\n    </tr>\n    <tr>\n      <th>44239</th>\n      <td>____*________________________</td>\n      <td>DEEE*IRTTNPVATEQYGSVSTNLQRGNR</td>\n      <td>stop</td>\n      <td>1.0</td>\n      <td>1.0</td>\n      <td>False</td>\n      <td>natural_partitions</td>\n      <td>-5.199868</td>\n      <td>MAADGYLPDWLEDTLSEGIRQWWKLKPGPPPPKPAERHKDDSRGLV...</td>\n      <td>train</td>\n      <td>...</td>\n      <td>NaN</td>\n      <td>train</td>\n      <td>NaN</td>\n      <td>train</td>\n      <td>NaN</td>\n      <td>train</td>\n      <td>NaN</td>\n      <td>test</td>\n      <td>NaN</td>\n      <td>DEEEIRTTNPVATEQYGSVSTNLQRGNR</td>\n    </tr>\n    <tr>\n      <th>44705</th>\n      <td>_____*_______________________</td>\n      <td>DEEEI*RTTNPVATEQYGSVSTNLQRGNR</td>\n      <td>stop</td>\n      <td>1.0</td>\n      <td>1.0</td>\n      <td>False</td>\n      <td>natural_partitions</td>\n      <td>-5.366674</td>\n      <td>MAADGYLPDWLEDTLSEGIRQWWKLKPGPPPPKPAERHKDDSRGLV...</td>\n      <td>train</td>\n      <td>...</td>\n      <td>NaN</td>\n      <td>train</td>\n      <td>NaN</td>\n      <td>train</td>\n      <td>NaN</td>\n      <td>train</td>\n      <td>NaN</td>\n      <td>test</td>\n      <td>NaN</td>\n      <td>DEEEIRTTNPVATEQYGSVSTNLQRGNR</td>\n    </tr>\n    <tr>\n      <th>53385</th>\n      <td>______*______________________</td>\n      <td>DEEEIR*TTNPVATEQYGSVSTNLQRGNR</td>\n      <td>stop</td>\n      <td>1.0</td>\n      <td>1.0</td>\n      <td>False</td>\n      <td>natural_partitions</td>\n      <td>-4.618746</td>\n      <td>MAADGYLPDWLEDTLSEGIRQWWKLKPGPPPPKPAERHKDDSRGLV...</td>\n      <td>test</td>\n      <td>...</td>\n      <td>NaN</td>\n      <td>train</td>\n      <td>NaN</td>\n      <td>train</td>\n      <td>NaN</td>\n      <td>train</td>\n      <td>True</td>\n      <td>test</td>\n      <td>NaN</td>\n      <td>DEEEIRTTNPVATEQYGSVSTNLQRGNR</td>\n    </tr>\n    <tr>\n      <th>57741</th>\n      <td>_______*_____________________</td>\n      <td>DEEEIRT*TNPVATEQYGSVSTNLQRGNR</td>\n      <td>stop</td>\n      <td>1.0</td>\n      <td>1.0</td>\n      <td>False</td>\n      <td>natural_partitions</td>\n      <td>-7.098384</td>\n      <td>MAADGYLPDWLEDTLSEGIRQWWKLKPGPPPPKPAERHKDDSRGLV...</td>\n      <td>train</td>\n      <td>...</td>\n      <td>True</td>\n      <td>train</td>\n      <td>NaN</td>\n      <td>train</td>\n      <td>NaN</td>\n      <td>train</td>\n      <td>NaN</td>\n      <td>test</td>\n      <td>NaN</td>\n      <td>DEEEIRTTNPVATEQYGSVSTNLQRGNR</td>\n    </tr>\n    <tr>\n      <th>58530</th>\n      <td>________*____________________</td>\n      <td>DEEEIRTT*NPVATEQYGSVSTNLQRGNR</td>\n      <td>stop</td>\n      <td>1.0</td>\n      <td>1.0</td>\n      <td>False</td>\n      <td>natural_partitions</td>\n      <td>-7.317262</td>\n      <td>MAADGYLPDWLEDTLSEGIRQWWKLKPGPPPPKPAERHKDDSRGLV...</td>\n      <td>test</td>\n      <td>...</td>\n      <td>NaN</td>\n      <td>train</td>\n      <td>NaN</td>\n      <td>train</td>\n      <td>NaN</td>\n      <td>train</td>\n      <td>True</td>\n      <td>test</td>\n      <td>NaN</td>\n      <td>DEEEIRTTNPVATEQYGSVSTNLQRGNR</td>\n    </tr>\n    <tr>\n      <th>58984</th>\n      <td>_________*___________________</td>\n      <td>DEEEIRTTN*PVATEQYGSVSTNLQRGNR</td>\n      <td>stop</td>\n      <td>1.0</td>\n      <td>1.0</td>\n      <td>False</td>\n      <td>natural_partitions</td>\n      <td>-3.964386</td>\n      <td>MAADGYLPDWLEDTLSEGIRQWWKLKPGPPPPKPAERHKDDSRGLV...</td>\n      <td>train</td>\n      <td>...</td>\n      <td>NaN</td>\n      <td>train</td>\n      <td>NaN</td>\n      <td>train</td>\n      <td>True</td>\n      <td>train</td>\n      <td>NaN</td>\n      <td>test</td>\n      <td>NaN</td>\n      <td>DEEEIRTTNPVATEQYGSVSTNLQRGNR</td>\n    </tr>\n    <tr>\n      <th>59633</th>\n      <td>__________*__________________</td>\n      <td>DEEEIRTTNP*VATEQYGSVSTNLQRGNR</td>\n      <td>stop</td>\n      <td>1.0</td>\n      <td>1.0</td>\n      <td>False</td>\n      <td>natural_partitions</td>\n      <td>-5.190636</td>\n      <td>MAADGYLPDWLEDTLSEGIRQWWKLKPGPPPPKPAERHKDDSRGLV...</td>\n      <td>train</td>\n      <td>...</td>\n      <td>NaN</td>\n      <td>train</td>\n      <td>NaN</td>\n      <td>train</td>\n      <td>NaN</td>\n      <td>train</td>\n      <td>NaN</td>\n      <td>test</td>\n      <td>NaN</td>\n      <td>DEEEIRTTNPVATEQYGSVSTNLQRGNR</td>\n    </tr>\n    <tr>\n      <th>64471</th>\n      <td>___________*_________________</td>\n      <td>DEEEIRTTNPV*ATEQYGSVSTNLQRGNR</td>\n      <td>stop</td>\n      <td>1.0</td>\n      <td>1.0</td>\n      <td>False</td>\n      <td>natural_partitions</td>\n      <td>-5.311015</td>\n      <td>MAADGYLPDWLEDTLSEGIRQWWKLKPGPPPPKPAERHKDDSRGLV...</td>\n      <td>train</td>\n      <td>...</td>\n      <td>True</td>\n      <td>train</td>\n      <td>True</td>\n      <td>train</td>\n      <td>NaN</td>\n      <td>train</td>\n      <td>NaN</td>\n      <td>test</td>\n      <td>NaN</td>\n      <td>DEEEIRTTNPVATEQYGSVSTNLQRGNR</td>\n    </tr>\n    <tr>\n      <th>64474</th>\n      <td>____________*________________</td>\n      <td>DEEEIRTTNPVA*TEQYGSVSTNLQRGNR</td>\n      <td>stop</td>\n      <td>1.0</td>\n      <td>1.0</td>\n      <td>False</td>\n      <td>natural_partitions</td>\n      <td>-4.720684</td>\n      <td>MAADGYLPDWLEDTLSEGIRQWWKLKPGPPPPKPAERHKDDSRGLV...</td>\n      <td>test</td>\n      <td>...</td>\n      <td>NaN</td>\n      <td>train</td>\n      <td>NaN</td>\n      <td>train</td>\n      <td>NaN</td>\n      <td>train</td>\n      <td>True</td>\n      <td>test</td>\n      <td>NaN</td>\n      <td>DEEEIRTTNPVATEQYGSVSTNLQRGNR</td>\n    </tr>\n    <tr>\n      <th>65397</th>\n      <td>_____________*_______________</td>\n      <td>DEEEIRTTNPVAT*EQYGSVSTNLQRGNR</td>\n      <td>stop</td>\n      <td>1.0</td>\n      <td>1.0</td>\n      <td>False</td>\n      <td>natural_partitions</td>\n      <td>-4.338882</td>\n      <td>MAADGYLPDWLEDTLSEGIRQWWKLKPGPPPPKPAERHKDDSRGLV...</td>\n      <td>train</td>\n      <td>...</td>\n      <td>NaN</td>\n      <td>train</td>\n      <td>NaN</td>\n      <td>train</td>\n      <td>NaN</td>\n      <td>train</td>\n      <td>NaN</td>\n      <td>test</td>\n      <td>NaN</td>\n      <td>DEEEIRTTNPVATEQYGSVSTNLQRGNR</td>\n    </tr>\n    <tr>\n      <th>65752</th>\n      <td>______________*______________</td>\n      <td>DEEEIRTTNPVATE*QYGSVSTNLQRGNR</td>\n      <td>stop</td>\n      <td>1.0</td>\n      <td>1.0</td>\n      <td>False</td>\n      <td>natural_partitions</td>\n      <td>-5.715513</td>\n      <td>MAADGYLPDWLEDTLSEGIRQWWKLKPGPPPPKPAERHKDDSRGLV...</td>\n      <td>train</td>\n      <td>...</td>\n      <td>NaN</td>\n      <td>train</td>\n      <td>NaN</td>\n      <td>train</td>\n      <td>NaN</td>\n      <td>train</td>\n      <td>NaN</td>\n      <td>test</td>\n      <td>NaN</td>\n      <td>DEEEIRTTNPVATEQYGSVSTNLQRGNR</td>\n    </tr>\n    <tr>\n      <th>70405</th>\n      <td>_______________*_____________</td>\n      <td>DEEEIRTTNPVATEQ*YGSVSTNLQRGNR</td>\n      <td>stop</td>\n      <td>1.0</td>\n      <td>1.0</td>\n      <td>False</td>\n      <td>natural_partitions</td>\n      <td>-5.360293</td>\n      <td>MAADGYLPDWLEDTLSEGIRQWWKLKPGPPPPKPAERHKDDSRGLV...</td>\n      <td>train</td>\n      <td>...</td>\n      <td>NaN</td>\n      <td>train</td>\n      <td>NaN</td>\n      <td>train</td>\n      <td>NaN</td>\n      <td>train</td>\n      <td>NaN</td>\n      <td>test</td>\n      <td>NaN</td>\n      <td>DEEEIRTTNPVATEQYGSVSTNLQRGNR</td>\n    </tr>\n    <tr>\n      <th>71744</th>\n      <td>________________*____________</td>\n      <td>DEEEIRTTNPVATEQY*GSVSTNLQRGNR</td>\n      <td>stop</td>\n      <td>1.0</td>\n      <td>1.0</td>\n      <td>False</td>\n      <td>natural_partitions</td>\n      <td>-5.139831</td>\n      <td>MAADGYLPDWLEDTLSEGIRQWWKLKPGPPPPKPAERHKDDSRGLV...</td>\n      <td>test</td>\n      <td>...</td>\n      <td>NaN</td>\n      <td>train</td>\n      <td>NaN</td>\n      <td>train</td>\n      <td>NaN</td>\n      <td>train</td>\n      <td>True</td>\n      <td>test</td>\n      <td>NaN</td>\n      <td>DEEEIRTTNPVATEQYGSVSTNLQRGNR</td>\n    </tr>\n    <tr>\n      <th>71880</th>\n      <td>_________________*___________</td>\n      <td>DEEEIRTTNPVATEQYG*SVSTNLQRGNR</td>\n      <td>stop</td>\n      <td>1.0</td>\n      <td>1.0</td>\n      <td>False</td>\n      <td>natural_partitions</td>\n      <td>-4.863951</td>\n      <td>MAADGYLPDWLEDTLSEGIRQWWKLKPGPPPPKPAERHKDDSRGLV...</td>\n      <td>train</td>\n      <td>...</td>\n      <td>NaN</td>\n      <td>train</td>\n      <td>NaN</td>\n      <td>train</td>\n      <td>NaN</td>\n      <td>train</td>\n      <td>NaN</td>\n      <td>test</td>\n      <td>NaN</td>\n      <td>DEEEIRTTNPVATEQYGSVSTNLQRGNR</td>\n    </tr>\n    <tr>\n      <th>80516</th>\n      <td>__________________*__________</td>\n      <td>DEEEIRTTNPVATEQYGS*VSTNLQRGNR</td>\n      <td>stop</td>\n      <td>1.0</td>\n      <td>1.0</td>\n      <td>False</td>\n      <td>natural_partitions</td>\n      <td>-5.301495</td>\n      <td>MAADGYLPDWLEDTLSEGIRQWWKLKPGPPPPKPAERHKDDSRGLV...</td>\n      <td>train</td>\n      <td>...</td>\n      <td>NaN</td>\n      <td>train</td>\n      <td>NaN</td>\n      <td>train</td>\n      <td>NaN</td>\n      <td>train</td>\n      <td>NaN</td>\n      <td>test</td>\n      <td>NaN</td>\n      <td>DEEEIRTTNPVATEQYGSVSTNLQRGNR</td>\n    </tr>\n    <tr>\n      <th>82625</th>\n      <td>___________________*_________</td>\n      <td>DEEEIRTTNPVATEQYGSV*STNLQRGNR</td>\n      <td>stop</td>\n      <td>1.0</td>\n      <td>1.0</td>\n      <td>False</td>\n      <td>natural_partitions</td>\n      <td>-7.839856</td>\n      <td>MAADGYLPDWLEDTLSEGIRQWWKLKPGPPPPKPAERHKDDSRGLV...</td>\n      <td>train</td>\n      <td>...</td>\n      <td>NaN</td>\n      <td>train</td>\n      <td>NaN</td>\n      <td>train</td>\n      <td>NaN</td>\n      <td>train</td>\n      <td>NaN</td>\n      <td>test</td>\n      <td>NaN</td>\n      <td>DEEEIRTTNPVATEQYGSVSTNLQRGNR</td>\n    </tr>\n    <tr>\n      <th>87366</th>\n      <td>____________________*________</td>\n      <td>DEEEIRTTNPVATEQYGSVS*TNLQRGNR</td>\n      <td>stop</td>\n      <td>1.0</td>\n      <td>1.0</td>\n      <td>False</td>\n      <td>natural_partitions</td>\n      <td>-5.807707</td>\n      <td>MAADGYLPDWLEDTLSEGIRQWWKLKPGPPPPKPAERHKDDSRGLV...</td>\n      <td>train</td>\n      <td>...</td>\n      <td>NaN</td>\n      <td>train</td>\n      <td>NaN</td>\n      <td>train</td>\n      <td>NaN</td>\n      <td>train</td>\n      <td>NaN</td>\n      <td>test</td>\n      <td>NaN</td>\n      <td>DEEEIRTTNPVATEQYGSVSTNLQRGNR</td>\n    </tr>\n    <tr>\n      <th>89856</th>\n      <td>_____________________*_______</td>\n      <td>DEEEIRTTNPVATEQYGSVST*NLQRGNR</td>\n      <td>stop</td>\n      <td>1.0</td>\n      <td>1.0</td>\n      <td>False</td>\n      <td>natural_partitions</td>\n      <td>-5.575699</td>\n      <td>MAADGYLPDWLEDTLSEGIRQWWKLKPGPPPPKPAERHKDDSRGLV...</td>\n      <td>train</td>\n      <td>...</td>\n      <td>NaN</td>\n      <td>train</td>\n      <td>NaN</td>\n      <td>train</td>\n      <td>NaN</td>\n      <td>train</td>\n      <td>NaN</td>\n      <td>test</td>\n      <td>NaN</td>\n      <td>DEEEIRTTNPVATEQYGSVSTNLQRGNR</td>\n    </tr>\n    <tr>\n      <th>92400</th>\n      <td>______________________*______</td>\n      <td>DEEEIRTTNPVATEQYGSVSTN*LQRGNR</td>\n      <td>stop</td>\n      <td>1.0</td>\n      <td>1.0</td>\n      <td>False</td>\n      <td>natural_partitions</td>\n      <td>-4.211803</td>\n      <td>MAADGYLPDWLEDTLSEGIRQWWKLKPGPPPPKPAERHKDDSRGLV...</td>\n      <td>train</td>\n      <td>...</td>\n      <td>NaN</td>\n      <td>train</td>\n      <td>NaN</td>\n      <td>train</td>\n      <td>NaN</td>\n      <td>train</td>\n      <td>NaN</td>\n      <td>test</td>\n      <td>NaN</td>\n      <td>DEEEIRTTNPVATEQYGSVSTNLQRGNR</td>\n    </tr>\n    <tr>\n      <th>93173</th>\n      <td>_______________________*_____</td>\n      <td>DEEEIRTTNPVATEQYGSVSTNL*QRGNR</td>\n      <td>stop</td>\n      <td>1.0</td>\n      <td>1.0</td>\n      <td>False</td>\n      <td>natural_partitions</td>\n      <td>-5.081087</td>\n      <td>MAADGYLPDWLEDTLSEGIRQWWKLKPGPPPPKPAERHKDDSRGLV...</td>\n      <td>test</td>\n      <td>...</td>\n      <td>NaN</td>\n      <td>train</td>\n      <td>NaN</td>\n      <td>train</td>\n      <td>NaN</td>\n      <td>train</td>\n      <td>NaN</td>\n      <td>test</td>\n      <td>NaN</td>\n      <td>DEEEIRTTNPVATEQYGSVSTNLQRGNR</td>\n    </tr>\n    <tr>\n      <th>93970</th>\n      <td>________________________*____</td>\n      <td>DEEEIRTTNPVATEQYGSVSTNLQ*RGNR</td>\n      <td>stop</td>\n      <td>1.0</td>\n      <td>1.0</td>\n      <td>False</td>\n      <td>natural_partitions</td>\n      <td>-4.641740</td>\n      <td>MAADGYLPDWLEDTLSEGIRQWWKLKPGPPPPKPAERHKDDSRGLV...</td>\n      <td>train</td>\n      <td>...</td>\n      <td>NaN</td>\n      <td>train</td>\n      <td>NaN</td>\n      <td>train</td>\n      <td>NaN</td>\n      <td>train</td>\n      <td>NaN</td>\n      <td>test</td>\n      <td>NaN</td>\n      <td>DEEEIRTTNPVATEQYGSVSTNLQRGNR</td>\n    </tr>\n    <tr>\n      <th>94702</th>\n      <td>_________________________*___</td>\n      <td>DEEEIRTTNPVATEQYGSVSTNLQR*GNR</td>\n      <td>stop</td>\n      <td>1.0</td>\n      <td>1.0</td>\n      <td>False</td>\n      <td>natural_partitions</td>\n      <td>-5.837778</td>\n      <td>MAADGYLPDWLEDTLSEGIRQWWKLKPGPPPPKPAERHKDDSRGLV...</td>\n      <td>train</td>\n      <td>...</td>\n      <td>NaN</td>\n      <td>train</td>\n      <td>NaN</td>\n      <td>train</td>\n      <td>NaN</td>\n      <td>train</td>\n      <td>NaN</td>\n      <td>test</td>\n      <td>NaN</td>\n      <td>DEEEIRTTNPVATEQYGSVSTNLQRGNR</td>\n    </tr>\n    <tr>\n      <th>94762</th>\n      <td>__________________________*__</td>\n      <td>DEEEIRTTNPVATEQYGSVSTNLQRG*NR</td>\n      <td>stop</td>\n      <td>1.0</td>\n      <td>1.0</td>\n      <td>False</td>\n      <td>natural_partitions</td>\n      <td>-4.372491</td>\n      <td>MAADGYLPDWLEDTLSEGIRQWWKLKPGPPPPKPAERHKDDSRGLV...</td>\n      <td>test</td>\n      <td>...</td>\n      <td>NaN</td>\n      <td>train</td>\n      <td>NaN</td>\n      <td>train</td>\n      <td>True</td>\n      <td>train</td>\n      <td>True</td>\n      <td>test</td>\n      <td>NaN</td>\n      <td>DEEEIRTTNPVATEQYGSVSTNLQRGNR</td>\n    </tr>\n    <tr>\n      <th>94853</th>\n      <td>___________________________*_</td>\n      <td>DEEEIRTTNPVATEQYGSVSTNLQRGN*R</td>\n      <td>stop</td>\n      <td>1.0</td>\n      <td>1.0</td>\n      <td>False</td>\n      <td>natural_partitions</td>\n      <td>-6.464360</td>\n      <td>MAADGYLPDWLEDTLSEGIRQWWKLKPGPPPPKPAERHKDDSRGLV...</td>\n      <td>train</td>\n      <td>...</td>\n      <td>NaN</td>\n      <td>train</td>\n      <td>NaN</td>\n      <td>train</td>\n      <td>NaN</td>\n      <td>train</td>\n      <td>NaN</td>\n      <td>test</td>\n      <td>NaN</td>\n      <td>DEEEIRTTNPVATEQYGSVSTNLQRGNR</td>\n    </tr>\n    <tr>\n      <th>94877</th>\n      <td>____________________________</td>\n      <td>DEEEIRTTNPVATEQYGSVSTNLQRGNR</td>\n      <td>wild_type</td>\n      <td>0.0</td>\n      <td>0.0</td>\n      <td>True</td>\n      <td>natural_partitions</td>\n      <td>-0.918194</td>\n      <td>MAADGYLPDWLEDTLSEGIRQWWKLKPGPPPPKPAERHKDDSRGLV...</td>\n      <td>train</td>\n      <td>...</td>\n      <td>NaN</td>\n      <td>train</td>\n      <td>NaN</td>\n      <td>train</td>\n      <td>NaN</td>\n      <td>train</td>\n      <td>NaN</td>\n      <td>test</td>\n      <td>NaN</td>\n      <td>DEEEIRTTNPVATEQYGSVSTNLQRGNR</td>\n    </tr>\n    <tr>\n      <th>94878</th>\n      <td>____________________________*</td>\n      <td>DEEEIRTTNPVATEQYGSVSTNLQRGNR*</td>\n      <td>stop</td>\n      <td>1.0</td>\n      <td>1.0</td>\n      <td>False</td>\n      <td>natural_partitions</td>\n      <td>-5.477714</td>\n      <td>MAADGYLPDWLEDTLSEGIRQWWKLKPGPPPPKPAERHKDDSRGLV...</td>\n      <td>train</td>\n      <td>...</td>\n      <td>NaN</td>\n      <td>train</td>\n      <td>NaN</td>\n      <td>train</td>\n      <td>True</td>\n      <td>train</td>\n      <td>NaN</td>\n      <td>test</td>\n      <td>NaN</td>\n      <td>DEEEIRTTNPVATEQYGSVSTNLQRGNR</td>\n    </tr>\n  </tbody>\n</table>\n<p>30 rows × 24 columns</p>\n</div>"
     },
     "execution_count": 6,
     "metadata": {},
     "output_type": "execute_result"
    }
   ],
   "source": [
    "df_aav_full_data[df_aav_full_data['full_aa_sequence'] == aav_reference_seq]"
   ],
   "metadata": {
    "collapsed": false,
    "ExecuteTime": {
     "end_time": "2023-07-24T15:02:06.886232Z",
     "start_time": "2023-07-24T15:02:06.843582Z"
    }
   }
  },
  {
   "cell_type": "code",
   "execution_count": 7,
   "outputs": [
    {
     "data": {
      "text/plain": "0        735\n1        734\n22819    735\n22820    734\n28513    735\n28514    734\n42350    735\n42351    734\n44239    735\n44240    734\n44705    735\n44706    734\n53384    734\n53385    735\n57740    734\n57741    735\n58530    735\n58531    734\n58984    735\n58985    734\n59632    734\n59633    735\n64471    735\n64472    734\n64473    734\n64474    735\n65397    735\n65398    734\n65752    735\n65753    734\n70404    734\n70405    735\n71744    735\n71745    734\n71880    735\n71881    734\n80515    734\n80516    735\n82625    735\n82626    734\n87365    734\n87366    735\n89855    734\n89856    735\n92400    735\n92401    734\n93173    735\n93174    734\n93969    734\n93970    735\n94702    735\n94703    734\n94762    735\n94763    734\n94852    734\n94853    735\n94878    735\nName: full_aa_sequence, dtype: int64"
     },
     "execution_count": 7,
     "metadata": {},
     "output_type": "execute_result"
    }
   ],
   "source": [
    "df_aav_full_data[df_aav_full_data['category'] == \"stop\"]['full_aa_sequence'].apply(len)"
   ],
   "metadata": {
    "collapsed": false,
    "ExecuteTime": {
     "end_time": "2023-07-24T15:02:06.886654Z",
     "start_time": "2023-07-24T15:02:06.864924Z"
    }
   }
  },
  {
   "cell_type": "code",
   "execution_count": 7,
   "metadata": {
    "ExecuteTime": {
     "end_time": "2023-07-24T15:02:06.886744Z",
     "start_time": "2023-07-24T15:02:06.878772Z"
    }
   },
   "outputs": [],
   "source": []
  },
  {
   "cell_type": "markdown",
   "metadata": {},
   "source": [
    "### mut-des"
   ]
  },
  {
   "cell_type": "code",
   "execution_count": 8,
   "metadata": {
    "ExecuteTime": {
     "end_time": "2023-07-24T15:02:08.887392Z",
     "start_time": "2023-07-24T15:02:06.879120Z"
    }
   },
   "outputs": [
    {
     "name": "stdout",
     "output_type": "stream",
     "text": [
      "<class 'pandas.core.frame.DataFrame'>\n",
      "RangeIndex: 284009 entries, 0 to 284008\n",
      "Data columns (total 4 columns):\n",
      " #   Column      Non-Null Count   Dtype  \n",
      "---  ------      --------------   -----  \n",
      " 0   sequence    284009 non-null  object \n",
      " 1   target      284009 non-null  float64\n",
      " 2   set         284009 non-null  object \n",
      " 3   validation  8259 non-null    object \n",
      "dtypes: float64(1), object(3)\n",
      "memory usage: 8.7+ MB\n",
      "None\n"
     ]
    },
    {
     "data": {
      "text/plain": "                                            sequence    target    set  \\\n0  MAADGYLPDWLEDTLSEGIRQWWKLKPGPPPPKPAERHKDDSRGLV... -6.824780  train   \n1  MAADGYLPDWLEDTLSEGIRQWWKLKPGPPPPKPAERHKDDSRGLV... -6.500402  train   \n2  MAADGYLPDWLEDTLSEGIRQWWKLKPGPPPPKPAERHKDDSRGLV...  0.900998   test   \n3  MAADGYLPDWLEDTLSEGIRQWWKLKPGPPPPKPAERHKDDSRGLV... -4.843517   test   \n4  MAADGYLPDWLEDTLSEGIRQWWKLKPGPPPPKPAERHKDDSRGLV... -6.566587   test   \n\n  validation  \n0        NaN  \n1        NaN  \n2        NaN  \n3        NaN  \n4        NaN  ",
      "text/html": "<div>\n<style scoped>\n    .dataframe tbody tr th:only-of-type {\n        vertical-align: middle;\n    }\n\n    .dataframe tbody tr th {\n        vertical-align: top;\n    }\n\n    .dataframe thead th {\n        text-align: right;\n    }\n</style>\n<table border=\"1\" class=\"dataframe\">\n  <thead>\n    <tr style=\"text-align: right;\">\n      <th></th>\n      <th>sequence</th>\n      <th>target</th>\n      <th>set</th>\n      <th>validation</th>\n    </tr>\n  </thead>\n  <tbody>\n    <tr>\n      <th>0</th>\n      <td>MAADGYLPDWLEDTLSEGIRQWWKLKPGPPPPKPAERHKDDSRGLV...</td>\n      <td>-6.824780</td>\n      <td>train</td>\n      <td>NaN</td>\n    </tr>\n    <tr>\n      <th>1</th>\n      <td>MAADGYLPDWLEDTLSEGIRQWWKLKPGPPPPKPAERHKDDSRGLV...</td>\n      <td>-6.500402</td>\n      <td>train</td>\n      <td>NaN</td>\n    </tr>\n    <tr>\n      <th>2</th>\n      <td>MAADGYLPDWLEDTLSEGIRQWWKLKPGPPPPKPAERHKDDSRGLV...</td>\n      <td>0.900998</td>\n      <td>test</td>\n      <td>NaN</td>\n    </tr>\n    <tr>\n      <th>3</th>\n      <td>MAADGYLPDWLEDTLSEGIRQWWKLKPGPPPPKPAERHKDDSRGLV...</td>\n      <td>-4.843517</td>\n      <td>test</td>\n      <td>NaN</td>\n    </tr>\n    <tr>\n      <th>4</th>\n      <td>MAADGYLPDWLEDTLSEGIRQWWKLKPGPPPPKPAERHKDDSRGLV...</td>\n      <td>-6.566587</td>\n      <td>test</td>\n      <td>NaN</td>\n    </tr>\n  </tbody>\n</table>\n</div>"
     },
     "execution_count": 8,
     "metadata": {},
     "output_type": "execute_result"
    }
   ],
   "source": [
    "df_aav_split_data_mut_des = pd.read_csv(aav_split_data_mut_des_file)\n",
    "print(df_aav_split_data_mut_des.info())\n",
    "df_aav_split_data_mut_des.head()"
   ]
  },
  {
   "cell_type": "code",
   "execution_count": 9,
   "metadata": {
    "ExecuteTime": {
     "end_time": "2023-07-24T15:02:08.950377Z",
     "start_time": "2023-07-24T15:02:08.885259Z"
    }
   },
   "outputs": [
    {
     "name": "stdout",
     "output_type": "stream",
     "text": [
      "mut-des 284009 74324 8259 201426\n"
     ]
    }
   ],
   "source": [
    "num_val = df_aav_split_data_mut_des['validation'].sum()\n",
    "num_train = df_aav_split_data_mut_des.set.value_counts()['train'] - num_val\n",
    "num_test = df_aav_split_data_mut_des.set.value_counts()['test']\n",
    "num_all = num_train + num_val + num_test\n",
    "print('mut-des', num_all, num_train, num_val, num_test)"
   ]
  },
  {
   "cell_type": "code",
   "execution_count": 9,
   "outputs": [],
   "source": [],
   "metadata": {
    "collapsed": false,
    "ExecuteTime": {
     "end_time": "2023-07-24T15:02:08.964613Z",
     "start_time": "2023-07-24T15:02:08.913680Z"
    }
   }
  },
  {
   "cell_type": "markdown",
   "metadata": {},
   "source": [
    "### des-mut"
   ]
  },
  {
   "cell_type": "code",
   "execution_count": 10,
   "metadata": {
    "ExecuteTime": {
     "end_time": "2023-07-24T15:02:10.982887Z",
     "start_time": "2023-07-24T15:02:08.922430Z"
    }
   },
   "outputs": [
    {
     "name": "stdout",
     "output_type": "stream",
     "text": [
      "<class 'pandas.core.frame.DataFrame'>\n",
      "RangeIndex: 284009 entries, 0 to 284008\n",
      "Data columns (total 4 columns):\n",
      " #   Column      Non-Null Count   Dtype  \n",
      "---  ------      --------------   -----  \n",
      " 0   sequence    284009 non-null  object \n",
      " 1   target      284009 non-null  float64\n",
      " 2   set         284009 non-null  object \n",
      " 3   validation  20143 non-null   object \n",
      "dtypes: float64(1), object(3)\n",
      "memory usage: 8.7+ MB\n",
      "None\n"
     ]
    },
    {
     "data": {
      "text/plain": "                                            sequence    target    set  \\\n0  MAADGYLPDWLEDTLSEGIRQWWKLKPGPPPPKPAERHKDDSRGLV... -6.824780   test   \n1  MAADGYLPDWLEDTLSEGIRQWWKLKPGPPPPKPAERHKDDSRGLV... -6.500402   test   \n2  MAADGYLPDWLEDTLSEGIRQWWKLKPGPPPPKPAERHKDDSRGLV...  0.900998  train   \n3  MAADGYLPDWLEDTLSEGIRQWWKLKPGPPPPKPAERHKDDSRGLV... -4.843517  train   \n4  MAADGYLPDWLEDTLSEGIRQWWKLKPGPPPPKPAERHKDDSRGLV... -6.566587  train   \n\n  validation  \n0        NaN  \n1        NaN  \n2        NaN  \n3        NaN  \n4        NaN  ",
      "text/html": "<div>\n<style scoped>\n    .dataframe tbody tr th:only-of-type {\n        vertical-align: middle;\n    }\n\n    .dataframe tbody tr th {\n        vertical-align: top;\n    }\n\n    .dataframe thead th {\n        text-align: right;\n    }\n</style>\n<table border=\"1\" class=\"dataframe\">\n  <thead>\n    <tr style=\"text-align: right;\">\n      <th></th>\n      <th>sequence</th>\n      <th>target</th>\n      <th>set</th>\n      <th>validation</th>\n    </tr>\n  </thead>\n  <tbody>\n    <tr>\n      <th>0</th>\n      <td>MAADGYLPDWLEDTLSEGIRQWWKLKPGPPPPKPAERHKDDSRGLV...</td>\n      <td>-6.824780</td>\n      <td>test</td>\n      <td>NaN</td>\n    </tr>\n    <tr>\n      <th>1</th>\n      <td>MAADGYLPDWLEDTLSEGIRQWWKLKPGPPPPKPAERHKDDSRGLV...</td>\n      <td>-6.500402</td>\n      <td>test</td>\n      <td>NaN</td>\n    </tr>\n    <tr>\n      <th>2</th>\n      <td>MAADGYLPDWLEDTLSEGIRQWWKLKPGPPPPKPAERHKDDSRGLV...</td>\n      <td>0.900998</td>\n      <td>train</td>\n      <td>NaN</td>\n    </tr>\n    <tr>\n      <th>3</th>\n      <td>MAADGYLPDWLEDTLSEGIRQWWKLKPGPPPPKPAERHKDDSRGLV...</td>\n      <td>-4.843517</td>\n      <td>train</td>\n      <td>NaN</td>\n    </tr>\n    <tr>\n      <th>4</th>\n      <td>MAADGYLPDWLEDTLSEGIRQWWKLKPGPPPPKPAERHKDDSRGLV...</td>\n      <td>-6.566587</td>\n      <td>train</td>\n      <td>NaN</td>\n    </tr>\n  </tbody>\n</table>\n</div>"
     },
     "execution_count": 10,
     "metadata": {},
     "output_type": "execute_result"
    }
   ],
   "source": [
    "df_aav_split_data_des_mut = pd.read_csv(aav_split_data_des_mut_file)\n",
    "print(df_aav_split_data_des_mut.info())\n",
    "df_aav_split_data_des_mut.head()"
   ]
  },
  {
   "cell_type": "code",
   "execution_count": 11,
   "metadata": {
    "ExecuteTime": {
     "end_time": "2023-07-24T15:02:10.983196Z",
     "start_time": "2023-07-24T15:02:10.975958Z"
    }
   },
   "outputs": [
    {
     "name": "stdout",
     "output_type": "stream",
     "text": [
      "des-mut 284009 181283 20143 82583\n"
     ]
    }
   ],
   "source": [
    "num_val = df_aav_split_data_des_mut['validation'].sum()\n",
    "num_train = df_aav_split_data_des_mut.set.value_counts()['train'] - num_val\n",
    "num_test = df_aav_split_data_des_mut.set.value_counts()['test']\n",
    "num_all = num_train + num_val + num_test\n",
    "print('des-mut', num_all, num_train, num_val, num_test)"
   ]
  },
  {
   "cell_type": "markdown",
   "metadata": {},
   "source": [
    "### one-vs-many"
   ]
  },
  {
   "cell_type": "code",
   "execution_count": 12,
   "metadata": {
    "ExecuteTime": {
     "end_time": "2023-07-24T15:02:12.965961Z",
     "start_time": "2023-07-24T15:02:10.982377Z"
    }
   },
   "outputs": [
    {
     "name": "stdout",
     "output_type": "stream",
     "text": [
      "<class 'pandas.core.frame.DataFrame'>\n",
      "RangeIndex: 284009 entries, 0 to 284008\n",
      "Data columns (total 4 columns):\n",
      " #   Column      Non-Null Count   Dtype  \n",
      "---  ------      --------------   -----  \n",
      " 0   sequence    284009 non-null  object \n",
      " 1   target      284009 non-null  float64\n",
      " 2   set         82583 non-null   object \n",
      " 3   validation  117 non-null     object \n",
      "dtypes: float64(1), object(3)\n",
      "memory usage: 8.7+ MB\n",
      "None\n"
     ]
    },
    {
     "data": {
      "text/plain": "                                            sequence    target    set  \\\n0  MAADGYLPDWLEDTLSEGIRQWWKLKPGPPPPKPAERHKDDSRGLV... -6.824780  train   \n1  MAADGYLPDWLEDTLSEGIRQWWKLKPGPPPPKPAERHKDDSRGLV... -6.500402  train   \n2  MAADGYLPDWLEDTLSEGIRQWWKLKPGPPPPKPAERHKDDSRGLV...  0.900998    NaN   \n3  MAADGYLPDWLEDTLSEGIRQWWKLKPGPPPPKPAERHKDDSRGLV... -4.843517    NaN   \n4  MAADGYLPDWLEDTLSEGIRQWWKLKPGPPPPKPAERHKDDSRGLV... -6.566587    NaN   \n\n  validation  \n0        NaN  \n1        NaN  \n2        NaN  \n3        NaN  \n4        NaN  ",
      "text/html": "<div>\n<style scoped>\n    .dataframe tbody tr th:only-of-type {\n        vertical-align: middle;\n    }\n\n    .dataframe tbody tr th {\n        vertical-align: top;\n    }\n\n    .dataframe thead th {\n        text-align: right;\n    }\n</style>\n<table border=\"1\" class=\"dataframe\">\n  <thead>\n    <tr style=\"text-align: right;\">\n      <th></th>\n      <th>sequence</th>\n      <th>target</th>\n      <th>set</th>\n      <th>validation</th>\n    </tr>\n  </thead>\n  <tbody>\n    <tr>\n      <th>0</th>\n      <td>MAADGYLPDWLEDTLSEGIRQWWKLKPGPPPPKPAERHKDDSRGLV...</td>\n      <td>-6.824780</td>\n      <td>train</td>\n      <td>NaN</td>\n    </tr>\n    <tr>\n      <th>1</th>\n      <td>MAADGYLPDWLEDTLSEGIRQWWKLKPGPPPPKPAERHKDDSRGLV...</td>\n      <td>-6.500402</td>\n      <td>train</td>\n      <td>NaN</td>\n    </tr>\n    <tr>\n      <th>2</th>\n      <td>MAADGYLPDWLEDTLSEGIRQWWKLKPGPPPPKPAERHKDDSRGLV...</td>\n      <td>0.900998</td>\n      <td>NaN</td>\n      <td>NaN</td>\n    </tr>\n    <tr>\n      <th>3</th>\n      <td>MAADGYLPDWLEDTLSEGIRQWWKLKPGPPPPKPAERHKDDSRGLV...</td>\n      <td>-4.843517</td>\n      <td>NaN</td>\n      <td>NaN</td>\n    </tr>\n    <tr>\n      <th>4</th>\n      <td>MAADGYLPDWLEDTLSEGIRQWWKLKPGPPPPKPAERHKDDSRGLV...</td>\n      <td>-6.566587</td>\n      <td>NaN</td>\n      <td>NaN</td>\n    </tr>\n  </tbody>\n</table>\n</div>"
     },
     "execution_count": 12,
     "metadata": {},
     "output_type": "execute_result"
    }
   ],
   "source": [
    "df_aav_split_data_one_vs_many = pd.read_csv(aav_split_data_one_vs_many_file)\n",
    "print(df_aav_split_data_one_vs_many.info())\n",
    "df_aav_split_data_one_vs_many.head()"
   ]
  },
  {
   "cell_type": "code",
   "execution_count": 13,
   "metadata": {
    "ExecuteTime": {
     "end_time": "2023-07-24T15:02:13.016580Z",
     "start_time": "2023-07-24T15:02:12.972488Z"
    }
   },
   "outputs": [
    {
     "name": "stdout",
     "output_type": "stream",
     "text": [
      "one-many 82583 1053 117 81413\n"
     ]
    }
   ],
   "source": [
    "num_val = df_aav_split_data_one_vs_many['validation'].sum()\n",
    "num_train = df_aav_split_data_one_vs_many.set.value_counts()['train'] - num_val\n",
    "num_test = df_aav_split_data_one_vs_many.set.value_counts()['test']\n",
    "num_all = num_train + num_val + num_test\n",
    "print('one-many', num_all, num_train, num_val, num_test)"
   ]
  },
  {
   "cell_type": "markdown",
   "metadata": {},
   "source": [
    "### two-many"
   ]
  },
  {
   "cell_type": "code",
   "execution_count": 14,
   "metadata": {
    "ExecuteTime": {
     "end_time": "2023-07-24T15:02:15.009194Z",
     "start_time": "2023-07-24T15:02:12.994736Z"
    }
   },
   "outputs": [
    {
     "name": "stdout",
     "output_type": "stream",
     "text": [
      "<class 'pandas.core.frame.DataFrame'>\n",
      "RangeIndex: 284009 entries, 0 to 284008\n",
      "Data columns (total 4 columns):\n",
      " #   Column      Non-Null Count   Dtype  \n",
      "---  ------      --------------   -----  \n",
      " 0   sequence    284009 non-null  object \n",
      " 1   target      284009 non-null  float64\n",
      " 2   set         82583 non-null   object \n",
      " 3   validation  3181 non-null    object \n",
      "dtypes: float64(1), object(3)\n",
      "memory usage: 8.7+ MB\n",
      "None\n"
     ]
    },
    {
     "data": {
      "text/plain": "                                            sequence    target    set  \\\n0  MAADGYLPDWLEDTLSEGIRQWWKLKPGPPPPKPAERHKDDSRGLV... -6.824780  train   \n1  MAADGYLPDWLEDTLSEGIRQWWKLKPGPPPPKPAERHKDDSRGLV... -6.500402  train   \n2  MAADGYLPDWLEDTLSEGIRQWWKLKPGPPPPKPAERHKDDSRGLV...  0.900998    NaN   \n3  MAADGYLPDWLEDTLSEGIRQWWKLKPGPPPPKPAERHKDDSRGLV... -4.843517    NaN   \n4  MAADGYLPDWLEDTLSEGIRQWWKLKPGPPPPKPAERHKDDSRGLV... -6.566587    NaN   \n\n  validation  \n0        NaN  \n1        NaN  \n2        NaN  \n3        NaN  \n4        NaN  ",
      "text/html": "<div>\n<style scoped>\n    .dataframe tbody tr th:only-of-type {\n        vertical-align: middle;\n    }\n\n    .dataframe tbody tr th {\n        vertical-align: top;\n    }\n\n    .dataframe thead th {\n        text-align: right;\n    }\n</style>\n<table border=\"1\" class=\"dataframe\">\n  <thead>\n    <tr style=\"text-align: right;\">\n      <th></th>\n      <th>sequence</th>\n      <th>target</th>\n      <th>set</th>\n      <th>validation</th>\n    </tr>\n  </thead>\n  <tbody>\n    <tr>\n      <th>0</th>\n      <td>MAADGYLPDWLEDTLSEGIRQWWKLKPGPPPPKPAERHKDDSRGLV...</td>\n      <td>-6.824780</td>\n      <td>train</td>\n      <td>NaN</td>\n    </tr>\n    <tr>\n      <th>1</th>\n      <td>MAADGYLPDWLEDTLSEGIRQWWKLKPGPPPPKPAERHKDDSRGLV...</td>\n      <td>-6.500402</td>\n      <td>train</td>\n      <td>NaN</td>\n    </tr>\n    <tr>\n      <th>2</th>\n      <td>MAADGYLPDWLEDTLSEGIRQWWKLKPGPPPPKPAERHKDDSRGLV...</td>\n      <td>0.900998</td>\n      <td>NaN</td>\n      <td>NaN</td>\n    </tr>\n    <tr>\n      <th>3</th>\n      <td>MAADGYLPDWLEDTLSEGIRQWWKLKPGPPPPKPAERHKDDSRGLV...</td>\n      <td>-4.843517</td>\n      <td>NaN</td>\n      <td>NaN</td>\n    </tr>\n    <tr>\n      <th>4</th>\n      <td>MAADGYLPDWLEDTLSEGIRQWWKLKPGPPPPKPAERHKDDSRGLV...</td>\n      <td>-6.566587</td>\n      <td>NaN</td>\n      <td>NaN</td>\n    </tr>\n  </tbody>\n</table>\n</div>"
     },
     "execution_count": 14,
     "metadata": {},
     "output_type": "execute_result"
    }
   ],
   "source": [
    "df_aav_split_data_two_vs_many = pd.read_csv(aav_split_data_two_vs_many_file)\n",
    "print(df_aav_split_data_two_vs_many.info())\n",
    "df_aav_split_data_two_vs_many.head()"
   ]
  },
  {
   "cell_type": "code",
   "execution_count": 15,
   "metadata": {
    "ExecuteTime": {
     "end_time": "2023-07-24T15:02:15.117827Z",
     "start_time": "2023-07-24T15:02:15.015781Z"
    }
   },
   "outputs": [
    {
     "name": "stdout",
     "output_type": "stream",
     "text": [
      "two-many 82583 28626 3181 50776\n"
     ]
    }
   ],
   "source": [
    "num_val = df_aav_split_data_two_vs_many['validation'].sum()\n",
    "num_train = df_aav_split_data_two_vs_many.set.value_counts()['train'] - num_val\n",
    "num_test = df_aav_split_data_two_vs_many.set.value_counts()['test']\n",
    "num_all = num_train + num_val + num_test\n",
    "print('two-many', num_all, num_train, num_val, num_test)"
   ]
  },
  {
   "cell_type": "markdown",
   "metadata": {},
   "source": [
    "### seven-vs-many"
   ]
  },
  {
   "cell_type": "code",
   "execution_count": 16,
   "metadata": {
    "ExecuteTime": {
     "end_time": "2023-07-24T15:02:17.146236Z",
     "start_time": "2023-07-24T15:02:15.077336Z"
    }
   },
   "outputs": [
    {
     "name": "stdout",
     "output_type": "stream",
     "text": [
      "<class 'pandas.core.frame.DataFrame'>\n",
      "RangeIndex: 284009 entries, 0 to 284008\n",
      "Data columns (total 4 columns):\n",
      " #   Column      Non-Null Count   Dtype  \n",
      "---  ------      --------------   -----  \n",
      " 0   sequence    284009 non-null  object \n",
      " 1   target      284009 non-null  float64\n",
      " 2   set         82583 non-null   object \n",
      " 3   validation  7001 non-null    object \n",
      "dtypes: float64(1), object(3)\n",
      "memory usage: 8.7+ MB\n",
      "None\n"
     ]
    },
    {
     "data": {
      "text/plain": "                                            sequence    target    set  \\\n0  MAADGYLPDWLEDTLSEGIRQWWKLKPGPPPPKPAERHKDDSRGLV... -6.824780  train   \n1  MAADGYLPDWLEDTLSEGIRQWWKLKPGPPPPKPAERHKDDSRGLV... -6.500402  train   \n2  MAADGYLPDWLEDTLSEGIRQWWKLKPGPPPPKPAERHKDDSRGLV...  0.900998    NaN   \n3  MAADGYLPDWLEDTLSEGIRQWWKLKPGPPPPKPAERHKDDSRGLV... -4.843517    NaN   \n4  MAADGYLPDWLEDTLSEGIRQWWKLKPGPPPPKPAERHKDDSRGLV... -6.566587    NaN   \n\n  validation  \n0        NaN  \n1        NaN  \n2        NaN  \n3        NaN  \n4        NaN  ",
      "text/html": "<div>\n<style scoped>\n    .dataframe tbody tr th:only-of-type {\n        vertical-align: middle;\n    }\n\n    .dataframe tbody tr th {\n        vertical-align: top;\n    }\n\n    .dataframe thead th {\n        text-align: right;\n    }\n</style>\n<table border=\"1\" class=\"dataframe\">\n  <thead>\n    <tr style=\"text-align: right;\">\n      <th></th>\n      <th>sequence</th>\n      <th>target</th>\n      <th>set</th>\n      <th>validation</th>\n    </tr>\n  </thead>\n  <tbody>\n    <tr>\n      <th>0</th>\n      <td>MAADGYLPDWLEDTLSEGIRQWWKLKPGPPPPKPAERHKDDSRGLV...</td>\n      <td>-6.824780</td>\n      <td>train</td>\n      <td>NaN</td>\n    </tr>\n    <tr>\n      <th>1</th>\n      <td>MAADGYLPDWLEDTLSEGIRQWWKLKPGPPPPKPAERHKDDSRGLV...</td>\n      <td>-6.500402</td>\n      <td>train</td>\n      <td>NaN</td>\n    </tr>\n    <tr>\n      <th>2</th>\n      <td>MAADGYLPDWLEDTLSEGIRQWWKLKPGPPPPKPAERHKDDSRGLV...</td>\n      <td>0.900998</td>\n      <td>NaN</td>\n      <td>NaN</td>\n    </tr>\n    <tr>\n      <th>3</th>\n      <td>MAADGYLPDWLEDTLSEGIRQWWKLKPGPPPPKPAERHKDDSRGLV...</td>\n      <td>-4.843517</td>\n      <td>NaN</td>\n      <td>NaN</td>\n    </tr>\n    <tr>\n      <th>4</th>\n      <td>MAADGYLPDWLEDTLSEGIRQWWKLKPGPPPPKPAERHKDDSRGLV...</td>\n      <td>-6.566587</td>\n      <td>NaN</td>\n      <td>NaN</td>\n    </tr>\n  </tbody>\n</table>\n</div>"
     },
     "execution_count": 16,
     "metadata": {},
     "output_type": "execute_result"
    }
   ],
   "source": [
    "df_aav_split_data_seven_vs_many = pd.read_csv(aav_split_data_seven_vs_many_file)\n",
    "print(df_aav_split_data_seven_vs_many.info())\n",
    "df_aav_split_data_seven_vs_many.head()"
   ]
  },
  {
   "cell_type": "code",
   "execution_count": 17,
   "metadata": {
    "ExecuteTime": {
     "end_time": "2023-07-24T15:02:17.163695Z",
     "start_time": "2023-07-24T15:02:17.155497Z"
    }
   },
   "outputs": [
    {
     "name": "stdout",
     "output_type": "stream",
     "text": [
      "seven-many 82583 63001 7001 12581\n"
     ]
    }
   ],
   "source": [
    "num_val = df_aav_split_data_seven_vs_many['validation'].sum()\n",
    "num_train = df_aav_split_data_seven_vs_many.set.value_counts()['train'] - num_val\n",
    "num_test = df_aav_split_data_seven_vs_many.set.value_counts()['test']\n",
    "num_all = num_train + num_val + num_test\n",
    "print('seven-many', num_all, num_train, num_val, num_test)"
   ]
  },
  {
   "cell_type": "markdown",
   "metadata": {},
   "source": [
    "### low-vs-high"
   ]
  },
  {
   "cell_type": "code",
   "execution_count": 18,
   "metadata": {
    "ExecuteTime": {
     "end_time": "2023-07-24T15:02:19.174447Z",
     "start_time": "2023-07-24T15:02:17.163829Z"
    }
   },
   "outputs": [
    {
     "name": "stdout",
     "output_type": "stream",
     "text": [
      "<class 'pandas.core.frame.DataFrame'>\n",
      "RangeIndex: 284009 entries, 0 to 284008\n",
      "Data columns (total 4 columns):\n",
      " #   Column      Non-Null Count   Dtype  \n",
      "---  ------      --------------   -----  \n",
      " 0   sequence    284009 non-null  object \n",
      " 1   target      284009 non-null  float64\n",
      " 2   set         82583 non-null   object \n",
      " 3   validation  4755 non-null    object \n",
      "dtypes: float64(1), object(3)\n",
      "memory usage: 8.7+ MB\n",
      "None\n"
     ]
    },
    {
     "data": {
      "text/plain": "                                            sequence    target    set  \\\n0  MAADGYLPDWLEDTLSEGIRQWWKLKPGPPPPKPAERHKDDSRGLV... -6.824780  train   \n1  MAADGYLPDWLEDTLSEGIRQWWKLKPGPPPPKPAERHKDDSRGLV... -6.500402  train   \n2  MAADGYLPDWLEDTLSEGIRQWWKLKPGPPPPKPAERHKDDSRGLV...  0.900998    NaN   \n3  MAADGYLPDWLEDTLSEGIRQWWKLKPGPPPPKPAERHKDDSRGLV... -4.843517    NaN   \n4  MAADGYLPDWLEDTLSEGIRQWWKLKPGPPPPKPAERHKDDSRGLV... -6.566587    NaN   \n\n  validation  \n0        NaN  \n1        NaN  \n2        NaN  \n3        NaN  \n4        NaN  ",
      "text/html": "<div>\n<style scoped>\n    .dataframe tbody tr th:only-of-type {\n        vertical-align: middle;\n    }\n\n    .dataframe tbody tr th {\n        vertical-align: top;\n    }\n\n    .dataframe thead th {\n        text-align: right;\n    }\n</style>\n<table border=\"1\" class=\"dataframe\">\n  <thead>\n    <tr style=\"text-align: right;\">\n      <th></th>\n      <th>sequence</th>\n      <th>target</th>\n      <th>set</th>\n      <th>validation</th>\n    </tr>\n  </thead>\n  <tbody>\n    <tr>\n      <th>0</th>\n      <td>MAADGYLPDWLEDTLSEGIRQWWKLKPGPPPPKPAERHKDDSRGLV...</td>\n      <td>-6.824780</td>\n      <td>train</td>\n      <td>NaN</td>\n    </tr>\n    <tr>\n      <th>1</th>\n      <td>MAADGYLPDWLEDTLSEGIRQWWKLKPGPPPPKPAERHKDDSRGLV...</td>\n      <td>-6.500402</td>\n      <td>train</td>\n      <td>NaN</td>\n    </tr>\n    <tr>\n      <th>2</th>\n      <td>MAADGYLPDWLEDTLSEGIRQWWKLKPGPPPPKPAERHKDDSRGLV...</td>\n      <td>0.900998</td>\n      <td>NaN</td>\n      <td>NaN</td>\n    </tr>\n    <tr>\n      <th>3</th>\n      <td>MAADGYLPDWLEDTLSEGIRQWWKLKPGPPPPKPAERHKDDSRGLV...</td>\n      <td>-4.843517</td>\n      <td>NaN</td>\n      <td>NaN</td>\n    </tr>\n    <tr>\n      <th>4</th>\n      <td>MAADGYLPDWLEDTLSEGIRQWWKLKPGPPPPKPAERHKDDSRGLV...</td>\n      <td>-6.566587</td>\n      <td>NaN</td>\n      <td>NaN</td>\n    </tr>\n  </tbody>\n</table>\n</div>"
     },
     "execution_count": 18,
     "metadata": {},
     "output_type": "execute_result"
    }
   ],
   "source": [
    "df_aav_split_data_low_vs_high = pd.read_csv(aav_split_data_low_vs_high_file)\n",
    "print(df_aav_split_data_low_vs_high.info())\n",
    "df_aav_split_data_low_vs_high.head()"
   ]
  },
  {
   "cell_type": "code",
   "execution_count": 19,
   "metadata": {
    "ExecuteTime": {
     "end_time": "2023-07-24T15:02:19.243381Z",
     "start_time": "2023-07-24T15:02:19.182672Z"
    }
   },
   "outputs": [
    {
     "name": "stdout",
     "output_type": "stream",
     "text": [
      "low-high 82583 42791 4755 35037\n"
     ]
    }
   ],
   "source": [
    "num_val = df_aav_split_data_low_vs_high['validation'].sum()\n",
    "num_train = df_aav_split_data_low_vs_high.set.value_counts()['train'] - num_val\n",
    "num_test = df_aav_split_data_low_vs_high.set.value_counts()['test']\n",
    "num_all = num_train + num_val + num_test\n",
    "print('low-high', num_all, num_train, num_val, num_test)"
   ]
  },
  {
   "cell_type": "markdown",
   "metadata": {},
   "source": [
    "### sampled"
   ]
  },
  {
   "cell_type": "code",
   "execution_count": 20,
   "metadata": {
    "ExecuteTime": {
     "end_time": "2023-07-24T15:02:21.234585Z",
     "start_time": "2023-07-24T15:02:19.229619Z"
    }
   },
   "outputs": [
    {
     "name": "stdout",
     "output_type": "stream",
     "text": [
      "<class 'pandas.core.frame.DataFrame'>\n",
      "RangeIndex: 284009 entries, 0 to 284008\n",
      "Data columns (total 4 columns):\n",
      " #   Column      Non-Null Count   Dtype  \n",
      "---  ------      --------------   -----  \n",
      " 0   sequence    284009 non-null  object \n",
      " 1   target      284009 non-null  float64\n",
      " 2   set         82583 non-null   object \n",
      " 3   validation  6607 non-null    object \n",
      "dtypes: float64(1), object(3)\n",
      "memory usage: 8.7+ MB\n",
      "None\n"
     ]
    },
    {
     "data": {
      "text/plain": "                                            sequence    target    set  \\\n0  MAADGYLPDWLEDTLSEGIRQWWKLKPGPPPPKPAERHKDDSRGLV... -6.824780  train   \n1  MAADGYLPDWLEDTLSEGIRQWWKLKPGPPPPKPAERHKDDSRGLV... -6.500402  train   \n2  MAADGYLPDWLEDTLSEGIRQWWKLKPGPPPPKPAERHKDDSRGLV...  0.900998    NaN   \n3  MAADGYLPDWLEDTLSEGIRQWWKLKPGPPPPKPAERHKDDSRGLV... -4.843517    NaN   \n4  MAADGYLPDWLEDTLSEGIRQWWKLKPGPPPPKPAERHKDDSRGLV... -6.566587    NaN   \n\n  validation  \n0        NaN  \n1        NaN  \n2        NaN  \n3        NaN  \n4        NaN  ",
      "text/html": "<div>\n<style scoped>\n    .dataframe tbody tr th:only-of-type {\n        vertical-align: middle;\n    }\n\n    .dataframe tbody tr th {\n        vertical-align: top;\n    }\n\n    .dataframe thead th {\n        text-align: right;\n    }\n</style>\n<table border=\"1\" class=\"dataframe\">\n  <thead>\n    <tr style=\"text-align: right;\">\n      <th></th>\n      <th>sequence</th>\n      <th>target</th>\n      <th>set</th>\n      <th>validation</th>\n    </tr>\n  </thead>\n  <tbody>\n    <tr>\n      <th>0</th>\n      <td>MAADGYLPDWLEDTLSEGIRQWWKLKPGPPPPKPAERHKDDSRGLV...</td>\n      <td>-6.824780</td>\n      <td>train</td>\n      <td>NaN</td>\n    </tr>\n    <tr>\n      <th>1</th>\n      <td>MAADGYLPDWLEDTLSEGIRQWWKLKPGPPPPKPAERHKDDSRGLV...</td>\n      <td>-6.500402</td>\n      <td>train</td>\n      <td>NaN</td>\n    </tr>\n    <tr>\n      <th>2</th>\n      <td>MAADGYLPDWLEDTLSEGIRQWWKLKPGPPPPKPAERHKDDSRGLV...</td>\n      <td>0.900998</td>\n      <td>NaN</td>\n      <td>NaN</td>\n    </tr>\n    <tr>\n      <th>3</th>\n      <td>MAADGYLPDWLEDTLSEGIRQWWKLKPGPPPPKPAERHKDDSRGLV...</td>\n      <td>-4.843517</td>\n      <td>NaN</td>\n      <td>NaN</td>\n    </tr>\n    <tr>\n      <th>4</th>\n      <td>MAADGYLPDWLEDTLSEGIRQWWKLKPGPPPPKPAERHKDDSRGLV...</td>\n      <td>-6.566587</td>\n      <td>NaN</td>\n      <td>NaN</td>\n    </tr>\n  </tbody>\n</table>\n</div>"
     },
     "execution_count": 20,
     "metadata": {},
     "output_type": "execute_result"
    }
   ],
   "source": [
    "df_aav_split_data_sampled = pd.read_csv(aav_split_data_sampled_file)\n",
    "print(df_aav_split_data_sampled.info())\n",
    "df_aav_split_data_sampled.head()"
   ]
  },
  {
   "cell_type": "code",
   "execution_count": 21,
   "metadata": {
    "ExecuteTime": {
     "end_time": "2023-07-24T15:02:21.300648Z",
     "start_time": "2023-07-24T15:02:21.245767Z"
    }
   },
   "outputs": [
    {
     "name": "stdout",
     "output_type": "stream",
     "text": [
      "sampled 82583 59459 6607 16517\n"
     ]
    }
   ],
   "source": [
    "num_val = df_aav_split_data_sampled['validation'].sum()\n",
    "num_train = df_aav_split_data_sampled.set.value_counts()['train'] - num_val\n",
    "num_test = df_aav_split_data_sampled.set.value_counts()['test']\n",
    "num_all = num_train + num_val + num_test\n",
    "print('sampled', num_all, num_train, num_val, num_test)"
   ]
  },
  {
   "cell_type": "code",
   "execution_count": 21,
   "metadata": {
    "ExecuteTime": {
     "end_time": "2023-07-24T15:02:21.300789Z",
     "start_time": "2023-07-24T15:02:21.283573Z"
    }
   },
   "outputs": [],
   "source": []
  }
 ],
 "metadata": {
  "kernelspec": {
   "display_name": "Python 3 (ipykernel)",
   "language": "python",
   "name": "python3"
  },
  "language_info": {
   "codemirror_mode": {
    "name": "ipython",
    "version": 3
   },
   "file_extension": ".py",
   "mimetype": "text/x-python",
   "name": "python",
   "nbconvert_exporter": "python",
   "pygments_lexer": "ipython3",
   "version": "3.11.0"
  }
 },
 "nbformat": 4,
 "nbformat_minor": 1
}
