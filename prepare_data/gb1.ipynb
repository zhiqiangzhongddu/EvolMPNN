{
 "cells": [
  {
   "cell_type": "code",
   "execution_count": 1,
   "metadata": {
    "ExecuteTime": {
     "end_time": "2023-06-22T09:35:41.860177Z",
     "start_time": "2023-06-22T09:35:41.742361Z"
    }
   },
   "outputs": [],
   "source": [
    "from Bio import SeqIO\n",
    "import pandas as pd\n",
    "\n",
    "import warnings\n",
    "warnings.filterwarnings('ignore')"
   ]
  },
  {
   "cell_type": "code",
   "execution_count": 2,
   "metadata": {
    "ExecuteTime": {
     "end_time": "2023-06-22T09:35:41.860669Z",
     "start_time": "2023-06-22T09:35:41.859943Z"
    }
   },
   "outputs": [],
   "source": [
    "gb1_ref_seq_file = \"../../data/FLIP/gb1/5LDE_1.fasta\"\n",
    "gb1_full_data_file = \"../../data/FLIP/gb1/four_mutations_full_data.csv\"\n",
    "gb1_split_data_one_vs_many_file = \"../../data/FLIP/gb1/splits/one_vs_rest.csv\"\n",
    "gb1_split_data_two_vs_many_file = \"../../data/FLIP/gb1/splits/two_vs_rest.csv\"\n",
    "gb1_split_data_three_vs_many_file = \"../../data/FLIP/gb1/splits/three_vs_rest.csv\"\n",
    "gb1_split_data_low_vs_high_file = \"../../data/FLIP/gb1/splits/low_vs_high.csv\"\n",
    "gb1_split_data_sampled_file = \"../../data/FLIP/gb1/splits/sampled.csv\"\n",
    "gb1_region = (2,56)\n",
    "\n",
    "gb1_reference_seq = \"\"\"\n",
    "MQYKLILNGKTLKGETTTEAVDAATAEKVFKQYANDNGVDGEWTYDDATKTFTVTELEVLFQGPLDPNSM\n",
    "ATYEVLCEVARKLGTDDREVVLFLLNVFIPQPTLAQLIGALRALKEEGRLTFPLLAECLFRAGRRDLLRD\n",
    "LLHLDPRFLERHLAGTMSYFSPYQLTVLHVDGELCARDIRSLIFLSKDTIGSRSTPQTFLHWVYCMENLD\n",
    "LLGPTDVDALMSMLRSLSRVDLQRQVQTLMGLHLSGPSHSQHYRHTPLEHHHHHH\n",
    "\"\"\".replace(\"\\n\", \"\")"
   ]
  },
  {
   "cell_type": "markdown",
   "metadata": {},
   "source": [
    "### Full data"
   ]
  },
  {
   "cell_type": "code",
   "execution_count": 3,
   "metadata": {
    "ExecuteTime": {
     "end_time": "2023-06-22T09:35:42.708051Z",
     "start_time": "2023-06-22T09:35:41.860536Z"
    }
   },
   "outputs": [
    {
     "name": "stdout",
     "output_type": "stream",
     "text": [
      "<class 'pandas.core.frame.DataFrame'>\n",
      "RangeIndex: 149361 entries, 0 to 149360\n",
      "Data columns (total 17 columns):\n",
      " #   Column                    Non-Null Count   Dtype  \n",
      "---  ------                    --------------   -----  \n",
      " 0   Variants                  149361 non-null  object \n",
      " 1   HD                        149361 non-null  int64  \n",
      " 2   Count input               149361 non-null  int64  \n",
      " 3   Count selected            149361 non-null  int64  \n",
      " 4   Fitness                   149361 non-null  float64\n",
      " 5   sequence                  149361 non-null  object \n",
      " 6   keep                      149361 non-null  bool   \n",
      " 7   one_vs_rest               8733 non-null    object \n",
      " 8   one_vs_rest_validation    3 non-null       object \n",
      " 9   two_vs_rest               8733 non-null    object \n",
      " 10  two_vs_rest_validation    43 non-null      object \n",
      " 11  three_vs_rest             8733 non-null    object \n",
      " 12  three_vs_rest_validation  299 non-null     object \n",
      " 13  sampled                   8733 non-null    object \n",
      " 14  sampled_validation        699 non-null     object \n",
      " 15  low_vs_high               8733 non-null    object \n",
      " 16  low_vs_high_validation    509 non-null     object \n",
      "dtypes: bool(1), float64(1), int64(3), object(12)\n",
      "memory usage: 18.4+ MB\n",
      "None\n"
     ]
    },
    {
     "data": {
      "text/plain": "  Variants  HD  Count input  Count selected   Fitness  \\\n0     VDGV   0        92735          338346  1.000000   \n1     ADGV   1           34              43  0.061910   \n2     CDGV   1          850             641  0.242237   \n3     DDGV   1           63              63  0.006472   \n4     EDGV   1          841             190  0.032719   \n\n                                            sequence   keep one_vs_rest  \\\n0  MQYKLILNGKTLKGETTTEAVDAATAEKVFKQYANDNGVDGEWTYD...   True       train   \n1  MQYKLILNGKTLKGETTTEAVDAATAEKVFKQYANDNGADGEWTYD...  False         NaN   \n2  MQYKLILNGKTLKGETTTEAVDAATAEKVFKQYANDNGCDGEWTYD...  False         NaN   \n3  MQYKLILNGKTLKGETTTEAVDAATAEKVFKQYANDNGDDGEWTYD...  False         NaN   \n4  MQYKLILNGKTLKGETTTEAVDAATAEKVFKQYANDNGEDGEWTYD...  False         NaN   \n\n  one_vs_rest_validation two_vs_rest two_vs_rest_validation three_vs_rest  \\\n0                    NaN       train                    NaN         train   \n1                    NaN         NaN                    NaN           NaN   \n2                    NaN         NaN                    NaN           NaN   \n3                    NaN         NaN                    NaN           NaN   \n4                    NaN         NaN                    NaN           NaN   \n\n  three_vs_rest_validation sampled sampled_validation low_vs_high  \\\n0                      NaN   train                NaN        test   \n1                      NaN     NaN                NaN         NaN   \n2                      NaN     NaN                NaN         NaN   \n3                      NaN     NaN                NaN         NaN   \n4                      NaN     NaN                NaN         NaN   \n\n  low_vs_high_validation  \n0                    NaN  \n1                    NaN  \n2                    NaN  \n3                    NaN  \n4                    NaN  ",
      "text/html": "<div>\n<style scoped>\n    .dataframe tbody tr th:only-of-type {\n        vertical-align: middle;\n    }\n\n    .dataframe tbody tr th {\n        vertical-align: top;\n    }\n\n    .dataframe thead th {\n        text-align: right;\n    }\n</style>\n<table border=\"1\" class=\"dataframe\">\n  <thead>\n    <tr style=\"text-align: right;\">\n      <th></th>\n      <th>Variants</th>\n      <th>HD</th>\n      <th>Count input</th>\n      <th>Count selected</th>\n      <th>Fitness</th>\n      <th>sequence</th>\n      <th>keep</th>\n      <th>one_vs_rest</th>\n      <th>one_vs_rest_validation</th>\n      <th>two_vs_rest</th>\n      <th>two_vs_rest_validation</th>\n      <th>three_vs_rest</th>\n      <th>three_vs_rest_validation</th>\n      <th>sampled</th>\n      <th>sampled_validation</th>\n      <th>low_vs_high</th>\n      <th>low_vs_high_validation</th>\n    </tr>\n  </thead>\n  <tbody>\n    <tr>\n      <th>0</th>\n      <td>VDGV</td>\n      <td>0</td>\n      <td>92735</td>\n      <td>338346</td>\n      <td>1.000000</td>\n      <td>MQYKLILNGKTLKGETTTEAVDAATAEKVFKQYANDNGVDGEWTYD...</td>\n      <td>True</td>\n      <td>train</td>\n      <td>NaN</td>\n      <td>train</td>\n      <td>NaN</td>\n      <td>train</td>\n      <td>NaN</td>\n      <td>train</td>\n      <td>NaN</td>\n      <td>test</td>\n      <td>NaN</td>\n    </tr>\n    <tr>\n      <th>1</th>\n      <td>ADGV</td>\n      <td>1</td>\n      <td>34</td>\n      <td>43</td>\n      <td>0.061910</td>\n      <td>MQYKLILNGKTLKGETTTEAVDAATAEKVFKQYANDNGADGEWTYD...</td>\n      <td>False</td>\n      <td>NaN</td>\n      <td>NaN</td>\n      <td>NaN</td>\n      <td>NaN</td>\n      <td>NaN</td>\n      <td>NaN</td>\n      <td>NaN</td>\n      <td>NaN</td>\n      <td>NaN</td>\n      <td>NaN</td>\n    </tr>\n    <tr>\n      <th>2</th>\n      <td>CDGV</td>\n      <td>1</td>\n      <td>850</td>\n      <td>641</td>\n      <td>0.242237</td>\n      <td>MQYKLILNGKTLKGETTTEAVDAATAEKVFKQYANDNGCDGEWTYD...</td>\n      <td>False</td>\n      <td>NaN</td>\n      <td>NaN</td>\n      <td>NaN</td>\n      <td>NaN</td>\n      <td>NaN</td>\n      <td>NaN</td>\n      <td>NaN</td>\n      <td>NaN</td>\n      <td>NaN</td>\n      <td>NaN</td>\n    </tr>\n    <tr>\n      <th>3</th>\n      <td>DDGV</td>\n      <td>1</td>\n      <td>63</td>\n      <td>63</td>\n      <td>0.006472</td>\n      <td>MQYKLILNGKTLKGETTTEAVDAATAEKVFKQYANDNGDDGEWTYD...</td>\n      <td>False</td>\n      <td>NaN</td>\n      <td>NaN</td>\n      <td>NaN</td>\n      <td>NaN</td>\n      <td>NaN</td>\n      <td>NaN</td>\n      <td>NaN</td>\n      <td>NaN</td>\n      <td>NaN</td>\n      <td>NaN</td>\n    </tr>\n    <tr>\n      <th>4</th>\n      <td>EDGV</td>\n      <td>1</td>\n      <td>841</td>\n      <td>190</td>\n      <td>0.032719</td>\n      <td>MQYKLILNGKTLKGETTTEAVDAATAEKVFKQYANDNGEDGEWTYD...</td>\n      <td>False</td>\n      <td>NaN</td>\n      <td>NaN</td>\n      <td>NaN</td>\n      <td>NaN</td>\n      <td>NaN</td>\n      <td>NaN</td>\n      <td>NaN</td>\n      <td>NaN</td>\n      <td>NaN</td>\n      <td>NaN</td>\n    </tr>\n  </tbody>\n</table>\n</div>"
     },
     "execution_count": 3,
     "metadata": {},
     "output_type": "execute_result"
    }
   ],
   "source": [
    "df_gb1_full_data = pd.read_csv(gb1_full_data_file)\n",
    "print(df_gb1_full_data.info())\n",
    "df_gb1_full_data.head()"
   ]
  },
  {
   "cell_type": "code",
   "execution_count": 4,
   "metadata": {
    "ExecuteTime": {
     "end_time": "2023-06-22T09:35:42.821004Z",
     "start_time": "2023-06-22T09:35:42.715673Z"
    }
   },
   "outputs": [
    {
     "name": "stdout",
     "output_type": "stream",
     "text": [
      "one_vs_rest 8733 25 3 8705\n",
      "two_vs_rest 8733 381 43 8309\n",
      "three_vs_rest 8733 2691 299 5743\n",
      "low_vs_high 8733 4580 509 3644\n",
      "sampled 8733 6289 699 1745\n"
     ]
    }
   ],
   "source": [
    "for split in ['one_vs_rest', 'two_vs_rest', 'three_vs_rest', 'low_vs_high', 'sampled']:\n",
    "    num_val = df_gb1_full_data[split + '_validation'].sum()\n",
    "    num_train = df_gb1_full_data[split].value_counts()['train'] - num_val\n",
    "    num_test = df_gb1_full_data[split].value_counts()['test']\n",
    "    num_all = num_train + num_val + num_test\n",
    "    print(split, num_all, num_train, num_val, num_test)"
   ]
  },
  {
   "cell_type": "code",
   "execution_count": 5,
   "metadata": {
    "ExecuteTime": {
     "end_time": "2023-06-22T09:35:42.829490Z",
     "start_time": "2023-06-22T09:35:42.822323Z"
    }
   },
   "outputs": [],
   "source": [
    "df_keep = df_gb1_full_data[df_gb1_full_data['keep']]"
   ]
  },
  {
   "cell_type": "code",
   "execution_count": 6,
   "metadata": {
    "ExecuteTime": {
     "end_time": "2023-06-22T09:35:42.876332Z",
     "start_time": "2023-06-22T09:35:42.835807Z"
    }
   },
   "outputs": [
    {
     "data": {
      "text/plain": "4    5743\n3    2566\n2     396\n1      27\n0       1\nName: HD, dtype: int64"
     },
     "execution_count": 6,
     "metadata": {},
     "output_type": "execute_result"
    }
   ],
   "source": [
    "df_keep['HD'].value_counts()"
   ]
  },
  {
   "cell_type": "code",
   "execution_count": 7,
   "metadata": {
    "ExecuteTime": {
     "end_time": "2023-06-22T09:35:43.402401Z",
     "start_time": "2023-06-22T09:35:42.875822Z"
    }
   },
   "outputs": [
    {
     "data": {
      "text/plain": "<Axes: >"
     },
     "execution_count": 7,
     "metadata": {},
     "output_type": "execute_result"
    },
    {
     "data": {
      "text/plain": "<Figure size 640x480 with 1 Axes>",
      "image/png": "[encoded data removed]"
     },
     "metadata": {},
     "output_type": "display_data"
    }
   ],
   "source": [
    "df_keep['HD'].hist(bins=8)"
   ]
  },
  {
   "cell_type": "markdown",
   "metadata": {},
   "source": [
    "### one-vs-many"
   ]
  },
  {
   "cell_type": "code",
   "execution_count": 8,
   "metadata": {
    "ExecuteTime": {
     "end_time": "2023-06-22T09:35:43.403359Z",
     "start_time": "2023-06-22T09:35:43.385270Z"
    }
   },
   "outputs": [
    {
     "name": "stdout",
     "output_type": "stream",
     "text": [
      "<class 'pandas.core.frame.DataFrame'>\n",
      "RangeIndex: 8733 entries, 0 to 8732\n",
      "Data columns (total 4 columns):\n",
      " #   Column      Non-Null Count  Dtype  \n",
      "---  ------      --------------  -----  \n",
      " 0   sequence    8733 non-null   object \n",
      " 1   target      8733 non-null   float64\n",
      " 2   set         8733 non-null   object \n",
      " 3   validation  3 non-null      object \n",
      "dtypes: float64(1), object(3)\n",
      "memory usage: 273.0+ KB\n",
      "None\n"
     ]
    },
    {
     "data": {
      "text/plain": "                                            sequence    target    set  \\\n0  MQYKLILNGKTLKGETTTEAVDAATAEKVFKQYANDNGVDGEWTYD...  1.000000  train   \n1  MQYKLILNGKTLKGETTTEAVDAATAEKVFKQYANDNGIDGEWTYD...  1.445905  train   \n2  MQYKLILNGKTLKGETTTEAVDAATAEKVFKQYANDNGLDGEWTYD...  1.690164  train   \n3  MQYKLILNGKTLKGETTTEAVDAATAEKVFKQYANDNGMDGEWTYD...  1.170550  train   \n4  MQYKLILNGKTLKGETTTEAVDAATAEKVFKQYANDNGVAGEWTYD...  2.401243  train   \n\n  validation  \n0        NaN  \n1        NaN  \n2        NaN  \n3        NaN  \n4        NaN  ",
      "text/html": "<div>\n<style scoped>\n    .dataframe tbody tr th:only-of-type {\n        vertical-align: middle;\n    }\n\n    .dataframe tbody tr th {\n        vertical-align: top;\n    }\n\n    .dataframe thead th {\n        text-align: right;\n    }\n</style>\n<table border=\"1\" class=\"dataframe\">\n  <thead>\n    <tr style=\"text-align: right;\">\n      <th></th>\n      <th>sequence</th>\n      <th>target</th>\n      <th>set</th>\n      <th>validation</th>\n    </tr>\n  </thead>\n  <tbody>\n    <tr>\n      <th>0</th>\n      <td>MQYKLILNGKTLKGETTTEAVDAATAEKVFKQYANDNGVDGEWTYD...</td>\n      <td>1.000000</td>\n      <td>train</td>\n      <td>NaN</td>\n    </tr>\n    <tr>\n      <th>1</th>\n      <td>MQYKLILNGKTLKGETTTEAVDAATAEKVFKQYANDNGIDGEWTYD...</td>\n      <td>1.445905</td>\n      <td>train</td>\n      <td>NaN</td>\n    </tr>\n    <tr>\n      <th>2</th>\n      <td>MQYKLILNGKTLKGETTTEAVDAATAEKVFKQYANDNGLDGEWTYD...</td>\n      <td>1.690164</td>\n      <td>train</td>\n      <td>NaN</td>\n    </tr>\n    <tr>\n      <th>3</th>\n      <td>MQYKLILNGKTLKGETTTEAVDAATAEKVFKQYANDNGMDGEWTYD...</td>\n      <td>1.170550</td>\n      <td>train</td>\n      <td>NaN</td>\n    </tr>\n    <tr>\n      <th>4</th>\n      <td>MQYKLILNGKTLKGETTTEAVDAATAEKVFKQYANDNGVAGEWTYD...</td>\n      <td>2.401243</td>\n      <td>train</td>\n      <td>NaN</td>\n    </tr>\n  </tbody>\n</table>\n</div>"
     },
     "execution_count": 8,
     "metadata": {},
     "output_type": "execute_result"
    }
   ],
   "source": [
    "df_gb1_split_data_one_vs_many = pd.read_csv(gb1_split_data_one_vs_many_file)\n",
    "print(df_gb1_split_data_one_vs_many.info())\n",
    "df_gb1_split_data_one_vs_many.head()"
   ]
  },
  {
   "cell_type": "code",
   "execution_count": 9,
   "metadata": {
    "ExecuteTime": {
     "end_time": "2023-06-22T09:35:43.403812Z",
     "start_time": "2023-06-22T09:35:43.402192Z"
    }
   },
   "outputs": [
    {
     "name": "stdout",
     "output_type": "stream",
     "text": [
      "one-many 8733 25 3 8705\n"
     ]
    }
   ],
   "source": [
    "num_val = df_gb1_split_data_one_vs_many['validation'].sum()\n",
    "num_train = df_gb1_split_data_one_vs_many.set.value_counts()['train'] - num_val\n",
    "num_test = df_gb1_split_data_one_vs_many.set.value_counts()['test']\n",
    "num_all = num_train + num_val + num_test\n",
    "print('one-many', num_all, num_train, num_val, num_test)"
   ]
  },
  {
   "cell_type": "markdown",
   "metadata": {},
   "source": [
    "### two-vs-many"
   ]
  },
  {
   "cell_type": "code",
   "execution_count": 10,
   "metadata": {
    "ExecuteTime": {
     "end_time": "2023-06-22T09:35:43.487824Z",
     "start_time": "2023-06-22T09:35:43.403112Z"
    }
   },
   "outputs": [
    {
     "name": "stdout",
     "output_type": "stream",
     "text": [
      "<class 'pandas.core.frame.DataFrame'>\n",
      "RangeIndex: 8733 entries, 0 to 8732\n",
      "Data columns (total 4 columns):\n",
      " #   Column      Non-Null Count  Dtype  \n",
      "---  ------      --------------  -----  \n",
      " 0   sequence    8733 non-null   object \n",
      " 1   target      8733 non-null   float64\n",
      " 2   set         8733 non-null   object \n",
      " 3   validation  43 non-null     object \n",
      "dtypes: float64(1), object(3)\n",
      "memory usage: 273.0+ KB\n",
      "None\n"
     ]
    },
    {
     "data": {
      "text/plain": "                                            sequence    target    set  \\\n0  MQYKLILNGKTLKGETTTEAVDAATAEKVFKQYANDNGVDGEWTYD...  1.000000  train   \n1  MQYKLILNGKTLKGETTTEAVDAATAEKVFKQYANDNGIDGEWTYD...  1.445905  train   \n2  MQYKLILNGKTLKGETTTEAVDAATAEKVFKQYANDNGLDGEWTYD...  1.690164  train   \n3  MQYKLILNGKTLKGETTTEAVDAATAEKVFKQYANDNGMDGEWTYD...  1.170550  train   \n4  MQYKLILNGKTLKGETTTEAVDAATAEKVFKQYANDNGVAGEWTYD...  2.401243  train   \n\n  validation  \n0        NaN  \n1        NaN  \n2        NaN  \n3        NaN  \n4        NaN  ",
      "text/html": "<div>\n<style scoped>\n    .dataframe tbody tr th:only-of-type {\n        vertical-align: middle;\n    }\n\n    .dataframe tbody tr th {\n        vertical-align: top;\n    }\n\n    .dataframe thead th {\n        text-align: right;\n    }\n</style>\n<table border=\"1\" class=\"dataframe\">\n  <thead>\n    <tr style=\"text-align: right;\">\n      <th></th>\n      <th>sequence</th>\n      <th>target</th>\n      <th>set</th>\n      <th>validation</th>\n    </tr>\n  </thead>\n  <tbody>\n    <tr>\n      <th>0</th>\n      <td>MQYKLILNGKTLKGETTTEAVDAATAEKVFKQYANDNGVDGEWTYD...</td>\n      <td>1.000000</td>\n      <td>train</td>\n      <td>NaN</td>\n    </tr>\n    <tr>\n      <th>1</th>\n      <td>MQYKLILNGKTLKGETTTEAVDAATAEKVFKQYANDNGIDGEWTYD...</td>\n      <td>1.445905</td>\n      <td>train</td>\n      <td>NaN</td>\n    </tr>\n    <tr>\n      <th>2</th>\n      <td>MQYKLILNGKTLKGETTTEAVDAATAEKVFKQYANDNGLDGEWTYD...</td>\n      <td>1.690164</td>\n      <td>train</td>\n      <td>NaN</td>\n    </tr>\n    <tr>\n      <th>3</th>\n      <td>MQYKLILNGKTLKGETTTEAVDAATAEKVFKQYANDNGMDGEWTYD...</td>\n      <td>1.170550</td>\n      <td>train</td>\n      <td>NaN</td>\n    </tr>\n    <tr>\n      <th>4</th>\n      <td>MQYKLILNGKTLKGETTTEAVDAATAEKVFKQYANDNGVAGEWTYD...</td>\n      <td>2.401243</td>\n      <td>train</td>\n      <td>NaN</td>\n    </tr>\n  </tbody>\n</table>\n</div>"
     },
     "execution_count": 10,
     "metadata": {},
     "output_type": "execute_result"
    }
   ],
   "source": [
    "df_gb1_split_data_two_vs_many = pd.read_csv(gb1_split_data_two_vs_many_file)\n",
    "print(df_gb1_split_data_two_vs_many.info())\n",
    "df_gb1_split_data_two_vs_many.head()"
   ]
  },
  {
   "cell_type": "code",
   "execution_count": 11,
   "metadata": {
    "ExecuteTime": {
     "end_time": "2023-06-22T09:35:43.501489Z",
     "start_time": "2023-06-22T09:35:43.444339Z"
    }
   },
   "outputs": [
    {
     "name": "stdout",
     "output_type": "stream",
     "text": [
      "two-many 8733 381 43 8309\n"
     ]
    }
   ],
   "source": [
    "num_val = df_gb1_split_data_two_vs_many['validation'].sum()\n",
    "num_train = df_gb1_split_data_two_vs_many.set.value_counts()['train'] - num_val\n",
    "num_test = df_gb1_split_data_two_vs_many.set.value_counts()['test']\n",
    "num_all = num_train + num_val + num_test\n",
    "print('two-many', num_all, num_train, num_val, num_test)"
   ]
  },
  {
   "cell_type": "markdown",
   "metadata": {},
   "source": [
    "### three-vs-many"
   ]
  },
  {
   "cell_type": "code",
   "execution_count": 12,
   "metadata": {
    "ExecuteTime": {
     "end_time": "2023-06-22T09:35:43.511174Z",
     "start_time": "2023-06-22T09:35:43.444552Z"
    }
   },
   "outputs": [
    {
     "name": "stdout",
     "output_type": "stream",
     "text": [
      "<class 'pandas.core.frame.DataFrame'>\n",
      "RangeIndex: 8733 entries, 0 to 8732\n",
      "Data columns (total 4 columns):\n",
      " #   Column      Non-Null Count  Dtype  \n",
      "---  ------      --------------  -----  \n",
      " 0   sequence    8733 non-null   object \n",
      " 1   target      8733 non-null   float64\n",
      " 2   set         8733 non-null   object \n",
      " 3   validation  299 non-null    object \n",
      "dtypes: float64(1), object(3)\n",
      "memory usage: 273.0+ KB\n",
      "None\n"
     ]
    },
    {
     "data": {
      "text/plain": "                                            sequence    target    set  \\\n0  MQYKLILNGKTLKGETTTEAVDAATAEKVFKQYANDNGVDGEWTYD...  1.000000  train   \n1  MQYKLILNGKTLKGETTTEAVDAATAEKVFKQYANDNGIDGEWTYD...  1.445905  train   \n2  MQYKLILNGKTLKGETTTEAVDAATAEKVFKQYANDNGLDGEWTYD...  1.690164  train   \n3  MQYKLILNGKTLKGETTTEAVDAATAEKVFKQYANDNGMDGEWTYD...  1.170550  train   \n4  MQYKLILNGKTLKGETTTEAVDAATAEKVFKQYANDNGVAGEWTYD...  2.401243  train   \n\n  validation  \n0        NaN  \n1        NaN  \n2        NaN  \n3        NaN  \n4        NaN  ",
      "text/html": "<div>\n<style scoped>\n    .dataframe tbody tr th:only-of-type {\n        vertical-align: middle;\n    }\n\n    .dataframe tbody tr th {\n        vertical-align: top;\n    }\n\n    .dataframe thead th {\n        text-align: right;\n    }\n</style>\n<table border=\"1\" class=\"dataframe\">\n  <thead>\n    <tr style=\"text-align: right;\">\n      <th></th>\n      <th>sequence</th>\n      <th>target</th>\n      <th>set</th>\n      <th>validation</th>\n    </tr>\n  </thead>\n  <tbody>\n    <tr>\n      <th>0</th>\n      <td>MQYKLILNGKTLKGETTTEAVDAATAEKVFKQYANDNGVDGEWTYD...</td>\n      <td>1.000000</td>\n      <td>train</td>\n      <td>NaN</td>\n    </tr>\n    <tr>\n      <th>1</th>\n      <td>MQYKLILNGKTLKGETTTEAVDAATAEKVFKQYANDNGIDGEWTYD...</td>\n      <td>1.445905</td>\n      <td>train</td>\n      <td>NaN</td>\n    </tr>\n    <tr>\n      <th>2</th>\n      <td>MQYKLILNGKTLKGETTTEAVDAATAEKVFKQYANDNGLDGEWTYD...</td>\n      <td>1.690164</td>\n      <td>train</td>\n      <td>NaN</td>\n    </tr>\n    <tr>\n      <th>3</th>\n      <td>MQYKLILNGKTLKGETTTEAVDAATAEKVFKQYANDNGMDGEWTYD...</td>\n      <td>1.170550</td>\n      <td>train</td>\n      <td>NaN</td>\n    </tr>\n    <tr>\n      <th>4</th>\n      <td>MQYKLILNGKTLKGETTTEAVDAATAEKVFKQYANDNGVAGEWTYD...</td>\n      <td>2.401243</td>\n      <td>train</td>\n      <td>NaN</td>\n    </tr>\n  </tbody>\n</table>\n</div>"
     },
     "execution_count": 12,
     "metadata": {},
     "output_type": "execute_result"
    }
   ],
   "source": [
    "df_gb1_split_data_three_vs_many = pd.read_csv(gb1_split_data_three_vs_many_file)\n",
    "print(df_gb1_split_data_three_vs_many.info())\n",
    "df_gb1_split_data_three_vs_many.head()"
   ]
  },
  {
   "cell_type": "code",
   "execution_count": 13,
   "metadata": {
    "ExecuteTime": {
     "end_time": "2023-06-22T09:35:43.511494Z",
     "start_time": "2023-06-22T09:35:43.488852Z"
    }
   },
   "outputs": [
    {
     "name": "stdout",
     "output_type": "stream",
     "text": [
      "three-many 8733 2691 299 5743\n"
     ]
    }
   ],
   "source": [
    "num_val = df_gb1_split_data_three_vs_many['validation'].sum()\n",
    "num_train = df_gb1_split_data_three_vs_many.set.value_counts()['train'] - num_val\n",
    "num_test = df_gb1_split_data_three_vs_many.set.value_counts()['test']\n",
    "num_all = num_train + num_val + num_test\n",
    "print('three-many', num_all, num_train, num_val, num_test)"
   ]
  },
  {
   "cell_type": "markdown",
   "metadata": {},
   "source": [
    "### low-vs-high"
   ]
  },
  {
   "cell_type": "code",
   "execution_count": 14,
   "metadata": {
    "ExecuteTime": {
     "end_time": "2023-06-22T09:35:43.616071Z",
     "start_time": "2023-06-22T09:35:43.492293Z"
    }
   },
   "outputs": [
    {
     "name": "stdout",
     "output_type": "stream",
     "text": [
      "<class 'pandas.core.frame.DataFrame'>\n",
      "RangeIndex: 8733 entries, 0 to 8732\n",
      "Data columns (total 4 columns):\n",
      " #   Column      Non-Null Count  Dtype  \n",
      "---  ------      --------------  -----  \n",
      " 0   sequence    8733 non-null   object \n",
      " 1   target      8733 non-null   float64\n",
      " 2   set         8733 non-null   object \n",
      " 3   validation  509 non-null    object \n",
      "dtypes: float64(1), object(3)\n",
      "memory usage: 273.0+ KB\n",
      "None\n"
     ]
    },
    {
     "data": {
      "text/plain": "                                            sequence    target   set  \\\n0  MQYKLILNGKTLKGETTTEAVDAATAEKVFKQYANDNGVDGEWTYD...  1.000000  test   \n1  MQYKLILNGKTLKGETTTEAVDAATAEKVFKQYANDNGIDGEWTYD...  1.445905  test   \n2  MQYKLILNGKTLKGETTTEAVDAATAEKVFKQYANDNGLDGEWTYD...  1.690164  test   \n3  MQYKLILNGKTLKGETTTEAVDAATAEKVFKQYANDNGMDGEWTYD...  1.170550  test   \n4  MQYKLILNGKTLKGETTTEAVDAATAEKVFKQYANDNGVAGEWTYD...  2.401243  test   \n\n  validation  \n0        NaN  \n1        NaN  \n2        NaN  \n3        NaN  \n4        NaN  ",
      "text/html": "<div>\n<style scoped>\n    .dataframe tbody tr th:only-of-type {\n        vertical-align: middle;\n    }\n\n    .dataframe tbody tr th {\n        vertical-align: top;\n    }\n\n    .dataframe thead th {\n        text-align: right;\n    }\n</style>\n<table border=\"1\" class=\"dataframe\">\n  <thead>\n    <tr style=\"text-align: right;\">\n      <th></th>\n      <th>sequence</th>\n      <th>target</th>\n      <th>set</th>\n      <th>validation</th>\n    </tr>\n  </thead>\n  <tbody>\n    <tr>\n      <th>0</th>\n      <td>MQYKLILNGKTLKGETTTEAVDAATAEKVFKQYANDNGVDGEWTYD...</td>\n      <td>1.000000</td>\n      <td>test</td>\n      <td>NaN</td>\n    </tr>\n    <tr>\n      <th>1</th>\n      <td>MQYKLILNGKTLKGETTTEAVDAATAEKVFKQYANDNGIDGEWTYD...</td>\n      <td>1.445905</td>\n      <td>test</td>\n      <td>NaN</td>\n    </tr>\n    <tr>\n      <th>2</th>\n      <td>MQYKLILNGKTLKGETTTEAVDAATAEKVFKQYANDNGLDGEWTYD...</td>\n      <td>1.690164</td>\n      <td>test</td>\n      <td>NaN</td>\n    </tr>\n    <tr>\n      <th>3</th>\n      <td>MQYKLILNGKTLKGETTTEAVDAATAEKVFKQYANDNGMDGEWTYD...</td>\n      <td>1.170550</td>\n      <td>test</td>\n      <td>NaN</td>\n    </tr>\n    <tr>\n      <th>4</th>\n      <td>MQYKLILNGKTLKGETTTEAVDAATAEKVFKQYANDNGVAGEWTYD...</td>\n      <td>2.401243</td>\n      <td>test</td>\n      <td>NaN</td>\n    </tr>\n  </tbody>\n</table>\n</div>"
     },
     "execution_count": 14,
     "metadata": {},
     "output_type": "execute_result"
    }
   ],
   "source": [
    "df_gb1_split_data_low_vs_high = pd.read_csv(gb1_split_data_low_vs_high_file)\n",
    "print(df_gb1_split_data_low_vs_high.info())\n",
    "df_gb1_split_data_low_vs_high.head()"
   ]
  },
  {
   "cell_type": "code",
   "execution_count": 15,
   "metadata": {
    "ExecuteTime": {
     "end_time": "2023-06-22T09:35:43.616318Z",
     "start_time": "2023-06-22T09:35:43.571435Z"
    }
   },
   "outputs": [
    {
     "name": "stdout",
     "output_type": "stream",
     "text": [
      "low-high 8733 4580 509 3644\n"
     ]
    }
   ],
   "source": [
    "num_val = df_gb1_split_data_low_vs_high['validation'].sum()\n",
    "num_train = df_gb1_split_data_low_vs_high.set.value_counts()['train'] - num_val\n",
    "num_test = df_gb1_split_data_low_vs_high.set.value_counts()['test']\n",
    "num_all = num_train + num_val + num_test\n",
    "print('low-high', num_all, num_train, num_val, num_test)"
   ]
  },
  {
   "cell_type": "markdown",
   "metadata": {},
   "source": [
    "### sampled"
   ]
  },
  {
   "cell_type": "code",
   "execution_count": 16,
   "metadata": {
    "ExecuteTime": {
     "end_time": "2023-06-22T09:35:43.648048Z",
     "start_time": "2023-06-22T09:35:43.571576Z"
    }
   },
   "outputs": [
    {
     "name": "stdout",
     "output_type": "stream",
     "text": [
      "<class 'pandas.core.frame.DataFrame'>\n",
      "RangeIndex: 8733 entries, 0 to 8732\n",
      "Data columns (total 4 columns):\n",
      " #   Column      Non-Null Count  Dtype  \n",
      "---  ------      --------------  -----  \n",
      " 0   sequence    8733 non-null   object \n",
      " 1   target      8733 non-null   float64\n",
      " 2   set         8733 non-null   object \n",
      " 3   validation  699 non-null    object \n",
      "dtypes: float64(1), object(3)\n",
      "memory usage: 273.0+ KB\n",
      "None\n"
     ]
    },
    {
     "data": {
      "text/plain": "                                            sequence    target    set  \\\n0  MQYKLILNGKTLKGETTTEAVDAATAEKVFKQYANDNGVDGEWTYD...  1.000000  train   \n1  MQYKLILNGKTLKGETTTEAVDAATAEKVFKQYANDNGIDGEWTYD...  1.445905  train   \n2  MQYKLILNGKTLKGETTTEAVDAATAEKVFKQYANDNGLDGEWTYD...  1.690164   test   \n3  MQYKLILNGKTLKGETTTEAVDAATAEKVFKQYANDNGMDGEWTYD...  1.170550  train   \n4  MQYKLILNGKTLKGETTTEAVDAATAEKVFKQYANDNGVAGEWTYD...  2.401243  train   \n\n  validation  \n0        NaN  \n1       True  \n2        NaN  \n3       True  \n4        NaN  ",
      "text/html": "<div>\n<style scoped>\n    .dataframe tbody tr th:only-of-type {\n        vertical-align: middle;\n    }\n\n    .dataframe tbody tr th {\n        vertical-align: top;\n    }\n\n    .dataframe thead th {\n        text-align: right;\n    }\n</style>\n<table border=\"1\" class=\"dataframe\">\n  <thead>\n    <tr style=\"text-align: right;\">\n      <th></th>\n      <th>sequence</th>\n      <th>target</th>\n      <th>set</th>\n      <th>validation</th>\n    </tr>\n  </thead>\n  <tbody>\n    <tr>\n      <th>0</th>\n      <td>MQYKLILNGKTLKGETTTEAVDAATAEKVFKQYANDNGVDGEWTYD...</td>\n      <td>1.000000</td>\n      <td>train</td>\n      <td>NaN</td>\n    </tr>\n    <tr>\n      <th>1</th>\n      <td>MQYKLILNGKTLKGETTTEAVDAATAEKVFKQYANDNGIDGEWTYD...</td>\n      <td>1.445905</td>\n      <td>train</td>\n      <td>True</td>\n    </tr>\n    <tr>\n      <th>2</th>\n      <td>MQYKLILNGKTLKGETTTEAVDAATAEKVFKQYANDNGLDGEWTYD...</td>\n      <td>1.690164</td>\n      <td>test</td>\n      <td>NaN</td>\n    </tr>\n    <tr>\n      <th>3</th>\n      <td>MQYKLILNGKTLKGETTTEAVDAATAEKVFKQYANDNGMDGEWTYD...</td>\n      <td>1.170550</td>\n      <td>train</td>\n      <td>True</td>\n    </tr>\n    <tr>\n      <th>4</th>\n      <td>MQYKLILNGKTLKGETTTEAVDAATAEKVFKQYANDNGVAGEWTYD...</td>\n      <td>2.401243</td>\n      <td>train</td>\n      <td>NaN</td>\n    </tr>\n  </tbody>\n</table>\n</div>"
     },
     "execution_count": 16,
     "metadata": {},
     "output_type": "execute_result"
    }
   ],
   "source": [
    "df_gb1_split_data_sampled = pd.read_csv(gb1_split_data_sampled_file)\n",
    "print(df_gb1_split_data_sampled.info())\n",
    "df_gb1_split_data_sampled.head()"
   ]
  },
  {
   "cell_type": "code",
   "execution_count": 17,
   "metadata": {
    "ExecuteTime": {
     "end_time": "2023-06-22T09:35:43.654620Z",
     "start_time": "2023-06-22T09:35:43.617236Z"
    }
   },
   "outputs": [
    {
     "name": "stdout",
     "output_type": "stream",
     "text": [
      "sampled 8733 6289 699 1745\n"
     ]
    }
   ],
   "source": [
    "num_val = df_gb1_split_data_sampled['validation'].sum()\n",
    "num_train = df_gb1_split_data_sampled.set.value_counts()['train'] - num_val\n",
    "num_test = df_gb1_split_data_sampled.set.value_counts()['test']\n",
    "num_all = num_train + num_val + num_test\n",
    "print('sampled', num_all, num_train, num_val, num_test)"
   ]
  },
  {
   "cell_type": "code",
   "execution_count": 17,
   "metadata": {
    "ExecuteTime": {
     "end_time": "2023-06-22T09:35:43.657679Z",
     "start_time": "2023-06-22T09:35:43.623756Z"
    }
   },
   "outputs": [],
   "source": []
  }
 ],
 "metadata": {
  "kernelspec": {
   "display_name": "Python 3 (ipykernel)",
   "language": "python",
   "name": "python3"
  },
  "language_info": {
   "codemirror_mode": {
    "name": "ipython",
    "version": 3
   },
   "file_extension": ".py",
   "mimetype": "text/x-python",
   "name": "python",
   "nbconvert_exporter": "python",
   "pygments_lexer": "ipython3",
   "version": "3.11.0"
  }
 },
 "nbformat": 4,
 "nbformat_minor": 1
}
