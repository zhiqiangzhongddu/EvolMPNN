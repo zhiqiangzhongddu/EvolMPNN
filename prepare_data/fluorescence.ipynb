{
 "cells": [
  {
   "cell_type": "code",
   "execution_count": 1,
   "metadata": {
    "ExecuteTime": {
     "end_time": "2023-07-23T15:28:16.544259Z",
     "start_time": "2023-07-23T15:28:16.542071Z"
    }
   },
   "outputs": [],
   "source": [
    "import numpy as np\n",
    "import pandas as pd\n",
    "import itertools\n",
    "import seaborn as sns\n",
    "\n",
    "import warnings\n",
    "warnings.filterwarnings('ignore')"
   ]
  },
  {
   "cell_type": "code",
   "execution_count": 2,
   "metadata": {
    "ExecuteTime": {
     "end_time": "2023-07-23T15:28:16.545019Z",
     "start_time": "2023-07-23T15:28:16.543168Z"
    }
   },
   "outputs": [],
   "source": [
    "fluorescence_train_file = \"../../data/PEER/fluorescence/raw/fluorescence_train.json\"\n",
    "fluorescence_val_file = \"../../data/PEER/fluorescence/raw/fluorescence_valid.json\"\n",
    "fluorescence_test_file = \"../../data/PEER/fluorescence/raw/fluorescence_test.json\"\n",
    "fluorescence_full_data_file = \"../../data/PEER/fluorescence/splits/full_data.csv\"\n",
    "fluorescence_split_data_one_vs_many_file = \"../../data/PEER/fluorescence/splits/one_vs_many.csv\"\n",
    "fluorescence_split_data_two_vs_many_file = \"../../data/PEER/fluorescence/splits/two_vs_many.csv\"\n",
    "fluorescence_split_data_three_vs_many_file = \"../../data/PEER/fluorescence/splits/three_vs_many.csv\"\n",
    "fluorescence_split_data_seven_vs_many_file = \"../../data/PEER/fluorescence/splits/seven_vs_many.csv\"\n",
    "fluorescence_split_data_low_vs_high_file = \"../../data/PEER/fluorescence/splits/low_vs_high.csv\"\n",
    "fluorescence_split_data_sampled_file = \"../../data/PEER/fluorescence/splits/sampled.csv\"\n",
    "\n",
    "fluorescence_reference_seq = \"\"\"\n",
    "SKGEELFTGVVPILVELDGDVNGHKFSVSGEGEGDATYGKLTLKFICTTGKLPVPWPTLVTTLSYGVQ\n",
    "CFSRYPDHMKQHDFFKSAMPEGYVQERTIFFKDDGNYKTRAEVKFEGDTLVNRIELKGIDFKEDGNIL\n",
    "GHKLEYNYNSHNVYIMADKQKNGIKVNFKIRHNIEDGSVQLADHYQQNTPIGDGPVLLPDNHYLSTQS\n",
    "ALSKDPNEKRDHMVLLEFVTAAGITHGMDELYK\n",
    "\"\"\".replace(\"\\n\", \"\")"
   ]
  },
  {
   "cell_type": "code",
   "execution_count": 3,
   "metadata": {
    "ExecuteTime": {
     "end_time": "2023-07-23T15:28:16.945520Z",
     "start_time": "2023-07-23T15:28:16.543906Z"
    }
   },
   "outputs": [
    {
     "name": "stdout",
     "output_type": "stream",
     "text": [
      "<class 'pandas.core.frame.DataFrame'>\n",
      "RangeIndex: 21446 entries, 0 to 21445\n",
      "Data columns (total 5 columns):\n",
      " #   Column            Non-Null Count  Dtype \n",
      "---  ------            --------------  ----- \n",
      " 0   primary           21446 non-null  object\n",
      " 1   protein_length    21446 non-null  int64 \n",
      " 2   log_fluorescence  21446 non-null  object\n",
      " 3   num_mutations     21446 non-null  int64 \n",
      " 4   id                21446 non-null  int64 \n",
      "dtypes: int64(3), object(2)\n",
      "memory usage: 837.9+ KB\n",
      "None\n"
     ]
    },
    {
     "data": {
      "text/plain": "                                             primary  protein_length  \\\n0  SKGEELFTGVVPILVELDGDVNGHKFSVSGEGEGDATYGKLTLKFI...             237   \n1  SKGEELFTGVVPILVELDGDVNGHKFSVSGEGEGDATYGKLTLKFI...             237   \n2  SKGEELFTGVVPILVELDGDVNGHKFSVSGEGEGDATYGKLTLKFI...             237   \n3  SKGEELFTGVVPILVELDGDVNGHKFSVSGEGEGDATYGKLTLKFI...             237   \n4  SKGEELFTGVVPILVELDGDVNGHKFSVSGEGEGDATYGKLTLKFI...             237   \n\n       log_fluorescence  num_mutations  id  \n0  [3.8237006664276123]              2   0  \n1   [3.752084016799926]              2   1  \n2   [3.540156364440918]              2   2  \n3   [3.691571950912475]              2   3  \n4   [3.688142776489258]              3   4  ",
      "text/html": "<div>\n<style scoped>\n    .dataframe tbody tr th:only-of-type {\n        vertical-align: middle;\n    }\n\n    .dataframe tbody tr th {\n        vertical-align: top;\n    }\n\n    .dataframe thead th {\n        text-align: right;\n    }\n</style>\n<table border=\"1\" class=\"dataframe\">\n  <thead>\n    <tr style=\"text-align: right;\">\n      <th></th>\n      <th>primary</th>\n      <th>protein_length</th>\n      <th>log_fluorescence</th>\n      <th>num_mutations</th>\n      <th>id</th>\n    </tr>\n  </thead>\n  <tbody>\n    <tr>\n      <th>0</th>\n      <td>SKGEELFTGVVPILVELDGDVNGHKFSVSGEGEGDATYGKLTLKFI...</td>\n      <td>237</td>\n      <td>[3.8237006664276123]</td>\n      <td>2</td>\n      <td>0</td>\n    </tr>\n    <tr>\n      <th>1</th>\n      <td>SKGEELFTGVVPILVELDGDVNGHKFSVSGEGEGDATYGKLTLKFI...</td>\n      <td>237</td>\n      <td>[3.752084016799926]</td>\n      <td>2</td>\n      <td>1</td>\n    </tr>\n    <tr>\n      <th>2</th>\n      <td>SKGEELFTGVVPILVELDGDVNGHKFSVSGEGEGDATYGKLTLKFI...</td>\n      <td>237</td>\n      <td>[3.540156364440918]</td>\n      <td>2</td>\n      <td>2</td>\n    </tr>\n    <tr>\n      <th>3</th>\n      <td>SKGEELFTGVVPILVELDGDVNGHKFSVSGEGEGDATYGKLTLKFI...</td>\n      <td>237</td>\n      <td>[3.691571950912475]</td>\n      <td>2</td>\n      <td>3</td>\n    </tr>\n    <tr>\n      <th>4</th>\n      <td>SKGEELFTGVVPILVELDGDVNGHKFSVSGEGEGDATYGKLTLKFI...</td>\n      <td>237</td>\n      <td>[3.688142776489258]</td>\n      <td>3</td>\n      <td>4</td>\n    </tr>\n  </tbody>\n</table>\n</div>"
     },
     "execution_count": 3,
     "metadata": {},
     "output_type": "execute_result"
    }
   ],
   "source": [
    "df_fluorescence_train = pd.read_json(fluorescence_train_file)\n",
    "print(df_fluorescence_train.info())\n",
    "df_fluorescence_train.head()"
   ]
  },
  {
   "cell_type": "code",
   "execution_count": 4,
   "metadata": {
    "ExecuteTime": {
     "end_time": "2023-07-23T15:28:17.049507Z",
     "start_time": "2023-07-23T15:28:16.945301Z"
    }
   },
   "outputs": [
    {
     "name": "stdout",
     "output_type": "stream",
     "text": [
      "<class 'pandas.core.frame.DataFrame'>\n",
      "RangeIndex: 5362 entries, 0 to 5361\n",
      "Data columns (total 5 columns):\n",
      " #   Column            Non-Null Count  Dtype \n",
      "---  ------            --------------  ----- \n",
      " 0   primary           5362 non-null   object\n",
      " 1   protein_length    5362 non-null   int64 \n",
      " 2   log_fluorescence  5362 non-null   object\n",
      " 3   num_mutations     5362 non-null   int64 \n",
      " 4   id                5362 non-null   int64 \n",
      "dtypes: int64(3), object(2)\n",
      "memory usage: 209.6+ KB\n",
      "None\n"
     ]
    },
    {
     "data": {
      "text/plain": "                                             primary  protein_length  \\\n0  SKGEELFTGVVPILVELDGDVNGHKFSVSGEGEGDATYGKLTLKFI...             237   \n1  SKGEELFTGVVPILVELDGDVNGHKFSVSGEGEGDATYGKLTLKFI...             237   \n2  SKGEELFTGVVPILVELDGDVNGHKFSVSGEGEGDATYGKLTLKFI...             237   \n3  SKGEELFTGVVPILVELDGDVNGHKFSVSGEGEGDATYGKLTLKFI...             237   \n4  SKGEELFTGVVPILVELGGDVNGHKFSVSGEGEGDATYGKLTLKFI...             237   \n\n       log_fluorescence  num_mutations  id  \n0   [3.552324056625366]              3   0  \n1   [3.689570426940918]              3   1  \n2   [3.546789407730102]              2   2  \n3   [3.641964197158813]              3   3  \n4  [3.6524429321289062]              2   4  ",
      "text/html": "<div>\n<style scoped>\n    .dataframe tbody tr th:only-of-type {\n        vertical-align: middle;\n    }\n\n    .dataframe tbody tr th {\n        vertical-align: top;\n    }\n\n    .dataframe thead th {\n        text-align: right;\n    }\n</style>\n<table border=\"1\" class=\"dataframe\">\n  <thead>\n    <tr style=\"text-align: right;\">\n      <th></th>\n      <th>primary</th>\n      <th>protein_length</th>\n      <th>log_fluorescence</th>\n      <th>num_mutations</th>\n      <th>id</th>\n    </tr>\n  </thead>\n  <tbody>\n    <tr>\n      <th>0</th>\n      <td>SKGEELFTGVVPILVELDGDVNGHKFSVSGEGEGDATYGKLTLKFI...</td>\n      <td>237</td>\n      <td>[3.552324056625366]</td>\n      <td>3</td>\n      <td>0</td>\n    </tr>\n    <tr>\n      <th>1</th>\n      <td>SKGEELFTGVVPILVELDGDVNGHKFSVSGEGEGDATYGKLTLKFI...</td>\n      <td>237</td>\n      <td>[3.689570426940918]</td>\n      <td>3</td>\n      <td>1</td>\n    </tr>\n    <tr>\n      <th>2</th>\n      <td>SKGEELFTGVVPILVELDGDVNGHKFSVSGEGEGDATYGKLTLKFI...</td>\n      <td>237</td>\n      <td>[3.546789407730102]</td>\n      <td>2</td>\n      <td>2</td>\n    </tr>\n    <tr>\n      <th>3</th>\n      <td>SKGEELFTGVVPILVELDGDVNGHKFSVSGEGEGDATYGKLTLKFI...</td>\n      <td>237</td>\n      <td>[3.641964197158813]</td>\n      <td>3</td>\n      <td>3</td>\n    </tr>\n    <tr>\n      <th>4</th>\n      <td>SKGEELFTGVVPILVELGGDVNGHKFSVSGEGEGDATYGKLTLKFI...</td>\n      <td>237</td>\n      <td>[3.6524429321289062]</td>\n      <td>2</td>\n      <td>4</td>\n    </tr>\n  </tbody>\n</table>\n</div>"
     },
     "execution_count": 4,
     "metadata": {},
     "output_type": "execute_result"
    }
   ],
   "source": [
    "df_fluorescence_val = pd.read_json(fluorescence_val_file)\n",
    "print(df_fluorescence_val.info())\n",
    "df_fluorescence_val.head()"
   ]
  },
  {
   "cell_type": "code",
   "execution_count": 5,
   "metadata": {
    "ExecuteTime": {
     "end_time": "2023-07-23T15:28:17.303377Z",
     "start_time": "2023-07-23T15:28:17.053188Z"
    }
   },
   "outputs": [
    {
     "name": "stdout",
     "output_type": "stream",
     "text": [
      "<class 'pandas.core.frame.DataFrame'>\n",
      "RangeIndex: 27217 entries, 0 to 27216\n",
      "Data columns (total 5 columns):\n",
      " #   Column            Non-Null Count  Dtype \n",
      "---  ------            --------------  ----- \n",
      " 0   primary           27217 non-null  object\n",
      " 1   protein_length    27217 non-null  int64 \n",
      " 2   log_fluorescence  27217 non-null  object\n",
      " 3   num_mutations     27217 non-null  int64 \n",
      " 4   id                27217 non-null  int64 \n",
      "dtypes: int64(3), object(2)\n",
      "memory usage: 1.0+ MB\n",
      "None\n"
     ]
    },
    {
     "data": {
      "text/plain": "                                             primary  protein_length  \\\n0  SKGEELFTGVVPILVELDGDVNGHKFSVSGEGEGDATYGKLTLKFI...             237   \n1  SKGEELFTGVVPILVELDGDVNGHKFSVSGEGEGDATYGKLTLKFI...             237   \n2  SKGEELFTGVVPILVELDGDVNGHKFSVSGEGEGDATYGKLTLKFI...             237   \n3  SKGEELFTGVVPILVELDGDVNGHKFSVSGEGEGDATYGKLTLKFI...             237   \n4  SKGEELFTGVVPILVELDGDVNGHKFSVSGEGEGDATYGKLTLKFI...             237   \n\n      log_fluorescence  num_mutations  id  \n0  [1.301031231880188]              5   0  \n1  [1.301189064979553]              4   1  \n2  [3.582764148712158]              4   2  \n3   [1.49957275390625]              5   3  \n4  [3.573854923248291]              5   4  ",
      "text/html": "<div>\n<style scoped>\n    .dataframe tbody tr th:only-of-type {\n        vertical-align: middle;\n    }\n\n    .dataframe tbody tr th {\n        vertical-align: top;\n    }\n\n    .dataframe thead th {\n        text-align: right;\n    }\n</style>\n<table border=\"1\" class=\"dataframe\">\n  <thead>\n    <tr style=\"text-align: right;\">\n      <th></th>\n      <th>primary</th>\n      <th>protein_length</th>\n      <th>log_fluorescence</th>\n      <th>num_mutations</th>\n      <th>id</th>\n    </tr>\n  </thead>\n  <tbody>\n    <tr>\n      <th>0</th>\n      <td>SKGEELFTGVVPILVELDGDVNGHKFSVSGEGEGDATYGKLTLKFI...</td>\n      <td>237</td>\n      <td>[1.301031231880188]</td>\n      <td>5</td>\n      <td>0</td>\n    </tr>\n    <tr>\n      <th>1</th>\n      <td>SKGEELFTGVVPILVELDGDVNGHKFSVSGEGEGDATYGKLTLKFI...</td>\n      <td>237</td>\n      <td>[1.301189064979553]</td>\n      <td>4</td>\n      <td>1</td>\n    </tr>\n    <tr>\n      <th>2</th>\n      <td>SKGEELFTGVVPILVELDGDVNGHKFSVSGEGEGDATYGKLTLKFI...</td>\n      <td>237</td>\n      <td>[3.582764148712158]</td>\n      <td>4</td>\n      <td>2</td>\n    </tr>\n    <tr>\n      <th>3</th>\n      <td>SKGEELFTGVVPILVELDGDVNGHKFSVSGEGEGDATYGKLTLKFI...</td>\n      <td>237</td>\n      <td>[1.49957275390625]</td>\n      <td>5</td>\n      <td>3</td>\n    </tr>\n    <tr>\n      <th>4</th>\n      <td>SKGEELFTGVVPILVELDGDVNGHKFSVSGEGEGDATYGKLTLKFI...</td>\n      <td>237</td>\n      <td>[3.573854923248291]</td>\n      <td>5</td>\n      <td>4</td>\n    </tr>\n  </tbody>\n</table>\n</div>"
     },
     "execution_count": 5,
     "metadata": {},
     "output_type": "execute_result"
    }
   ],
   "source": [
    "df_fluorescence_test = pd.read_json(fluorescence_test_file)\n",
    "print(df_fluorescence_test.info())\n",
    "df_fluorescence_test.head()"
   ]
  },
  {
   "cell_type": "code",
   "execution_count": 6,
   "metadata": {
    "ExecuteTime": {
     "end_time": "2023-07-23T15:28:17.334705Z",
     "start_time": "2023-07-23T15:28:17.303247Z"
    }
   },
   "outputs": [
    {
     "name": "stdout",
     "output_type": "stream",
     "text": [
      "num_all: 54025, num_train: 21446, num_val: 5362, num_test: 27217\n"
     ]
    }
   ],
   "source": [
    "num_train = df_fluorescence_train.shape[0]\n",
    "num_val = df_fluorescence_val.shape[0]\n",
    "num_test = df_fluorescence_test.shape[0]\n",
    "num_all = num_train + num_val + num_test\n",
    "\n",
    "print(\"num_all: {}, num_train: {}, num_val: {}, num_test: {}\".format(num_all, num_train, num_val, num_test))"
   ]
  },
  {
   "cell_type": "code",
   "execution_count": 7,
   "metadata": {
    "ExecuteTime": {
     "end_time": "2023-07-23T15:28:17.358484Z",
     "start_time": "2023-07-23T15:28:17.321334Z"
    }
   },
   "outputs": [
    {
     "name": "stdout",
     "output_type": "stream",
     "text": [
      "Train\n",
      "2    10433\n",
      "3    10135\n",
      "1      877\n",
      "0        1\n",
      "Name: num_mutations, dtype: int64\n",
      "Validation\n",
      "2    2577\n",
      "3    2548\n",
      "1     237\n",
      "Name: num_mutations, dtype: int64\n",
      "Test\n",
      "4     9759\n",
      "5     7215\n",
      "6     4643\n",
      "7     2783\n",
      "8     1526\n",
      "9      714\n",
      "10     352\n",
      "11     142\n",
      "12      50\n",
      "13      25\n",
      "14       6\n",
      "15       2\n",
      "Name: num_mutations, dtype: int64\n"
     ]
    }
   ],
   "source": [
    "print('Train')\n",
    "print(df_fluorescence_train['num_mutations'].value_counts())\n",
    "print('Validation')\n",
    "print(df_fluorescence_val['num_mutations'].value_counts())\n",
    "print('Test')\n",
    "print(df_fluorescence_test['num_mutations'].value_counts())"
   ]
  },
  {
   "cell_type": "code",
   "execution_count": 8,
   "metadata": {
    "ExecuteTime": {
     "end_time": "2023-07-23T15:28:17.425043Z",
     "start_time": "2023-07-23T15:28:17.377389Z"
    }
   },
   "outputs": [],
   "source": [
    "num_mutations = [\n",
    "    df_fluorescence_train['num_mutations'].values.tolist(),\n",
    "    df_fluorescence_val['num_mutations'].values.tolist(),\n",
    "    df_fluorescence_test['num_mutations'].values.tolist(),\n",
    "]\n",
    "list_cat = [\n",
    "    ['Train'] * df_fluorescence_train['num_mutations'].shape[0],\n",
    "    ['Val'] * df_fluorescence_val['num_mutations'].shape[0],\n",
    "    ['Test'] * df_fluorescence_test['num_mutations'].shape[0]\n",
    "]\n",
    "num_mutations = list(itertools.chain.from_iterable(num_mutations))\n",
    "list_cat = list(itertools.chain.from_iterable(list_cat))\n",
    "\n",
    "df_plot = pd.DataFrame({\n",
    "    'num_mutations': num_mutations,\n",
    "    'cat': list_cat,\n",
    "})"
   ]
  },
  {
   "cell_type": "code",
   "execution_count": 9,
   "metadata": {
    "ExecuteTime": {
     "end_time": "2023-07-23T15:28:19.273828Z",
     "start_time": "2023-07-23T15:28:17.424770Z"
    }
   },
   "outputs": [
    {
     "data": {
      "text/plain": "array([[<Axes: title={'center': 'Test'}>,\n        <Axes: title={'center': 'Train'}>],\n       [<Axes: title={'center': 'Val'}>, <Axes: >]], dtype=object)"
     },
     "execution_count": 9,
     "metadata": {},
     "output_type": "execute_result"
    },
    {
     "data": {
      "text/plain": "<Figure size 640x480 with 1 Axes>",
      "image/png": "[encoded data removed]"
     },
     "metadata": {},
     "output_type": "display_data"
    },
    {
     "data": {
      "text/plain": "<Figure size 640x480 with 4 Axes>",
      "image/png": "[encoded data removed]"
     },
     "metadata": {},
     "output_type": "display_data"
    }
   ],
   "source": [
    "df_plot['num_mutations'].hist(bins=30)\n",
    "df_plot['num_mutations'].hist(by=df_plot['cat'])"
   ]
  },
  {
   "cell_type": "code",
   "execution_count": 10,
   "metadata": {
    "ExecuteTime": {
     "end_time": "2023-07-23T15:28:19.977268Z",
     "start_time": "2023-07-23T15:28:19.181957Z"
    }
   },
   "outputs": [
    {
     "data": {
      "text/plain": "<seaborn.axisgrid.FacetGrid at 0x7f3c1ebb6850>"
     },
     "execution_count": 10,
     "metadata": {},
     "output_type": "execute_result"
    },
    {
     "data": {
      "text/plain": "<Figure size 583.625x500 with 1 Axes>",
      "image/png": "[encoded data removed]"
     },
     "metadata": {},
     "output_type": "display_data"
    }
   ],
   "source": [
    "sns.displot(df_plot, x=\"num_mutations\", hue=\"cat\", element=\"step\", bins=30)"
   ]
  },
  {
   "cell_type": "code",
   "execution_count": 11,
   "outputs": [],
   "source": [
    "# prepare full data\n",
    "df_fluorescence_full_data = pd.concat(\n",
    "    [df_fluorescence_train, df_fluorescence_val, df_fluorescence_test],\n",
    "    ignore_index=True\n",
    ")\n",
    "df_fluorescence_full_data['log_fluorescence'] = df_fluorescence_full_data['log_fluorescence'].apply(lambda item: item[0])\n",
    "\n",
    "# save file\n",
    "df_fluorescence_full_data.to_csv(\n",
    "    fluorescence_full_data_file,\n",
    "    index=False\n",
    ")\n",
    "del df_fluorescence_full_data"
   ],
   "metadata": {
    "collapsed": false,
    "ExecuteTime": {
     "end_time": "2023-07-23T15:28:20.639157Z",
     "start_time": "2023-07-23T15:28:19.976951Z"
    }
   }
  },
  {
   "cell_type": "code",
   "execution_count": 12,
   "outputs": [
    {
     "data": {
      "text/plain": "                                             primary  protein_length  \\\n0  SKGEELFTGVVPILVELDGDVNGHKFSVSGEGEGDATYGKLTLKFI...             237   \n1  SKGEELFTGVVPILVELDGDVNGHKFSVSGEGEGDATYGKLTLKFI...             237   \n2  SKGEELFTGVVPILVELDGDVNGHKFSVSGEGEGDATYGKLTLKFI...             237   \n3  SKGEELFTGVVPILVELDGDVNGHKFSVSGEGEGDATYGKLTLKFI...             237   \n4  SKGEELFTGVVPILVELDGDVNGHKFSVSGEGEGDATYGKLTLKFI...             237   \n\n   log_fluorescence  num_mutations  id  \n0          3.823701              2   0  \n1          3.752084              2   1  \n2          3.540156              2   2  \n3          3.691572              2   3  \n4          3.688143              3   4  ",
      "text/html": "<div>\n<style scoped>\n    .dataframe tbody tr th:only-of-type {\n        vertical-align: middle;\n    }\n\n    .dataframe tbody tr th {\n        vertical-align: top;\n    }\n\n    .dataframe thead th {\n        text-align: right;\n    }\n</style>\n<table border=\"1\" class=\"dataframe\">\n  <thead>\n    <tr style=\"text-align: right;\">\n      <th></th>\n      <th>primary</th>\n      <th>protein_length</th>\n      <th>log_fluorescence</th>\n      <th>num_mutations</th>\n      <th>id</th>\n    </tr>\n  </thead>\n  <tbody>\n    <tr>\n      <th>0</th>\n      <td>SKGEELFTGVVPILVELDGDVNGHKFSVSGEGEGDATYGKLTLKFI...</td>\n      <td>237</td>\n      <td>3.823701</td>\n      <td>2</td>\n      <td>0</td>\n    </tr>\n    <tr>\n      <th>1</th>\n      <td>SKGEELFTGVVPILVELDGDVNGHKFSVSGEGEGDATYGKLTLKFI...</td>\n      <td>237</td>\n      <td>3.752084</td>\n      <td>2</td>\n      <td>1</td>\n    </tr>\n    <tr>\n      <th>2</th>\n      <td>SKGEELFTGVVPILVELDGDVNGHKFSVSGEGEGDATYGKLTLKFI...</td>\n      <td>237</td>\n      <td>3.540156</td>\n      <td>2</td>\n      <td>2</td>\n    </tr>\n    <tr>\n      <th>3</th>\n      <td>SKGEELFTGVVPILVELDGDVNGHKFSVSGEGEGDATYGKLTLKFI...</td>\n      <td>237</td>\n      <td>3.691572</td>\n      <td>2</td>\n      <td>3</td>\n    </tr>\n    <tr>\n      <th>4</th>\n      <td>SKGEELFTGVVPILVELDGDVNGHKFSVSGEGEGDATYGKLTLKFI...</td>\n      <td>237</td>\n      <td>3.688143</td>\n      <td>3</td>\n      <td>4</td>\n    </tr>\n  </tbody>\n</table>\n</div>"
     },
     "execution_count": 12,
     "metadata": {},
     "output_type": "execute_result"
    }
   ],
   "source": [
    "df_fluorescence_full_data = pd.read_csv(fluorescence_full_data_file)\n",
    "df_fluorescence_full_data.head()"
   ],
   "metadata": {
    "collapsed": false,
    "ExecuteTime": {
     "end_time": "2023-07-23T15:28:20.901646Z",
     "start_time": "2023-07-23T15:28:20.638866Z"
    }
   }
  },
  {
   "cell_type": "markdown",
   "metadata": {},
   "source": [
    "### one-vs-many"
   ]
  },
  {
   "cell_type": "code",
   "execution_count": 13,
   "metadata": {
    "ExecuteTime": {
     "end_time": "2023-07-23T15:28:21.764703Z",
     "start_time": "2023-07-23T15:28:20.901332Z"
    }
   },
   "outputs": [],
   "source": [
    "# find train+val set\n",
    "df_fluorescence_split_data_one_vs_many_train_and_val = df_fluorescence_full_data[\n",
    "    df_fluorescence_full_data['num_mutations'] < 2\n",
    "].reset_index(drop=True)\n",
    "\n",
    "# select train/val by index\n",
    "indices = np.random.permutation(df_fluorescence_split_data_one_vs_many_train_and_val.shape[0])\n",
    "train_idx = indices[:int(df_fluorescence_split_data_one_vs_many_train_and_val.shape[0]*0.9)]\n",
    "val_idx = indices[int(df_fluorescence_split_data_one_vs_many_train_and_val.shape[0]*0.9):]\n",
    "\n",
    "df_fluorescence_split_data_one_vs_many_train = df_fluorescence_split_data_one_vs_many_train_and_val.iloc[train_idx].reset_index(drop=True)\n",
    "df_fluorescence_split_data_one_vs_many_val = df_fluorescence_split_data_one_vs_many_train_and_val.iloc[val_idx].reset_index(drop=True)\n",
    "\n",
    "# find test set\n",
    "df_fluorescence_split_data_one_vs_many_test = df_fluorescence_full_data[\n",
    "    df_fluorescence_full_data['num_mutations'] >= 2\n",
    "].reset_index(drop=True)\n",
    "\n",
    "df_fluorescence_split_data_one_vs_many_train['set'] = 'train'\n",
    "df_fluorescence_split_data_one_vs_many_train['validation'] = False\n",
    "df_fluorescence_split_data_one_vs_many_val['set'] = 'train'\n",
    "df_fluorescence_split_data_one_vs_many_val['validation'] = True\n",
    "df_fluorescence_split_data_one_vs_many_test['set'] = 'test'\n",
    "df_fluorescence_split_data_one_vs_many_test['validation'] = False\n",
    "\n",
    "df_fluorescence_split_data_one_vs_many = pd.concat(\n",
    "    [df_fluorescence_split_data_one_vs_many_train,\n",
    "     df_fluorescence_split_data_one_vs_many_val,\n",
    "     df_fluorescence_split_data_one_vs_many_test],\n",
    "    axis=0, ignore_index=True\n",
    ").reset_index(drop=True)\n",
    "\n",
    "# save file\n",
    "df_fluorescence_split_data_one_vs_many.to_csv(\n",
    "    fluorescence_split_data_one_vs_many_file,\n",
    "    index=False\n",
    ")\n",
    "\n",
    "del df_fluorescence_split_data_one_vs_many_train_and_val\n",
    "del df_fluorescence_split_data_one_vs_many_train\n",
    "del df_fluorescence_split_data_one_vs_many_val\n",
    "del df_fluorescence_split_data_one_vs_many_test\n",
    "del df_fluorescence_split_data_one_vs_many"
   ]
  },
  {
   "cell_type": "code",
   "execution_count": 14,
   "outputs": [
    {
     "name": "stdout",
     "output_type": "stream",
     "text": [
      "one-many 54025 1003 112 52910\n"
     ]
    }
   ],
   "source": [
    "df_fluorescence_split_data_one_vs_many = pd.read_csv(fluorescence_split_data_one_vs_many_file)\n",
    "num_val = df_fluorescence_split_data_one_vs_many['validation'].sum()\n",
    "num_train = df_fluorescence_split_data_one_vs_many.set.value_counts()['train'] - num_val\n",
    "num_test = df_fluorescence_split_data_one_vs_many.set.value_counts()['test']\n",
    "num_all = num_train + num_val + num_test\n",
    "print('one-many', num_all, num_train, num_val, num_test)"
   ],
   "metadata": {
    "collapsed": false,
    "ExecuteTime": {
     "end_time": "2023-07-23T15:28:21.970162Z",
     "start_time": "2023-07-23T15:28:21.764538Z"
    }
   }
  },
  {
   "cell_type": "markdown",
   "metadata": {},
   "source": [
    "### two-vs-many"
   ]
  },
  {
   "cell_type": "code",
   "execution_count": 15,
   "outputs": [],
   "source": [
    "# find train+val set\n",
    "df_fluorescence_split_data_two_vs_many_train_and_val = df_fluorescence_full_data[\n",
    "    df_fluorescence_full_data['num_mutations'] < 3\n",
    "].reset_index(drop=True)\n",
    "\n",
    "# select train/val by index\n",
    "indices = np.random.permutation(df_fluorescence_split_data_two_vs_many_train_and_val.shape[0])\n",
    "train_idx = indices[:int(df_fluorescence_split_data_two_vs_many_train_and_val.shape[0]*0.9)]\n",
    "val_idx = indices[int(df_fluorescence_split_data_two_vs_many_train_and_val.shape[0]*0.9):]\n",
    "\n",
    "df_fluorescence_split_data_two_vs_many_train = df_fluorescence_split_data_two_vs_many_train_and_val.iloc[train_idx].reset_index(drop=True)\n",
    "df_fluorescence_split_data_two_vs_many_val = df_fluorescence_split_data_two_vs_many_train_and_val.iloc[val_idx].reset_index(drop=True)\n",
    "\n",
    "# find test set\n",
    "df_fluorescence_split_data_two_vs_many_test = df_fluorescence_full_data[\n",
    "    df_fluorescence_full_data['num_mutations'] >= 3\n",
    "].reset_index(drop=True)\n",
    "\n",
    "df_fluorescence_split_data_two_vs_many_train['set'] = 'train'\n",
    "df_fluorescence_split_data_two_vs_many_train['validation'] = False\n",
    "df_fluorescence_split_data_two_vs_many_val['set'] = 'train'\n",
    "df_fluorescence_split_data_two_vs_many_val['validation'] = True\n",
    "df_fluorescence_split_data_two_vs_many_test['set'] = 'test'\n",
    "df_fluorescence_split_data_two_vs_many_test['validation'] = False\n",
    "\n",
    "df_fluorescence_split_data_two_vs_many = pd.concat(\n",
    "    [df_fluorescence_split_data_two_vs_many_train,\n",
    "     df_fluorescence_split_data_two_vs_many_val,\n",
    "     df_fluorescence_split_data_two_vs_many_test],\n",
    "    axis=0, ignore_index=True\n",
    ").reset_index(drop=True)\n",
    "\n",
    "# save file\n",
    "df_fluorescence_split_data_two_vs_many.to_csv(\n",
    "    fluorescence_split_data_two_vs_many_file,\n",
    "    index=False\n",
    ")\n",
    "\n",
    "del df_fluorescence_split_data_two_vs_many_train_and_val\n",
    "del df_fluorescence_split_data_two_vs_many_train\n",
    "del df_fluorescence_split_data_two_vs_many_val\n",
    "del df_fluorescence_split_data_two_vs_many_test\n",
    "del df_fluorescence_split_data_two_vs_many"
   ],
   "metadata": {
    "collapsed": false,
    "ExecuteTime": {
     "end_time": "2023-07-23T15:28:23.026391Z",
     "start_time": "2023-07-23T15:28:21.969599Z"
    }
   }
  },
  {
   "cell_type": "code",
   "execution_count": 16,
   "outputs": [
    {
     "name": "stdout",
     "output_type": "stream",
     "text": [
      "two-many 54025 12712 1413 39900\n"
     ]
    }
   ],
   "source": [
    "df_fluorescence_split_data_two_vs_many = pd.read_csv(fluorescence_split_data_two_vs_many_file)\n",
    "num_val = df_fluorescence_split_data_two_vs_many['validation'].sum()\n",
    "num_train = df_fluorescence_split_data_two_vs_many.set.value_counts()['train'] - num_val\n",
    "num_test = df_fluorescence_split_data_two_vs_many.set.value_counts()['test']\n",
    "num_all = num_train + num_val + num_test\n",
    "print('two-many', num_all, num_train, num_val, num_test)"
   ],
   "metadata": {
    "collapsed": false,
    "ExecuteTime": {
     "end_time": "2023-07-23T15:28:23.640372Z",
     "start_time": "2023-07-23T15:28:23.026038Z"
    }
   }
  },
  {
   "cell_type": "markdown",
   "metadata": {},
   "source": [
    "### three-vs-many"
   ]
  },
  {
   "cell_type": "code",
   "execution_count": 17,
   "metadata": {
    "ExecuteTime": {
     "end_time": "2023-07-23T15:28:24.287741Z",
     "start_time": "2023-07-23T15:28:23.638974Z"
    }
   },
   "outputs": [],
   "source": [
    "df_fluorescence_train['set'] = 'train'\n",
    "df_fluorescence_train['validation'] = False\n",
    "df_fluorescence_val['set'] = 'train'\n",
    "df_fluorescence_val['validation'] = True\n",
    "df_fluorescence_test['set'] = 'test'\n",
    "df_fluorescence_test['validation'] = False\n",
    "\n",
    "df_fluorescence_split_data_three_vs_many = pd.concat(\n",
    "    [df_fluorescence_train,\n",
    "     df_fluorescence_val,\n",
    "     df_fluorescence_test],\n",
    "    axis=0, ignore_index=True\n",
    ").reset_index(drop=True)\n",
    "\n",
    "df_fluorescence_split_data_three_vs_many['log_fluorescence'] = df_fluorescence_split_data_three_vs_many['log_fluorescence'].apply(lambda item: item[0])\n",
    "\n",
    "# save file\n",
    "df_fluorescence_split_data_three_vs_many.to_csv(\n",
    "    fluorescence_split_data_three_vs_many_file,\n",
    "    index=False\n",
    ")\n",
    "\n",
    "del df_fluorescence_train\n",
    "del df_fluorescence_val\n",
    "del df_fluorescence_test\n",
    "del df_fluorescence_split_data_three_vs_many"
   ]
  },
  {
   "cell_type": "code",
   "execution_count": 18,
   "outputs": [
    {
     "name": "stdout",
     "output_type": "stream",
     "text": [
      "three-many 54025 21446 5362 27217\n"
     ]
    }
   ],
   "source": [
    "df_fluorescence_split_data_three_vs_many = pd.read_csv(fluorescence_split_data_three_vs_many_file)\n",
    "num_val = df_fluorescence_split_data_three_vs_many['validation'].sum()\n",
    "num_train = df_fluorescence_split_data_three_vs_many.set.value_counts()['train'] - num_val\n",
    "num_test = df_fluorescence_split_data_three_vs_many.set.value_counts()['test']\n",
    "num_all = num_train + num_val + num_test\n",
    "print('three-many', num_all, num_train, num_val, num_test)"
   ],
   "metadata": {
    "collapsed": false,
    "ExecuteTime": {
     "end_time": "2023-07-23T15:28:24.638686Z",
     "start_time": "2023-07-23T15:28:24.287626Z"
    }
   }
  },
  {
   "cell_type": "markdown",
   "source": [
    "## seven-vs-many"
   ],
   "metadata": {
    "collapsed": false
   }
  },
  {
   "cell_type": "code",
   "execution_count": 19,
   "outputs": [],
   "source": [
    "# find train+val set\n",
    "df_fluorescence_split_data_seven_vs_many_train_and_val = df_fluorescence_full_data[\n",
    "    df_fluorescence_full_data['num_mutations'] < 8\n",
    "].reset_index(drop=True)\n",
    "\n",
    "# select train/val by index\n",
    "indices = np.random.permutation(df_fluorescence_split_data_seven_vs_many_train_and_val.shape[0])\n",
    "train_idx = indices[:int(df_fluorescence_split_data_seven_vs_many_train_and_val.shape[0]*0.9)]\n",
    "val_idx = indices[int(df_fluorescence_split_data_seven_vs_many_train_and_val.shape[0]*0.9):]\n",
    "\n",
    "df_fluorescence_split_data_seven_vs_many_train = df_fluorescence_split_data_seven_vs_many_train_and_val.iloc[train_idx].reset_index(drop=True)\n",
    "df_fluorescence_split_data_seven_vs_many_val = df_fluorescence_split_data_seven_vs_many_train_and_val.iloc[val_idx].reset_index(drop=True)\n",
    "\n",
    "# find test set\n",
    "df_fluorescence_split_data_seven_vs_many_test = df_fluorescence_full_data[\n",
    "    df_fluorescence_full_data['num_mutations'] >= 8\n",
    "].reset_index(drop=True)\n",
    "\n",
    "df_fluorescence_split_data_seven_vs_many_train['set'] = 'train'\n",
    "df_fluorescence_split_data_seven_vs_many_train['validation'] = False\n",
    "df_fluorescence_split_data_seven_vs_many_val['set'] = 'train'\n",
    "df_fluorescence_split_data_seven_vs_many_val['validation'] = True\n",
    "df_fluorescence_split_data_seven_vs_many_test['set'] = 'test'\n",
    "df_fluorescence_split_data_seven_vs_many_test['validation'] = False\n",
    "\n",
    "df_fluorescence_split_data_seven_vs_many = pd.concat(\n",
    "    [df_fluorescence_split_data_seven_vs_many_train,\n",
    "     df_fluorescence_split_data_seven_vs_many_val,\n",
    "     df_fluorescence_split_data_seven_vs_many_test],\n",
    "    axis=0, ignore_index=True\n",
    ").reset_index(drop=True)\n",
    "\n",
    "# save file\n",
    "df_fluorescence_split_data_seven_vs_many.to_csv(\n",
    "    fluorescence_split_data_seven_vs_many_file,\n",
    "    index=False\n",
    ")\n",
    "\n",
    "del df_fluorescence_split_data_seven_vs_many_train_and_val\n",
    "del df_fluorescence_split_data_seven_vs_many_train\n",
    "del df_fluorescence_split_data_seven_vs_many_val\n",
    "del df_fluorescence_split_data_seven_vs_many_test\n",
    "del df_fluorescence_split_data_seven_vs_many"
   ],
   "metadata": {
    "collapsed": false,
    "ExecuteTime": {
     "end_time": "2023-07-23T15:28:25.864055Z",
     "start_time": "2023-07-23T15:28:24.635469Z"
    }
   }
  },
  {
   "cell_type": "code",
   "execution_count": 20,
   "outputs": [
    {
     "name": "stdout",
     "output_type": "stream",
     "text": [
      "three-many 54025 46087 5121 2817\n"
     ]
    }
   ],
   "source": [
    "df_fluorescence_split_data_seven_vs_many = pd.read_csv(fluorescence_split_data_seven_vs_many_file)\n",
    "num_val = df_fluorescence_split_data_seven_vs_many['validation'].sum()\n",
    "num_train = df_fluorescence_split_data_seven_vs_many.set.value_counts()['train'] - num_val\n",
    "num_test = df_fluorescence_split_data_seven_vs_many.set.value_counts()['test']\n",
    "num_all = num_train + num_val + num_test\n",
    "print('three-many', num_all, num_train, num_val, num_test)"
   ],
   "metadata": {
    "collapsed": false,
    "ExecuteTime": {
     "end_time": "2023-07-23T15:28:26.342130Z",
     "start_time": "2023-07-23T15:28:25.863940Z"
    }
   }
  },
  {
   "cell_type": "markdown",
   "metadata": {},
   "source": [
    "### low-vs-high"
   ]
  },
  {
   "cell_type": "code",
   "execution_count": 21,
   "outputs": [],
   "source": [
    "fluorescence_reference_seq_log_fluorescence = df_fluorescence_full_data[df_fluorescence_full_data['num_mutations'] == 0]['log_fluorescence'].to_list()[0]"
   ],
   "metadata": {
    "collapsed": false,
    "ExecuteTime": {
     "end_time": "2023-07-23T15:28:26.342226Z",
     "start_time": "2023-07-23T15:28:26.341864Z"
    }
   }
  },
  {
   "cell_type": "code",
   "execution_count": 22,
   "metadata": {
    "ExecuteTime": {
     "end_time": "2023-07-23T15:28:26.980094Z",
     "start_time": "2023-07-23T15:28:26.342280Z"
    }
   },
   "outputs": [],
   "source": [
    "# find train+val set\n",
    "df_fluorescence_split_data_low_vs_high_train_and_val = df_fluorescence_full_data[\n",
    "    df_fluorescence_full_data['log_fluorescence'] <= fluorescence_reference_seq_log_fluorescence\n",
    "].reset_index(drop=True)\n",
    "\n",
    "# select train/val by index\n",
    "indices = np.random.permutation(df_fluorescence_split_data_low_vs_high_train_and_val.shape[0])\n",
    "train_idx = indices[:int(df_fluorescence_split_data_low_vs_high_train_and_val.shape[0]*0.9)]\n",
    "val_idx = indices[int(df_fluorescence_split_data_low_vs_high_train_and_val.shape[0]*0.9):]\n",
    "\n",
    "df_fluorescence_split_data_low_vs_high_train = df_fluorescence_split_data_low_vs_high_train_and_val.iloc[train_idx].reset_index(drop=True)\n",
    "df_fluorescence_split_data_low_vs_high_val = df_fluorescence_split_data_low_vs_high_train_and_val.iloc[val_idx].reset_index(drop=True)\n",
    "\n",
    "# find test set\n",
    "df_fluorescence_split_data_low_vs_high_test = df_fluorescence_full_data[\n",
    "    df_fluorescence_full_data['log_fluorescence'] > fluorescence_reference_seq_log_fluorescence\n",
    "].reset_index(drop=True)\n",
    "\n",
    "df_fluorescence_split_data_low_vs_high_train['set'] = 'train'\n",
    "df_fluorescence_split_data_low_vs_high_train['validation'] = False\n",
    "df_fluorescence_split_data_low_vs_high_val['set'] = 'train'\n",
    "df_fluorescence_split_data_low_vs_high_val['validation'] = True\n",
    "df_fluorescence_split_data_low_vs_high_test['set'] = 'test'\n",
    "df_fluorescence_split_data_low_vs_high_test['validation'] = False\n",
    "\n",
    "df_fluorescence_split_data_low_vs_high = pd.concat(\n",
    "    [df_fluorescence_split_data_low_vs_high_train,\n",
    "     df_fluorescence_split_data_low_vs_high_val,\n",
    "     df_fluorescence_split_data_low_vs_high_test],\n",
    "    axis=0, ignore_index=True\n",
    ").reset_index(drop=True)\n",
    "\n",
    "# save file\n",
    "df_fluorescence_split_data_low_vs_high.to_csv(\n",
    "    fluorescence_split_data_low_vs_high_file,\n",
    "    index=False\n",
    ")\n",
    "\n",
    "del df_fluorescence_split_data_low_vs_high_train_and_val\n",
    "del df_fluorescence_split_data_low_vs_high_train\n",
    "del df_fluorescence_split_data_low_vs_high_val\n",
    "del df_fluorescence_split_data_low_vs_high_test\n",
    "del df_fluorescence_split_data_low_vs_high"
   ]
  },
  {
   "cell_type": "code",
   "execution_count": 23,
   "outputs": [
    {
     "name": "stdout",
     "output_type": "stream",
     "text": [
      "low-high 54025 44082 4899 5044\n"
     ]
    }
   ],
   "source": [
    "df_fluorescence_split_data_low_vs_high = pd.read_csv(fluorescence_split_data_low_vs_high_file)\n",
    "num_val = df_fluorescence_split_data_low_vs_high['validation'].sum()\n",
    "num_train = df_fluorescence_split_data_low_vs_high.set.value_counts()['train'] - num_val\n",
    "num_test = df_fluorescence_split_data_low_vs_high.set.value_counts()['test']\n",
    "num_all = num_train + num_val + num_test\n",
    "print('low-high', num_all, num_train, num_val, num_test)"
   ],
   "metadata": {
    "collapsed": false,
    "ExecuteTime": {
     "end_time": "2023-07-23T15:28:27.396329Z",
     "start_time": "2023-07-23T15:28:26.979896Z"
    }
   }
  },
  {
   "cell_type": "markdown",
   "metadata": {},
   "source": [
    "### sampled"
   ]
  },
  {
   "cell_type": "code",
   "execution_count": 24,
   "outputs": [],
   "source": [
    "# select train/val/test by index\n",
    "indices = np.random.permutation(df_fluorescence_full_data.shape[0])\n",
    "train_val_idx = indices[:int(df_fluorescence_full_data.shape[0]*0.8)]\n",
    "test_idx = indices[int(df_fluorescence_full_data.shape[0]*0.8):]\n",
    "train_idx = train_val_idx[:int(train_val_idx.shape[0]*0.9)]\n",
    "val_idx = train_val_idx[int(train_val_idx.shape[0]*0.9):]\n",
    "\n",
    "df_fluorescence_split_data_sampled_train = df_fluorescence_full_data.iloc[train_idx].reset_index(drop=True)\n",
    "df_fluorescence_split_data_sampled_val = df_fluorescence_full_data.iloc[val_idx].reset_index(drop=True)\n",
    "df_fluorescence_split_data_sampled_test = df_fluorescence_full_data.iloc[test_idx].reset_index(drop=True)\n",
    "\n",
    "df_fluorescence_split_data_sampled_train['set'] = 'train'\n",
    "df_fluorescence_split_data_sampled_train['validation'] = False\n",
    "df_fluorescence_split_data_sampled_val['set'] = 'train'\n",
    "df_fluorescence_split_data_sampled_val['validation'] = True\n",
    "df_fluorescence_split_data_sampled_test['set'] = 'test'\n",
    "df_fluorescence_split_data_sampled_test['validation'] = False\n",
    "\n",
    "df_fluorescence_split_data_sampled = pd.concat(\n",
    "    [df_fluorescence_split_data_sampled_train,\n",
    "     df_fluorescence_split_data_sampled_val,\n",
    "     df_fluorescence_split_data_sampled_test],\n",
    "    axis=0, ignore_index=True\n",
    ").reset_index(drop=True)\n",
    "\n",
    "# save file\n",
    "df_fluorescence_split_data_sampled.to_csv(\n",
    "    fluorescence_split_data_sampled_file,\n",
    "    index=False\n",
    ")\n",
    "\n",
    "del df_fluorescence_split_data_sampled_train\n",
    "del df_fluorescence_split_data_sampled_val\n",
    "del df_fluorescence_split_data_sampled_test\n",
    "del df_fluorescence_split_data_sampled"
   ],
   "metadata": {
    "collapsed": false,
    "ExecuteTime": {
     "end_time": "2023-07-23T15:28:28.625236Z",
     "start_time": "2023-07-23T15:28:27.396455Z"
    }
   }
  },
  {
   "cell_type": "code",
   "execution_count": 25,
   "outputs": [
    {
     "name": "stdout",
     "output_type": "stream",
     "text": [
      "sampled 54025 38898 4322 10805\n"
     ]
    }
   ],
   "source": [
    "df_fluorescence_split_data_sampled = pd.read_csv(fluorescence_split_data_sampled_file)\n",
    "num_val = df_fluorescence_split_data_sampled['validation'].sum()\n",
    "num_train = df_fluorescence_split_data_sampled.set.value_counts()['train'] - num_val\n",
    "num_test = df_fluorescence_split_data_sampled.set.value_counts()['test']\n",
    "num_all = num_train + num_val + num_test\n",
    "print('sampled', num_all, num_train, num_val, num_test)"
   ],
   "metadata": {
    "collapsed": false,
    "ExecuteTime": {
     "end_time": "2023-07-23T15:28:29.035524Z",
     "start_time": "2023-07-23T15:28:28.625105Z"
    }
   }
  },
  {
   "cell_type": "code",
   "execution_count": 25,
   "outputs": [],
   "source": [],
   "metadata": {
    "collapsed": false,
    "ExecuteTime": {
     "end_time": "2023-07-23T15:28:29.035615Z",
     "start_time": "2023-07-23T15:28:29.035439Z"
    }
   }
  }
 ],
 "metadata": {
  "kernelspec": {
   "display_name": "Python 3 (ipykernel)",
   "language": "python",
   "name": "python3"
  },
  "language_info": {
   "codemirror_mode": {
    "name": "ipython",
    "version": 3
   },
   "file_extension": ".py",
   "mimetype": "text/x-python",
   "name": "python",
   "nbconvert_exporter": "python",
   "pygments_lexer": "ipython3",
   "version": "3.11.0"
  }
 },
 "nbformat": 4,
 "nbformat_minor": 1
}
